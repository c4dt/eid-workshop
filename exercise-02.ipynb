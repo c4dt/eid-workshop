{
 "cells": [
  {
   "cell_type": "markdown",
   "id": "2ff09d13-7d4e-412a-9902-9381b6c079db",
   "metadata": {},
   "source": [
    "### Welcome to the second exercise on E-ID in this E-ID Workshop\n",
    "Before we start, make sure you have everything installed by following one of the outlined methods in the ReadMe file. \n",
    "\n",
    "### Purpose of this exercise\n",
    "This jupyter notebook explains the following:\n",
    "1. Basic E-ID example using the BBS cryptographic scheme\n",
    "2. Selective Disclosure using BBS\n",
    "3. Unlinkability using BBS and what role Zero-knowledge proofs play in it.\n",
    "5. The previous points will use the **docknetwork crypto library**"
   ]
  },
  {
   "cell_type": "markdown",
   "id": "f355c973-64ac-4c10-91c1-e58969bba6a7",
   "metadata": {},
   "source": [
    "The author of this crypto library is Dock.io\n",
    "\n",
    "Dock.io is one of the leading startups in the Crypto E-ID space.  \n",
    "They open-source many fundamental libraries including the one we're using it today.\n",
    "- Dock.io has 16 employess published on their website\n",
    "- Originally Swiss but based in the US\n",
    "- Some 20 million USD in funding (Web3 Foundation - lead investor)"
   ]
  },
  {
   "cell_type": "markdown",
   "id": "489c6f67-fab3-4499-bd3b-33d1bb69c1cc",
   "metadata": {},
   "source": [
    "---\n",
    "## Technical overview\n",
    "In this exercise, we will explore the BBS cryptographic scheme, and see how it differs from a classic RSA scheme as explored in the previous exercise.\n",
    "\n",
    "For this, we will use a different typescript library https://github.com/docknetwork/crypto-wasm-ts\n"
   ]
  },
  {
   "cell_type": "code",
   "execution_count": 12,
   "id": "1b40920b-0555-4178-badc-87a136bfd742",
   "metadata": {},
   "outputs": [],
   "source": [
    "// We start by declaring our most important asset which is the E-ID Verifiable Credential we will be working with.\n",
    "\n",
    "const E_ID_DATA = {\n",
    "    name: \"Jack Sparrow\",\n",
    "    timeOfBirth: 744156000000,\n",
    "    profession: \"IT Manager\"\n",
    "}\n",
    "\n",
    "// For this advanced library, we will also need to specify the schema of Credential we're working with.\n",
    "// Specifying the schema will be useful later to get the correct encoding of each field.\n",
    "const E_ID_SCHEMA = {\n",
    "    type: 'object',\n",
    "    properties: {\n",
    "        name: { type: 'string' },\n",
    "        profession: { type: 'string' },\n",
    "        timeOfBirth: { type: 'integer', minimum: 0},\n",
    "    }\n",
    "}"
   ]
  },
  {
   "cell_type": "markdown",
   "id": "68984925-7842-47b0-aab2-990d409b1f21",
   "metadata": {},
   "source": [
    "### JSON Schema\n",
    "The schema above is defined using JSON schema.  \n",
    "JSON Schema is the standard for defining the structure/ schema of a JSON object. It's typically used\n",
    "to define a contract for APIs and data communication (which use JSON).  \n",
    "One known standard that builds on JSON schema is the Open API Specification (OAS - previously known as swagger). \n",
    "OAS -in its latest versions- uses a superset of the latest published [JSON schema](https://json-schema.org/specification) (2020-12)"
   ]
  },
  {
   "cell_type": "code",
   "execution_count": 13,
   "id": "a693b229-cd36-4fba-aed6-fc7841ac3513",
   "metadata": {},
   "outputs": [],
   "source": [
    "import { initializeWasm } from '@docknetwork/crypto-wasm-ts'\n",
    "await initializeWasm();"
   ]
  },
  {
   "cell_type": "markdown",
   "id": "b28ded2e-8a26-43e3-b80b-1b21b2b3b56d",
   "metadata": {},
   "source": [
    "## Issuer"
   ]
  },
  {
   "cell_type": "code",
   "execution_count": 14,
   "id": "fbca3fde-77f0-4956-a24d-82806c96c120",
   "metadata": {},
   "outputs": [],
   "source": [
    "// Generating a keypair once signature parameters are created.\n",
    "import { BBSKeypair, BBSSignatureParams, BBS_SIGNATURE_PARAMS_LABEL_BYTES } from '@docknetwork/crypto-wasm-ts';\n",
    "\n",
    "const stringToBytes = (str: string) => Uint8Array.from(Buffer.from(str, \"utf-8\"));\n",
    "\n",
    "const params = BBSSignatureParams.generate(100, BBS_SIGNATURE_PARAMS_LABEL_BYTES);\n",
    "const keypair = BBSKeypair.generate(params, stringToBytes('seed1'));\n",
    "\n",
    "const secretKey = keypair.secretKey;\n",
    "const publicKey = keypair.publicKey;"
   ]
  },
  {
   "cell_type": "code",
   "execution_count": 15,
   "id": "7ffe7472-99a5-47ea-a720-c97525ac13b3",
   "metadata": {},
   "outputs": [
    {
     "name": "stdout",
     "output_type": "stream",
     "text": [
      "{ verified: \u001b[33mtrue\u001b[39m, error: \u001b[90mundefined\u001b[39m }\n"
     ]
    }
   ],
   "source": [
    "// Issing a credential based on the E-ID data based on the specified schema\n",
    "import { CredentialSchema, BBSCredentialBuilder, BBSCredential, SUBJECT_STR } from '@docknetwork/crypto-wasm-ts'\n",
    "\n",
    "\n",
    "// sets a default structure for a credential with the proof \n",
    "let credential_schema = CredentialSchema.essential();\n",
    "// Puts our data schema inside the credential schema\n",
    "credential_schema.properties[SUBJECT_STR] = E_ID_SCHEMA\n",
    "\n",
    "\n",
    "// Populate the credential with data\n",
    "const builder = new BBSCredentialBuilder();\n",
    "builder.schema = new CredentialSchema(credential_schema);\n",
    "builder.subject = E_ID_DATA\n",
    "\n",
    "// sign the credential\n",
    "const verifiableCredential = builder.sign(secretKey);\n",
    "\n",
    "// \n",
    "verifiableCredential.verify(publicKey)"
   ]
  },
  {
   "cell_type": "code",
   "execution_count": 18,
   "id": "d52c2fb7-c14c-42cb-8681-1db2fc2ef9fa",
   "metadata": {},
   "outputs": [
    {
     "name": "stdout",
     "output_type": "stream",
     "text": [
      "{\n",
      "  cryptoVersion: \u001b[32m'0.7.0'\u001b[39m,\n",
      "  credentialSchema: {\n",
      "    id: \u001b[32m'data:application/json;charset=utf-8,'\u001b[39m,\n",
      "    type: \u001b[32m'JsonSchemaValidator2018'\u001b[39m,\n",
      "    version: \u001b[32m'0.5.0'\u001b[39m,\n",
      "    details: \u001b[32m'{\"jsonSchema\":{\"$schema\":\"http://json-schema.org/draft-07/schema#\",\"definitions\":{\"encryptableCompString\":{\"type\":\"string\"},\"encryptableString\":{\"type\":\"string\"}},\"properties\":{\"credentialSubject\":{\"properties\":{\"name\":{\"type\":\"string\"},\"profession\":{\"type\":\"string\"},\"timeOfBirth\":{\"minimum\":0,\"type\":\"integer\"}},\"type\":\"object\"},\"proof\":{\"properties\":{\"type\":{\"type\":\"string\"}},\"type\":\"object\"}},\"type\":\"object\"},\"parsingOptions\":{\"defaultDecimalPlaces\":0,\"defaultMinimumDate\":-17592186044415,\"defaultMinimumInteger\":-4294967295,\"useDefaults\":false}}'\u001b[39m\n",
      "  },\n",
      "  credentialSubject: {\n",
      "    name: \u001b[32m'Jack Sparrow'\u001b[39m,\n",
      "    timeOfBirth: \u001b[33m744156000000\u001b[39m,\n",
      "    profession: \u001b[32m'IT Manager'\u001b[39m\n",
      "  },\n",
      "  proof: {\n",
      "    type: \u001b[32m'Bls12381BBSSignatureDock2023'\u001b[39m,\n",
      "    proofValue: \u001b[32m'2vLcFWoLoFweEQNwTwETf4Xtyc3mK1DwDX4RZyDuYsxSNtMzGvAMjmpXZgUPyKCRimAyBbNjqo99JotuDczkkbsernJQ1mz3XpUMtXpa2kfS4Q'\u001b[39m\n",
      "  }\n",
      "}\n"
     ]
    }
   ],
   "source": [
    "// Now, the credential should be sent to the holder through some kind of medium!\n",
    "const credentialToSendToHolder = verifiableCredential.toJSON()\n",
    "credentialToSendToHolder"
   ]
  },
  {
   "cell_type": "markdown",
   "id": "af7906c2-e3a8-4218-8da2-392811219a1b",
   "metadata": {},
   "source": [
    "## Credential Holder"
   ]
  },
  {
   "cell_type": "code",
   "execution_count": 19,
   "id": "72ec8214-205e-4054-b401-45f1189adc5e",
   "metadata": {},
   "outputs": [
    {
     "name": "stdout",
     "output_type": "stream",
     "text": [
      "Presentation {\n",
      "  _version: \u001b[32m'0.9.0'\u001b[39m,\n",
      "  spec: PresentationSpecification {\n",
      "    credentials: [ \u001b[36m[Object]\u001b[39m ],\n",
      "    attributeEqualities: [],\n",
      "    boundedPseudonyms: {},\n",
      "    unboundedPseudonyms: {}\n",
      "  },\n",
      "  proof: CompositeProof {\n",
      "    value: Uint8Array(427) [\n",
      "        \u001b[33m1\u001b[39m,   \u001b[33m0\u001b[39m,   \u001b[33m0\u001b[39m,   \u001b[33m0\u001b[39m,   \u001b[33m0\u001b[39m,   \u001b[33m0\u001b[39m,   \u001b[33m0\u001b[39m,   \u001b[33m0\u001b[39m,  \u001b[33m11\u001b[39m, \u001b[33m160\u001b[39m, \u001b[33m138\u001b[39m, \u001b[33m199\u001b[39m,\n",
      "      \u001b[33m251\u001b[39m,  \u001b[33m31\u001b[39m,  \u001b[33m22\u001b[39m, \u001b[33m218\u001b[39m, \u001b[33m192\u001b[39m, \u001b[33m131\u001b[39m, \u001b[33m219\u001b[39m, \u001b[33m196\u001b[39m, \u001b[33m212\u001b[39m, \u001b[33m127\u001b[39m, \u001b[33m253\u001b[39m,  \u001b[33m29\u001b[39m,\n",
      "      \u001b[33m228\u001b[39m, \u001b[33m149\u001b[39m, \u001b[33m227\u001b[39m,  \u001b[33m98\u001b[39m, \u001b[33m143\u001b[39m,  \u001b[33m83\u001b[39m, \u001b[33m204\u001b[39m,  \u001b[33m14\u001b[39m, \u001b[33m199\u001b[39m, \u001b[33m184\u001b[39m,  \u001b[33m10\u001b[39m,  \u001b[33m95\u001b[39m,\n",
      "       \u001b[33m73\u001b[39m,  \u001b[33m13\u001b[39m, \u001b[33m239\u001b[39m, \u001b[33m227\u001b[39m,  \u001b[33m23\u001b[39m,  \u001b[33m42\u001b[39m,  \u001b[33m57\u001b[39m, \u001b[33m204\u001b[39m,  \u001b[33m20\u001b[39m, \u001b[33m242\u001b[39m, \u001b[33m151\u001b[39m, \u001b[33m195\u001b[39m,\n",
      "       \u001b[33m90\u001b[39m,  \u001b[33m10\u001b[39m, \u001b[33m156\u001b[39m, \u001b[33m140\u001b[39m, \u001b[33m180\u001b[39m, \u001b[33m127\u001b[39m, \u001b[33m118\u001b[39m, \u001b[33m197\u001b[39m, \u001b[33m215\u001b[39m, \u001b[33m146\u001b[39m, \u001b[33m115\u001b[39m,  \u001b[33m55\u001b[39m,\n",
      "      \u001b[33m194\u001b[39m,  \u001b[33m10\u001b[39m,  \u001b[33m94\u001b[39m, \u001b[33m185\u001b[39m,   \u001b[33m1\u001b[39m,  \u001b[33m73\u001b[39m,  \u001b[33m58\u001b[39m,  \u001b[33m25\u001b[39m,  \u001b[33m92\u001b[39m,  \u001b[33m60\u001b[39m,  \u001b[33m76\u001b[39m, \u001b[33m152\u001b[39m,\n",
      "       \u001b[33m28\u001b[39m, \u001b[33m128\u001b[39m, \u001b[33m184\u001b[39m, \u001b[33m221\u001b[39m, \u001b[33m224\u001b[39m, \u001b[33m194\u001b[39m, \u001b[33m253\u001b[39m, \u001b[33m106\u001b[39m, \u001b[33m169\u001b[39m,  \u001b[33m77\u001b[39m, \u001b[33m178\u001b[39m, \u001b[33m189\u001b[39m,\n",
      "       \u001b[33m75\u001b[39m, \u001b[33m160\u001b[39m, \u001b[33m117\u001b[39m, \u001b[33m193\u001b[39m,  \u001b[33m37\u001b[39m,  \u001b[33m56\u001b[39m, \u001b[33m187\u001b[39m,  \u001b[33m52\u001b[39m,   \u001b[33m9\u001b[39m,  \u001b[33m36\u001b[39m, \u001b[33m145\u001b[39m,  \u001b[33m51\u001b[39m,\n",
      "      \u001b[33m172\u001b[39m, \u001b[33m239\u001b[39m, \u001b[33m140\u001b[39m, \u001b[33m155\u001b[39m,\n",
      "      ... 327 more items\n",
      "    ]\n",
      "  },\n",
      "  attributeCiphertexts: \u001b[90mundefined\u001b[39m,\n",
      "  blindedAttributeCiphertexts: \u001b[90mundefined\u001b[39m,\n",
      "  context: \u001b[90mundefined\u001b[39m,\n",
      "  nonce: \u001b[90mundefined\u001b[39m\n",
      "}\n"
     ]
    }
   ],
   "source": [
    "// The holder loads the credential back from JSON\n",
    "const receivedCredential = BBSCredential.fromJSON(credentialToSendToHolder)\n",
    "// console.log(receivedCredential)\n",
    "\n",
    "\n",
    "import { PresentationBuilder } from '@docknetwork/crypto-wasm-ts'\n",
    "const presentationBuilder = new PresentationBuilder();\n",
    "presentationBuilder.addCredential(receivedCredential, publicKey)\n",
    "presentationBuilder.markAttributesRevealed(0, new Set<string>(['credentialSubject.name', 'credentialSubject.profession']));\n",
    "\n",
    "const presentation = presentationBuilder.finalize();\n",
    "console.log(presentation)"
   ]
  },
  {
   "cell_type": "markdown",
   "id": "7cec6a8b-3ca9-4d24-89e2-f9e53a5750d4",
   "metadata": {},
   "source": [
    "### sending data to Verifier\n",
    "data: \n",
    "1. selected data to be revealed\n",
    "2. Schema of the credential\n",
    "3. Proof of validity\n",
    "\n",
    "All these info and more are stored in the \"presentation object\". Note that this object is a completely serializable JSON object.\n",
    "\n",
    "## Verifier"
   ]
  },
  {
   "cell_type": "code",
   "execution_count": 20,
   "id": "a44c3ab6-9857-4575-8e39-30238d7a7b60",
   "metadata": {},
   "outputs": [
    {
     "name": "stdout",
     "output_type": "stream",
     "text": [
      "{\n",
      "  version: \u001b[32m'0.9.0'\u001b[39m,\n",
      "  context: \u001b[90mundefined\u001b[39m,\n",
      "  nonce: \u001b[1mnull\u001b[22m,\n",
      "  spec: {\n",
      "    credentials: [ \u001b[36m[Object]\u001b[39m ],\n",
      "    attributeEqualities: [],\n",
      "    boundedPseudonyms: {},\n",
      "    unboundedPseudonyms: {}\n",
      "  },\n",
      "  proof: \u001b[32m'PqJrdz8W5DWEPF9a8edj1xVcWxKQpq7TUeL9NZ7Pdk4aoqXXZ8SmsAZJfpkidXxAufheN3GHHNRmdbSA4Wt27NMMHYhXtf4aX114yE1mY5d18mJE3XSkBx1U9prUPA83xrJpykLSdwMHYpUHLZ2Yy51pVzNHrNqnNwnBRP6Qh8wom1Zez97gqSyRapWs1t4f6G5J1GG8YjgBoVY5AWbkEqFhF1Qm95yy9VXWQebKSoZJB4isjudkwgsbbwvFoKHuVBAQaJgzEMGmEk2Jzi27m1GarLJ1eLq2rC7pi62M4gLEHAR6KR1bg9Y6JZedVwm4ET38c52TsZ5Vi3v9FqXTQp8owSqHTNoNBnWdSK2gUk9L6U7YXh1xdxbCmryW9KRnQaEwqaqZus6WNgYs8PQ9FCcwWuLdxMQd9PZ4Xg9nzDbBbLsfpRPoAtmKYAS9EeGhCniMg9SHmj2ALVgt76BpFYZ8JteYEd23fAGiJw6b4fbLT7uoSCK447VjG3zTxcN1o1WSXDgA5Wi2PNtovpfuGJurjt6A8QYD4Lc4feqzbd97ip5KZDR5RVMgaqzsG8xe8a9Tyy'\u001b[39m\n",
      "}\n",
      "-------------------------\n",
      "{\n",
      "  version: \u001b[32m'0.7.0'\u001b[39m,\n",
      "  schema: {\n",
      "    details: \u001b[32m'{\"jsonSchema\":{\"$schema\":\"http://json-schema.org/draft-07/schema#\",\"definitions\":{\"encryptableCompString\":{\"type\":\"string\"},\"encryptableString\":{\"type\":\"string\"}},\"properties\":{\"credentialSubject\":{\"properties\":{\"name\":{\"type\":\"string\"},\"profession\":{\"type\":\"string\"},\"timeOfBirth\":{\"minimum\":0,\"type\":\"integer\"}},\"type\":\"object\"},\"proof\":{\"properties\":{\"type\":{\"type\":\"string\"}},\"type\":\"object\"}},\"type\":\"object\"},\"parsingOptions\":{\"defaultDecimalPlaces\":0,\"defaultMinimumDate\":-17592186044415,\"defaultMinimumInteger\":-4294967295,\"useDefaults\":false}}'\u001b[39m,\n",
      "    id: \u001b[32m'data:application/json;charset=utf-8,'\u001b[39m,\n",
      "    type: \u001b[32m'JsonSchemaValidator2018'\u001b[39m,\n",
      "    version: \u001b[32m'0.5.0'\u001b[39m\n",
      "  },\n",
      "  revealedAttributes: {\n",
      "    credentialSubject: { name: \u001b[32m'Jack Sparrow'\u001b[39m, profession: \u001b[32m'IT Manager'\u001b[39m }\n",
      "  },\n",
      "  sigType: \u001b[32m'Bls12381BBSSignatureDock2023'\u001b[39m\n",
      "}\n"
     ]
    }
   ],
   "source": [
    "const receivedObjectOnVerifierSide = presentation.toJSON()\n",
    "console.log(receivedObjectOnVerifierSide)  // Assume this was serialized and sent across an API to the verifier.\n",
    "console.log(\"-------------------------\")\n",
    "console.log(presentation.spec.credentials[0])"
   ]
  },
  {
   "cell_type": "code",
   "execution_count": 21,
   "id": "22caae45-228a-4fdb-ab92-705f112ed7b1",
   "metadata": {},
   "outputs": [
    {
     "name": "stdout",
     "output_type": "stream",
     "text": [
      "{ verified: \u001b[33mtrue\u001b[39m, error: \u001b[90mundefined\u001b[39m }\n"
     ]
    }
   ],
   "source": [
    "// Verification of the data the verifier received is as easy as two lines of code!\n",
    "import { Presentation } from '@docknetwork/crypto-wasm-ts'\n",
    "\n",
    "const recreatedPres = Presentation.fromJSON(receivedObjectOnVerifierSide)\n",
    "recreatedPres.verify([publicKey])\n",
    "\n",
    "// Now, we can go ahead and access the shared data!\n",
    "//recreatedPres.spec.credentials[0].revealedAttributes"
   ]
  },
  {
   "cell_type": "markdown",
   "id": "6fb5113c-f18f-4416-9038-020438076e17",
   "metadata": {},
   "source": [
    "### Is this cryptographic scheme unlinkable?\n",
    "\n",
    "We can know that by checking for two conditions\n",
    "\n",
    "1. Is there a signature or a cryptopgraphic data that is shared and could used to identify the credential holder?\n",
    "2. Is there a part of data hashed or not that was included in the presented data that could be used to identify the credential holder?"
   ]
  },
  {
   "cell_type": "code",
   "execution_count": 22,
   "id": "32686a7d-a075-4682-9470-a008db2f4ece",
   "metadata": {},
   "outputs": [
    {
     "name": "stdout",
     "output_type": "stream",
     "text": [
      "01000000000000000bad7266872b1d321552ac0d014fde245522decae9c6b914cfada8cdaf4c525c19b48ac710b97d9a650f64f3b5cb6fd21ca3c739cfcdbdf26e3c06cbd331d51777d1d39fb6b6f15e7647639716a08649b5d4e1407458dfa4a937b54030453be74b846c6ed3a95eb98268ca71d1ce33d80751f78f85b0a50515f6b7d3acbcf1ced91d60e0ca2f438dcbc894808cc7ab8c9786f84ecdfe70bfa65947807251d971d402e38d85073043863efe7198fb2a7e89ad13fc92ef51693494b8ec2df800e1e18eb3a6c08d4ecc0b74dc344c7402b71f5d8062b8aa12e1defbcd6ecdae129a43c8a7056a3e87f7b8dd0e34cb20251cb285759d624b7df5f836758acef16f5248b7395fd66a9e0c5a10408a688177e877d05fc77c0bf82b81b1364ae09d17d9dca44be3e08fdebf43423dd3a8b82ab7a103000000000000001f418c0fd1eaee43f335e17f0c5deaf993625817feb7c6ef27281cb0cc1c7559e3358134422588677327c2e05bf0f71e713ce1b9b556472c4a8e3e44e43f883b355d3fb4e18b7f810c04b379735d6c3f8687b178965be0addcf8e5516f3e243800000000000000000000\n"
     ]
    }
   ],
   "source": [
    "presentationBuilder.finalize()[\"proof\"].hex"
   ]
  },
  {
   "cell_type": "code",
   "execution_count": 23,
   "id": "7d3c4b80-4889-483e-aba9-f7670c7c2ced",
   "metadata": {},
   "outputs": [
    {
     "name": "stdout",
     "output_type": "stream",
     "text": [
      "\u001b[33mfalse\u001b[39m\n"
     ]
    }
   ],
   "source": [
    "// To answer the first point, we look at the presented proof \n",
    "const proof1 = presentationBuilder.finalize()[\"proof\"].hex\n",
    "const proof2 = presentationBuilder.finalize()[\"proof\"].hex\n",
    "\n",
    "// By generating a proof multiple times, and comparing the proof in each of them,\n",
    "// we see that they're always different making it difficult (Impossible?!) to correlate the different proofs.\n",
    "console.log(proof1 === proof2)\n",
    "\n",
    "// This is a weak proof! In the paper, there's a real mathematical proof to \n",
    "// ensure that different generated proofs are unlinkable "
   ]
  },
  {
   "cell_type": "code",
   "execution_count": 24,
   "id": "d9cd2d9a-283e-4095-b71c-22d78d60fc69",
   "metadata": {},
   "outputs": [
    {
     "name": "stdout",
     "output_type": "stream",
     "text": [
      "{\n",
      "  credentialSubject: { name: \u001b[32m'Jack Sparrow'\u001b[39m, profession: \u001b[32m'IT Manager'\u001b[39m }\n",
      "}\n"
     ]
    }
   ],
   "source": [
    "// To answer the second point, we look at the data shared with the verifier.\n",
    "// As opposed to the previous exercise where we had to share all the data all the time\n",
    "// even though possibly in a hashed format, in this case, we only share the selected data.\n",
    "\n",
    "presentation.spec.credentials[1][\"revealedAttributes\"]\n",
    "\n",
    "// In this scenario, we see that only the data needed to be revealed is revealed resulting in unlinkability."
   ]
  },
  {
   "cell_type": "markdown",
   "id": "900c23d6-c5ce-4042-a9cc-a121792f67b3",
   "metadata": {},
   "source": [
    "## Exercise: \n",
    "Divide into three teams (issuers (min:1), holders(min:2), verifiers(min:1))\n",
    "and use a chat tool to communicate. \n",
    "-> Linus already used a chat tool in his classes!\n",
    "\n",
    "-- (Maybe) do a small PKI somewhere."
   ]
  },
  {
   "cell_type": "code",
   "execution_count": null,
   "id": "5a7b4251-4ca8-4aa5-be53-b750af25d183",
   "metadata": {},
   "outputs": [],
   "source": []
  }
 ],
 "metadata": {
  "kernelspec": {
   "display_name": "TypeScript",
   "language": "typescript",
   "name": "tslab"
  },
  "language_info": {
   "codemirror_mode": {
    "mode": "typescript",
    "name": "javascript",
    "typescript": true
   },
   "file_extension": ".ts",
   "mimetype": "text/typescript",
   "name": "typescript",
   "version": "3.7.2"
  }
 },
 "nbformat": 4,
 "nbformat_minor": 5
}
