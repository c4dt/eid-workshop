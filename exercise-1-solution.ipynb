{
 "cells": [
  {
   "cell_type": "markdown",
   "id": "337c8600-35f1-4f2c-84c9-1c230f589cab",
   "metadata": {},
   "source": [
    "# Solutions for Exercise 1\n",
    "\n",
    "This only contains the code necessary for the solutions.\n",
    "For more details, look at the exercise-1 notebook."
   ]
  },
  {
   "cell_type": "markdown",
   "id": "37508b45-1e74-469d-a3c4-947a7903cd54",
   "metadata": {},
   "source": [
    "---\n",
    "\n",
    "## 1 - Challenges for Basic E-ID example using RSA cryptographic scheme\n",
    "\n",
    "Make sure that the signature fails in the following cases:\n",
    "\n",
    "1. the message is different from the message used in the signing process\n",
    "2. the public key is different than the public key from the issuer"
   ]
  },
  {
   "cell_type": "code",
   "execution_count": null,
   "id": "3bac72b3-23cf-421f-bfcf-4857ae725125",
   "metadata": {},
   "outputs": [],
   "source": [
    "// We start by creating a typical E-ID credential object that we will use through out this exercise\n",
    "const date = new Date(\"1993-08-01T00:00:00\")\n",
    "const ID_DATA = {\n",
    "    name: \"Jack Sparrow\",\n",
    "    timeOfBirth: date.getTime(),\n",
    "    profession: \"IT Manager\"\n",
    "}"
   ]
  },
  {
   "cell_type": "code",
   "execution_count": null,
   "id": "0d085f1c-3854-44e6-ac09-bafdca23e6e8",
   "metadata": {},
   "outputs": [],
   "source": [
    "import * as crypto from 'crypto';\n",
    "\n",
    "// For an issuer to be able to start issuing Verifiable Credentials, it first needs\n",
    "// to have its own cryptographic key pair. \n",
    "// Issuers will sign the data using their private key. \n",
    "const { publicKey, privateKey } = crypto.generateKeyPairSync('rsa', {\n",
    "    modulusLength: 4096,\n",
    "    publicKeyEncoding: {\n",
    "      type: 'spki',   \n",
    "    \n",
    "      format: 'pem'\n",
    "    },\n",
    "    privateKeyEncoding: {\n",
    "      type: 'pkcs8',\n",
    "      format: 'pem',\n",
    "    }\n",
    "});\n",
    "\n",
    "// Create a signature over the hash of the data\n",
    "const message = JSON.stringify(ID_DATA)\n",
    "const signer = crypto.createSign('SHA256');\n",
    "signer.update(message);\n",
    "const signature = signer.sign(privateKey, 'base64');\n",
    "\n",
    "console.log(\"The signed message is:\", message);\n",
    "console.log(\"The signature is:\", signature);"
   ]
  },
  {
   "cell_type": "code",
   "execution_count": null,
   "id": "abcf804e-4517-42d1-a51b-aa0237ff3d50",
   "metadata": {},
   "outputs": [],
   "source": [
    "// Teh verifier recieves the \"message\" and the \"signature\".\n",
    "// We suppose it has a copy of the issuer's public key using some kind of\n",
    "// Poublic Key Infrastructure (PKI).\n",
    "\n",
    "let verifier = crypto.createVerify('SHA256');\n",
    "verifier.update(message)\n",
    "console.log(\"The signature is correct:\", verifier.verify(publicKey, signature, 'base64'))"
   ]
  },
  {
   "cell_type": "markdown",
   "id": "3448109b-a53f-4e20-bda1-648f476e41a0",
   "metadata": {},
   "source": [
    "### Solutions"
   ]
  },
  {
   "cell_type": "code",
   "execution_count": null,
   "id": "835f170c-d2cb-40a4-921c-64c5d8b3f825",
   "metadata": {},
   "outputs": [],
   "source": [
    "// CHALLENGE 1.1\n",
    "\n",
    "const messageNew = \"other message\";\n",
    "console.log(`1.1. Changing the message to '${messageNew}'`);\n",
    "let verifier = crypto.createVerify('SHA256');\n",
    "verifier.update(messageNew);\n",
    "console.log(\"The signature fails:\", verifier.verify(publicKey, signature, 'base64') === false);\n",
    "\n",
    "// CHALLENGE 1.2\n",
    "console.log(`1.2. Creating new keypair and verifying with the new public key`);\n",
    "const kpNew = crypto.generateKeyPairSync('rsa', {\n",
    "    modulusLength: 4096,\n",
    "    publicKeyEncoding: {\n",
    "      type: 'spki',   \n",
    "    \n",
    "      format: 'pem'\n",
    "    },\n",
    "    privateKeyEncoding: {\n",
    "      type: 'pkcs8',\n",
    "      format: 'pem',\n",
    "    }\n",
    "});\n",
    "verifier = crypto.createVerify('SHA256');\n",
    "verifier.update(message);\n",
    "console.log(\"The signature fails:\", verifier.verify(kpNew.publicKey, signature, 'base64') === false);\n"
   ]
  },
  {
   "cell_type": "markdown",
   "id": "acf3a516-38da-486e-8ada-bfebe8058d10",
   "metadata": {},
   "source": [
    "---\n",
    "\n",
    "## 2 - Challenges for Selective Disclosure using hashing\n",
    "\n",
    "1. Print the hashes of `hashValue(value)` and from the `RETRIEVED_DATA(key)` and compare them visually\n",
    "2. Change the disclosed fields and make sure it still runs"
   ]
  },
  {
   "cell_type": "code",
   "execution_count": null,
   "id": "ef44edbc-4c6c-4474-8f5e-747e5b877522",
   "metadata": {},
   "outputs": [],
   "source": [
    "// One way to implement selective disclosure is to hash every value, so the \n",
    "// holder of the credential can decide which values they want to share.\n",
    "\n",
    "function hashValue(value: string | number): string {\n",
    "    const hash = crypto.createHash('sha256');\n",
    "    // CHALLENGE 2.2: convert the number to a string\n",
    "    hash.update(value.toString());\n",
    "    return hash.digest('hex');\n",
    "}\n",
    "\n",
    "// The object to be signed only contains the hashes of the actual data of\n",
    "// the credential.\n",
    "const ID_DATA_HASHED = {\n",
    "    name: hashValue(ID_DATA['name']),\n",
    "    timeOfBirth: hashValue(ID_DATA['timeOfBirth']),\n",
    "    profession: hashValue(ID_DATA['profession'])\n",
    "}\n",
    "\n",
    "// As before, the issuer creates a signature of the hash of the hashed fields.\n",
    "const message = JSON.stringify(ID_DATA_HASHED);\n",
    "const signer = crypto.createSign('SHA256');\n",
    "signer.update(message);\n",
    "const signature = signer.sign(privateKey, 'base64');\n",
    "\n",
    "console.log(message);\n",
    "console.log(\"----------------------------\");\n",
    "console.log(signature);"
   ]
  },
  {
   "cell_type": "code",
   "execution_count": null,
   "id": "1c455bf4-771e-45b3-bbdc-cf3bf9deaf6b",
   "metadata": {},
   "outputs": [],
   "source": [
    "// The holder chooses which fields they want to disclose.\n",
    "// This data is then sent to the verifier, together with the originally\n",
    "// signed data.\n",
    "const HOLDER_DISCLOSED_DATA = {\n",
    "    name: ID_DATA['name'],\n",
    "    // CHALLENGE 2: change the field to be disclosed\n",
    "    timeOfBirth: ID_DATA['timeOfBirth']\n",
    "}"
   ]
  },
  {
   "cell_type": "code",
   "execution_count": null,
   "id": "66b62c76-7085-4ff2-a386-696bf821aaa7",
   "metadata": {},
   "outputs": [],
   "source": [
    "// First the verifier has to check that the signature on the hashes is correct:\n",
    "let verifier = crypto.createVerify('SHA256');\n",
    "verifier.update(message)\n",
    "console.log(\"Signature verification:\", verifier.verify(publicKey, signature, 'base64'))\n",
    "\n",
    "// Now the verifier can compare the disclosed data with the hashed values in the credential.\n",
    "// If they are equal, and the hash-function is cryptographically secure, the verifier can be covinced that the data is correct.\n",
    "const RETRIEVED_DATA = JSON.parse(message);\n",
    "for (const [key, value] of Object.entries(HOLDER_DISCLOSED_DATA)){\n",
    "    // CHALLENGE 2.2: need to convert the number to a string\n",
    "    if (hashValue(value.toString()) != RETRIEVED_DATA[key].toString()) {\n",
    "        throw new Error(`Reconstructed data in key ${key} is not the same as the hashed counterpart`);\n",
    "    }\n",
    "}\n",
    "\n",
    "// Since we've already verified that the hashed message is valid in the previous code cell\n",
    "// and now we verified that the hashed values are equal to the revealed values, then\n",
    "// we conclude that we trust these revealed data.\n",
    "console.log(\"Hashed values are equal, so the following is verified:\", HOLDER_DISCLOSED_DATA);"
   ]
  },
  {
   "cell_type": "markdown",
   "id": "21ed2a70-9dee-44ee-ab49-8bf46236545a",
   "metadata": {},
   "source": [
    "### Solutions"
   ]
  },
  {
   "cell_type": "code",
   "execution_count": null,
   "id": "5e76eb55-cc00-4aea-b268-d9bd5b12cfa6",
   "metadata": {},
   "outputs": [],
   "source": [
    "// CHALLENGE 2.1\n",
    "console.log(\"2.1. Comparing hash values visually\");\n",
    "for (const [key, value] of Object.entries(HOLDER_DISCLOSED_DATA)){\n",
    "    console.log(\"Verifying\", key, \":\", hashValue(value), \"==\", RETRIEVED_DATA[key], \"->\", hashValue(value) === RETRIEVED_DATA[key]);\n",
    "}\n",
    "\n",
    "// CHALLENGE 2.2\n",
    "console.log(\"2.2. Changed the field to be disclosed and adapted the hashing to also work with numbers\");"
   ]
  },
  {
   "cell_type": "markdown",
   "id": "f37642f1-e391-43e3-8646-42fccfb0cc7b",
   "metadata": {},
   "source": [
    "---\n",
    "\n",
    "## 3 - Discussion: security of this scheme, and introduction to unlinkability\n",
    "\n",
    "### Security of hashed values\n",
    "\n",
    "To keep some anonymity, the fields which the holder decides not to disclose remain hashed.\n",
    "How secure is this?\n",
    "For example, if the holder selectively discloses the `profession`, what can the verifier do with the other fields?\n",
    "\n",
    "> Because there are not a lot of values for the fields, it is possible to enumerate them\n",
    "> all and check if the hash corresponds. In this way it is possible to find a pre-hash.\n",
    "\n",
    "### Unlinkability\n",
    "\n",
    "One of the big problems in current day ads is that even if you visit different websites, the ad-industry will correlate these visits into a single user profile.\n",
    "This allows these data brokers to sell your profile not only for ads, but also for influence campains, and for geo-tracking.\n",
    "Not only ad companies can do this, but these profiles are sold by the data brokers also to the government, or even to private persons!\n",
    "For this reason, presenting a credential multiple times should be **unlinkable**.\n",
    "\n",
    "Does the current scheme guarantee unlinkability of the holder towards different verifiers?\n",
    "\n",
    "> The verifier can take the hashes and create a unique fingerprint with them.\n",
    "> The hash of the postal code doesn't allow you to de-anonymize a visitor, or to\n",
    "> link them.\n",
    "> However, the hash of the postal code PLUS the hash of the timeOfBirth is often enough\n",
    "> to identify a single individual.\n"
   ]
  },
  {
   "cell_type": "markdown",
   "id": "3c874676-eef7-4e0d-8962-82fe6fbb16e0",
   "metadata": {},
   "source": [
    "---\n",
    "\n",
    "## 4 - Coding exercise: protect the hashes\n",
    "\n",
    "Right now, the `timeOfBirth` can be guessed by looping over all possible dates to figure out someone's exact date of birth.\n",
    "\n",
    "1. Create a way to hack the `timeOfBirth`. How can this be made faster?\n",
    "2. How would you hack the `name`, or `profession`?\n",
    "3. Reimplement the communication between the holder and verifier modifying the hash function in a way that doesn't make it easy to guess the fields"
   ]
  },
  {
   "cell_type": "code",
   "execution_count": null,
   "id": "052d9294-9263-42d7-9075-9ab231fbffa8",
   "metadata": {},
   "outputs": [],
   "source": [
    "// CHALLENGE 4.1: Hack timeOfBirth\n",
    "\n",
    "// To make it faster, increase by an hour instead of by a msec.\n",
    "for (let i = 0;; i += 60 * 60 * 1000 ){\n",
    "    if (hashValue(i) === ID_DATA_HASHED.timeOfBirth){\n",
    "        console.log(`Found pre-image ${i} which corresponds to date ${new Date(i)}`);\n",
    "        break;\n",
    "    }\n",
    "}"
   ]
  },
  {
   "cell_type": "code",
   "execution_count": null,
   "id": "cdb7d4dd-3342-4e7f-81cd-e56ba500545e",
   "metadata": {},
   "outputs": [],
   "source": [
    "// CHALLENGE 4.2: hacking `name` or `profession`\n",
    "const firstNames = [\"Abel\", \"Bertha\", \"Colins\", \"Danube\", \"Elliot\", \"Frieda\", \"Gertrude\", \n",
    "                    \"Hans\", \"Ice-T\", \"Jack\" /* and many more names */];\n",
    "const familyNames = [\"Antonov\", \"Barber\", \"Chuck\", \"Dengler\", \"Eisenberg\", /* many more */\n",
    "                     \"Sparrow\"];\n",
    "const professions = [\"Nurse\", \"Teacher\", \"Professor\", \"Cleaning agent\", /* many more */\n",
    "                     \"IT Manager\"];\n",
    "\n",
    "for (const first of firstNames){\n",
    "    for (const family of familyNames){\n",
    "        if (hashValue(`${first} ${family}`) === ID_DATA_HASHED.name){\n",
    "            console.log(`Found name: ${first} ${family}`);\n",
    "            break\n",
    "        }\n",
    "    }\n",
    "}\n",
    "for (const prof of professions){\n",
    "    if (hashValue(prof) === ID_DATA_HASHED.profession){\n",
    "        console.log(`Found profession: ${prof}`);\n",
    "    }\n",
    "}\n"
   ]
  },
  {
   "cell_type": "code",
   "execution_count": null,
   "id": "2e63ebb5-3ee2-44a9-b84c-b14afcb930ae",
   "metadata": {},
   "outputs": [],
   "source": [
    "// CHALLENGE 4.3 - make guesses harder\n",
    "\n",
    "// To make guesses harder, we add a salt value.\n",
    "// Contrary to how this is implemented in password-storage, where the salt is stored\n",
    "// alongside the hashed password, we treat the salt as a secret ingredient.\n",
    "// So the issuer creates a salt for every field, and passes the salt along the original\n",
    "// values to the holder.\n",
    "// Then the holder needs to pass both the salt and the original value to the verifier.\n",
    "\n",
    "function hashValueSalt(value: string | number, salt?: string): [string, string, string] {\n",
    "    if (salt === undefined){\n",
    "        salt = crypto.randomBytes(32).toString(\"hex\");\n",
    "    }\n",
    "    const hash = crypto.createHash('sha256');\n",
    "    // CHALLENGE 2: convert the number to a string\n",
    "    hash.update(salt);\n",
    "    hash.update(value.toString());\n",
    "    return [value.toString(), salt, hash.digest('hex')];\n",
    "}\n",
    "\n",
    "// The ISSUER creates a salted version of the hashes.\n",
    "const ID_DATA_SALTED = {\n",
    "    name: hashValueSalt(ID_DATA['name']),\n",
    "    timeOfBirth: hashValueSalt(ID_DATA['timeOfBirth'].toString()),\n",
    "    profession: hashValueSalt(ID_DATA['profession'])\n",
    "};\n",
    "const ID_DATA_HASHED = Object.fromEntries(Object.entries(ID_DATA_SALTED)\n",
    "    .map(([field, value]) => [field, value[2]]));\n",
    "\n",
    "const message = JSON.stringify(ID_DATA_HASHED);\n",
    "const signer = crypto.createSign('SHA256');\n",
    "signer.update(message);\n",
    "const signature = signer.sign(privateKey, 'base64');\n",
    "\n",
    "// The HOLDER can create a proof using the salt and the original value.\n",
    "const tob = ID_DATA_SALTED.timeOfBirth;\n",
    "const ID_DATA_PROOF = {\n",
    "    timeOfBirth: [tob[0], tob[1]]\n",
    "};\n",
    "\n",
    "// The VERIFIER has to recreate the hash using the salt and the original value.\n",
    "const hash = hashValueSalt(ID_DATA_PROOF.timeOfBirth[0], ID_DATA_PROOF.timeOfBirth[1])[2];\n",
    "console.log(`Hash is correct: ${hash === ID_DATA_HASHED.timeOfBirth}`);"
   ]
  }
 ],
 "metadata": {
  "kernelspec": {
   "display_name": "TypeScript",
   "language": "typescript",
   "name": "tslab"
  },
  "language_info": {
   "codemirror_mode": {
    "mode": "typescript",
    "name": "javascript",
    "typescript": true
   },
   "file_extension": ".ts",
   "mimetype": "text/typescript",
   "name": "typescript",
   "version": "3.7.2"
  }
 },
 "nbformat": 4,
 "nbformat_minor": 5
}
