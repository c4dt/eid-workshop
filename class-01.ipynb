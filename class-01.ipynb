{
 "cells": [
  {
   "cell_type": "markdown",
   "id": "337c8600-35f1-4f2c-84c9-1c230f589cab",
   "metadata": {},
   "source": [
    "### Welcome to the first class on E-ID in this 3-class series\n",
    "Before we start, make sure you have everything installed by following one of the outlined methods in the ReadMe file. \n",
    "\n",
    "### Purpose of this exercise\n",
    "This jupyter notebook explains the following:\n",
    "1. Basic E-ID example using RSA cryptographic scheme\n",
    "2. Selective Disclosure using RSA and its downsides\n",
    "3. What is unlinkability in the E-ID world\n",
    "4. The previous points should explain to a degree the motivation behind the need for a more specialized cryptographic scheme"
   ]
  },
  {
   "cell_type": "code",
   "execution_count": 1,
   "id": "3bac72b3-23cf-421f-bfcf-4857ae725125",
   "metadata": {},
   "outputs": [],
   "source": [
    "// We start by creating a typical E-ID object that we will use through out this exercise\n",
    "const ID_DATA = {\n",
    "    name: \"Jack Sparrow\",\n",
    "    age: 61,\n",
    "    profession: \"IT Manager\"\n",
    "}"
   ]
  },
  {
   "cell_type": "markdown",
   "id": "46fe56f5-f5b8-4ea4-9363-11ca63b7bb3a",
   "metadata": {},
   "source": [
    "## Definition: Verifiable Credentials\n",
    "A verifiable credential, in its simplest form, is a signed string of data. An issuer will issue a credential by signing a specific string of data then sharing that string of data along with a cryptographic signature that can prove that this string was authorized/ issued by this specific issuer."
   ]
  },
  {
   "cell_type": "code",
   "execution_count": 2,
   "id": "29a58225-7126-4ce8-9144-b79e9ee7ae8d",
   "metadata": {},
   "outputs": [],
   "source": [
    "import * as crypto from 'crypto';"
   ]
  },
  {
   "cell_type": "markdown",
   "id": "d074b6c3-8c3d-47c5-83fd-01468d9bca00",
   "metadata": {},
   "source": [
    "### Issuer"
   ]
  },
  {
   "cell_type": "code",
   "execution_count": 3,
   "id": "0d085f1c-3854-44e6-ac09-bafdca23e6e8",
   "metadata": {},
   "outputs": [],
   "source": [
    "/* \n",
    " For an issuer to be able to start issuing Verifiable Credentials, it first needs\n",
    " to have its own cryptographic key pair. \n",
    " Issuers will sign the data using their private key. \n",
    "*/\n",
    "const { publicKey, privateKey } = crypto.generateKeyPairSync('rsa', {\n",
    "    modulusLength: 4096,\n",
    "    publicKeyEncoding: {\n",
    "      type: 'spki',   \n",
    "    \n",
    "      format: 'pem'\n",
    "    },\n",
    "    privateKeyEncoding: {\n",
    "      type: 'pkcs8',\n",
    "      format: 'pem',\n",
    "    }\n",
    "});"
   ]
  },
  {
   "cell_type": "code",
   "execution_count": 18,
   "id": "6e9de6af-a313-4cd5-8e20-8b3588bccb73",
   "metadata": {},
   "outputs": [
    {
     "name": "stdout",
     "output_type": "stream",
     "text": [
      "{\"name\":\"Jack Sparrow\",\"age\":61,\"profession\":\"IT Manager\"}\n",
      "----------------------------\n",
      "GSQWERQsSGhciaKRqmuHY/GGUUIoqzVxomw3Otq/d1GHPEu1Y9KRaaL7ipS8tnqRLFv+MVe5o2oUh5hLqFr/gEwKLur/2qB9IKyiakSUl+XxlDOT+gYxQJduIy+yhzqJhHcplvA5obN+7JrajV8HzCCGQeWYRNJzaSFwuESFe9MGCqBbHd9d6NbbG3MZXFBQ6FyTCUgZxWjRwSidPE1Vzehywx/C+NChIm8PrpEPOtCLYMNqE4SKA5/lWyCV27gIT9QLZ+Hb8WQfzISZNGr2dWYpdZSDTZy6qjz9Gf9HPdys1MKJKSzNk5F4fAP9bXW3Ii4prEuvd2uWiRsd5fHXWPmLuX0qC/3GrawgJc3ioNW3o+UeiGc0qhbGP177liGVVuT1Ldkb8492PrpDzEzDMrSlwYfE6utKwm2LhpnaFR1a0QRz9BTzv4R+D5kCokxOMiChuso+7609INPublHpRSzJWnUkW1+gbwXHbLKfZdkZ5k9XThT0Q44h1lc3QpiNSuV+OzYS1vZUOpIhAAWhPMloxv938x+eA/GSwk0Cb58dpa4Ll+XA145e5P2Sy3IX3MZCLaZSsy+gNeYfDUXN7yk6l+NWgdE42mHdkul/rDsbEMad09TShweBVyRGKm937ZvnRVrsa4POrrXZo2/CKjTWG/HzFsAg0DkZmfoCPNo=\n"
     ]
    }
   ],
   "source": [
    "// An issuer will convert the data object into a string\n",
    "const message = JSON.stringify(ID_DATA)\n",
    "\n",
    "// then create a signature for that data\n",
    "const signer = crypto.createSign('SHA256');\n",
    "signer.update(message);\n",
    "const signature = signer.sign(privateKey, 'base64')\n",
    "\n",
    "console.log(message);\n",
    "console.log(\"----------------------------\")\n",
    "console.log(signature);"
   ]
  },
  {
   "cell_type": "markdown",
   "id": "0314e0bc-104a-4ca3-bb1e-b924e0d5b74a",
   "metadata": {},
   "source": [
    "### Issuer →  Holder\n",
    "\n",
    "After the signature is created, the data along with the signature is transfered to the holder\n",
    "\n",
    "In this case, the holder can only do one thing with this data which is to share the whole data string along with the signature\n",
    "\n",
    "### Holder →  Verifier\n",
    "\n",
    "Once the data is sent from holder to verifier, the verifier can verify that information as follows:"
   ]
  },
  {
   "cell_type": "code",
   "execution_count": 10,
   "id": "abcf804e-4517-42d1-a51b-aa0237ff3d50",
   "metadata": {},
   "outputs": [
    {
     "name": "stdout",
     "output_type": "stream",
     "text": [
      "\u001b[33mtrue\u001b[39m\n"
     ]
    }
   ],
   "source": [
    "// verifier now recieves \"message\" and \"signature\" data\n",
    "// The verifier should also have access to the publicKey of the issuer\n",
    "\n",
    "let verifier = crypto.createVerify('SHA256');\n",
    "verifier.update(message)\n",
    "console.log(verifier.verify(publicKey, signature, 'base64'))"
   ]
  },
  {
   "cell_type": "code",
   "execution_count": 11,
   "id": "fcadcc4a-d56c-4b61-bf8e-ab1e46f167a3",
   "metadata": {},
   "outputs": [
    {
     "name": "stdout",
     "output_type": "stream",
     "text": [
      "\u001b[33mfalse\u001b[39m\n"
     ]
    }
   ],
   "source": [
    "// What happens if the data is not accurate or true?\n",
    "\n",
    "verifier = crypto.createVerify('SHA256');\n",
    "verifier.update(\"Another random message!\")\n",
    "console.log(verifier.verify(publicKey, signature, 'base64'))"
   ]
  },
  {
   "cell_type": "markdown",
   "id": "acf3a516-38da-486e-8ada-bfebe8058d10",
   "metadata": {},
   "source": [
    "---\n",
    "\n",
    "## Selective disclosure\n",
    "\n",
    "What if the holder of the credential wants to only share his name and profession but not his age?\n",
    "\n",
    "The current implementation wouldn't allow for that, so we will need to change it to some extent."
   ]
  },
  {
   "cell_type": "code",
   "execution_count": 42,
   "id": "ef44edbc-4c6c-4474-8f5e-747e5b877522",
   "metadata": {},
   "outputs": [
    {
     "name": "stdout",
     "output_type": "stream",
     "text": [
      "{\"name\":\"a5d0dd92108bc55cadfaf56e36a60a7121b059d9e0d09c2d24d853e9d1d14ea7\",\"age\":\"d029fa3a95e174a19934857f535eb9427d967218a36ea014b70ad704bc6c8d1c\",\"profession\":\"c249aac9d89f89626fbcaa519d53e386478a22b775414c324e61289e033f1652\"}\n",
      "----------------------------\n",
      "mEZc+T3qjqlUlXm5d+srtgOYegk+WOHM56NYDlw9KncnuWb62cqfkALk9YX+IpDEFxWkJHavbE2++T7pyiEfXcG8HBTanC3bCHW8UtyNXhQupgkQw24/CplK2BN95CnmF33b7uU73Q5joyOcJAGMrIxtQN76+m5ky2RLs504IbH5OUqqNYn9P+UaTWY5jU0BNikWf8IqnsvNBsFy1YAaQoAfJU5xZGe4b8lhfWxKrObkrijCBKD+VDIjdXb9SoFH2JazQFeAZCtzVzq7yiefL8z4O+d7NLA0FpXFoK2nwHLlh4R2hNcLuBtT8nYZ0IZpA1BMgqC3laOrI86Jca8cqZW9uX5G5XilX6F7MyQjQ5NCc5NugkZcSb05cmgFKuCLF6ErnScaL4WGx4zowfPr37JH4GBlPq6+dhmx6ABJMzsYtHTpeUUz1nfzOjpDIxFd/GjHD9DkXzlXxOJuATn/auN29nQZGWKb13ZEWAnUzrE2BMFjNuxfNxzdBeLh6sL24uWfcsV/unW2dYzKjaEgZlVH1a17XogPCMfA+xoHK1+QBr5yXv5PNJNWkkAbXzNeIgpqj4ZL8xd5luld0qdV707HPNzo1cAWr6G8dt85QznB3DYi0No5ev11xyf3XAqLeMhNxvlMHJliuTiH41TE3YuboOUSYOj1J89ae8f4NJo=\n"
     ]
    }
   ],
   "source": [
    "// One way to implement selective disclosure is to hash every value, and the \n",
    "// holder of the credential would share only the values he intends to. \n",
    "\n",
    "// issuer will hash the values before signing the data\n",
    "function hashValue(value: string, algorithm: string): string {\n",
    "  const hash = crypto.createHash(algorithm);\n",
    "  hash.update(value);\n",
    "  return hash.digest('hex');\n",
    "}\n",
    "CHOSEN_HASH_ALGORITHM = 'sha256'\n",
    "const ID_DATA_HASHED_VERSION = {\n",
    "    name: hashValue(\"Jack Sparrow\", CHOSEN_HASH_ALGORITHM),\n",
    "    age: hashValue(\"61\", CHOSEN_HASH_ALGORITHM),\n",
    "    profession: hashValue(\"IT Manager\", CHOSEN_HASH_ALGORITHM)\n",
    "}\n",
    "\n",
    "// An issuer will convert the data object into a string\n",
    "const message = JSON.stringify(ID_DATA_HASHED_VERSION);\n",
    "\n",
    "// then create a signature for that data\n",
    "const signer = crypto.createSign('SHA256');\n",
    "signer.update(message);\n",
    "\n",
    "const signature = signer.sign(privateKey, 'base64');\n",
    "console.log(message);\n",
    "console.log(\"----------------------------\");\n",
    "console.log(signature);"
   ]
  },
  {
   "cell_type": "code",
   "execution_count": 37,
   "id": "475e862f-c0c5-4357-b727-74746004a5e4",
   "metadata": {},
   "outputs": [
    {
     "name": "stdout",
     "output_type": "stream",
     "text": [
      "\u001b[33mtrue\u001b[39m\n"
     ]
    }
   ],
   "source": [
    "// Now, similarly a verifier can use the same mechanism to verify that a given data is accurate\n",
    "\n",
    "let verifier = crypto.createVerify('SHA256');\n",
    "verifier.update(message)\n",
    "console.log(verifier.verify(publicKey, signature, 'base64'))"
   ]
  },
  {
   "cell_type": "code",
   "execution_count": 35,
   "id": "1c455bf4-771e-45b3-bbdc-cf3bf9deaf6b",
   "metadata": {},
   "outputs": [],
   "source": [
    "// But the content of this message is not useful by itself, so the holder needs to attach the unhashed data\n",
    "\n",
    "// For example, the holder can share the value for the name and and profession\n",
    "const HOLDER_SHARED_DATA = {\n",
    "    name: \"Jack Sparrow\",\n",
    "    profession: \"IT Manager\"\n",
    "}\n",
    "// along with which hashing algorithm was used\n",
    "const HOLDER_HASH_ALGORITHM = \"SHA256\""
   ]
  },
  {
   "cell_type": "code",
   "execution_count": 56,
   "id": "66b62c76-7085-4ff2-a386-696bf821aaa7",
   "metadata": {},
   "outputs": [
    {
     "name": "stdout",
     "output_type": "stream",
     "text": [
      "Reconstructed data is the same as hashed data?: true\n"
     ]
    }
   ],
   "source": [
    "// Now, a verifier can use this information to ensure that the unhashed data is correct.\n",
    "// By rebuilding the hashed data object\n",
    "\n",
    "// Step 0. verifier's own hash function\n",
    "function hashValue(value: string, algorithm: string): string {\n",
    "  const hash = crypto.createHash(algorithm);\n",
    "  hash.update(value);\n",
    "  return hash.digest('hex');\n",
    "}\n",
    "\n",
    "// Step 1. Retrieve data object from JSON data\n",
    "const RETRIEVED_DATA = JSON.parse(message);\n",
    "\n",
    "// step 2. Replace the respective values with the revealed data.\n",
    "for (const key in HOLDER_SHARED_DATA) {\n",
    "    RETRIEVED_DATA[key] = hashValue(HOLDER_SHARED_DATA[key], HOLDER_HASH_ALGORITHM);\n",
    "}\n",
    "RETRIEVED_DATA\n",
    "\n",
    "// step 3. Make sure the reconstructed object is the same as the original hashed data\n",
    "console.log(`Reconstructed data is the same as hashed data?: ${JSON.stringify(RETRIEVED_DATA) === message}`)\n",
    "\n",
    "// Since we've already verified that the hashed message is valid in the previous code cell\n",
    "// and now we verified that the hashed values are equal to the revealed values, then\n",
    "// we conclude that we trust these revealed data."
   ]
  },
  {
   "cell_type": "markdown",
   "id": "f37642f1-e391-43e3-8646-42fccfb0cc7b",
   "metadata": {},
   "source": [
    "---\n",
    "\n",
    "## Unlinkability\n",
    "\n",
    "Unlinkability means that a verifier who interacts with a credential holder in an attempt to get access to some verifiable credentials, that verifiable should be unable to link different transactions made by the same holder using the same credential or different credentials belonging to the same holder.\n",
    "\n",
    "In other words, the different verifications are **unlinkable** with respect to the verifier.\n",
    "\n",
    "It's also important that the issuer of the credential doesn't have access to any information about when or how the issued credential is used.\n",
    "\n",
    "### Is this cryptographic scheme unlinkable?\n",
    "\n",
    "No! because verifiers can store the signature which will always stay the same. This way, verifiers can compare signatures, and deduce that it's the same credential by the same user. \n",
    "\n",
    "Another reason is that verifiers always have access to all the data in the hashed form, so even though they don't know the hashed value, they can still compare hashed values together, and deduce that result. For fields like age, it's also easy to guess the hidden value. "
   ]
  },
  {
   "cell_type": "code",
   "execution_count": 59,
   "id": "61feedae-9c82-4af7-a74f-c4bd63db898f",
   "metadata": {},
   "outputs": [
    {
     "name": "stdout",
     "output_type": "stream",
     "text": [
      "{\n",
      "  name: \u001b[32m'a5d0dd92108bc55cadfaf56e36a60a7121b059d9e0d09c2d24d853e9d1d14ea7'\u001b[39m,\n",
      "  age: \u001b[32m'd029fa3a95e174a19934857f535eb9427d967218a36ea014b70ad704bc6c8d1c'\u001b[39m,\n",
      "  profession: \u001b[32m'c249aac9d89f89626fbcaa519d53e386478a22b775414c324e61289e033f1652'\u001b[39m\n",
      "}\n"
     ]
    }
   ],
   "source": [
    "// data in hashed form. hashing an age of 61 will always be the same.\n",
    "RETRIEVED_DATA"
   ]
  },
  {
   "cell_type": "code",
   "execution_count": null,
   "id": "1579bdb7-02c7-4b7e-92e7-79568d23a3c7",
   "metadata": {},
   "outputs": [],
   "source": []
  }
 ],
 "metadata": {
  "kernelspec": {
   "display_name": "TypeScript",
   "language": "typescript",
   "name": "tslab"
  },
  "language_info": {
   "codemirror_mode": {
    "mode": "typescript",
    "name": "javascript",
    "typescript": true
   },
   "file_extension": ".ts",
   "mimetype": "text/typescript",
   "name": "typescript",
   "version": "3.7.2"
  }
 },
 "nbformat": 4,
 "nbformat_minor": 5
}
