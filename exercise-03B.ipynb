{
 "cells": [
  {
   "cell_type": "markdown",
   "id": "2856edce-b316-4d47-a561-668a4edc2bc0",
   "metadata": {},
   "source": [
    "### Welcome to the third exercise on E-ID in this E-ID Workshop\n",
    "\n",
    "Before we start, make sure you have everything installed by following one of the outlined methods in the ReadMe file. \n",
    "\n",
    "### Purpose of this exercise\n",
    "This jupyter notebook explains the following:\n",
    "1. Zero-Knowledge proofs and specifically range proofs using BBS\n",
    "2. How to use them using BulletProof++\n",
    "3. How to use them using LegoGroth16\n",
    "4. All examples here will use the **docknetwork crypto library**"
   ]
  },
  {
   "cell_type": "code",
   "execution_count": null,
   "id": "26a04d81-9345-4bac-9a53-5cc15d5fd592",
   "metadata": {},
   "outputs": [],
   "source": [
    "const E_ID_SCHEMA = {\n",
    "    type: 'object',\n",
    "    properties: {\n",
    "        name: { type: 'string' },\n",
    "        profession: { type: 'string' },\n",
    "        timeOfBirth: { type: 'integer', minimum: 0, maximum: 120},\n",
    "        height: {type: 'integer', minimum: 130, maximum: 210},\n",
    "        weight: {type: 'number', minimum: 40, multipleOf: 0.1}\n",
    "    }\n",
    "}\n",
    "const E_ID_DATA = {\n",
    "    name: \"Jack Sparrow\",\n",
    "    timeOfBirth: new Date(\"1993-08-01T00:00:00\").getTime(),\n",
    "    profession: \"IT Manager\",\n",
    "    height: 176,\n",
    "    weight: 84\n",
    "}"
   ]
  },
  {
   "cell_type": "code",
   "execution_count": null,
   "id": "7fe47f62-9b21-474a-982a-9dc17efbec52",
   "metadata": {},
   "outputs": [],
   "source": [
    "import { initializeWasm } from '@docknetwork/crypto-wasm-ts'\n",
    "await initializeWasm();"
   ]
  },
  {
   "cell_type": "markdown",
   "id": "54ecc8ab-24e2-4fb6-9499-1a47977a62e2",
   "metadata": {},
   "source": [
    "## Issuer"
   ]
  },
  {
   "cell_type": "code",
   "execution_count": null,
   "id": "1c30011b-a462-4096-8666-2845db3362a1",
   "metadata": {},
   "outputs": [],
   "source": [
    "// Generating a keypair once signature parameters are created.\n",
    "import { BBSKeypair, BBSSignatureParams, BBS_SIGNATURE_PARAMS_LABEL_BYTES } from '@docknetwork/crypto-wasm-ts';\n",
    "\n",
    "const stringToBytes = (str: string) => Uint8Array.from(Buffer.from(str, \"utf-8\"));\n",
    "\n",
    "const params = BBSSignatureParams.generate(100, BBS_SIGNATURE_PARAMS_LABEL_BYTES);\n",
    "const keypair = BBSKeypair.generate(params, stringToBytes('seed1'));\n",
    "\n",
    "const secretKey = keypair.secretKey;\n",
    "const publicKey = keypair.publicKey;"
   ]
  },
  {
   "cell_type": "code",
   "execution_count": null,
   "id": "1438940b-20ee-48d1-aa1a-111f1bd5256a",
   "metadata": {},
   "outputs": [],
   "source": [
    "// Issing a credential based on the E-ID data based on the specified schema\n",
    "import { CredentialSchema, BBSCredentialBuilder, BBSCredential, SUBJECT_STR } from '@docknetwork/crypto-wasm-ts'\n",
    "\n",
    "const schema = CredentialSchema.essential(); \n",
    "schema.properties[SUBJECT_STR] = E_ID_SCHEMA\n",
    "\n",
    "const builder = new BBSCredentialBuilder();\n",
    "builder.schema = new CredentialSchema(schema);\n",
    "builder.subject = E_ID_DATA\n",
    "\n",
    "const credential = builder.sign(secretKey);\n",
    "\n",
    "const credentialToSendToHolder = credential.toJSON()"
   ]
  },
  {
   "cell_type": "markdown",
   "id": "f4db5ab7-20f8-49ae-8f75-b9cfc14404a3",
   "metadata": {},
   "source": [
    "# LegoGroth16"
   ]
  },
  {
   "cell_type": "code",
   "execution_count": null,
   "id": "493d049b-3267-4826-a621-4bb8027830cb",
   "metadata": {},
   "outputs": [],
   "source": [
    "// This section establishes a range proof capability based on the LegoGroth16 algorithm\n",
    "\n",
    "// The verifier is responsible for creating these keys, then sharing only the proving key with \n",
    "// the credential holder\n",
    "import { BoundCheckSnarkSetup, SetupParam } from '@docknetwork/crypto-wasm-ts';\n",
    "const provingKey = BoundCheckSnarkSetup();\n",
    "const snarkProvingKey = provingKey.decompress();\n",
    "const snarkVerifyingKey = provingKey.getVerifyingKeyUncompressed();"
   ]
  },
  {
   "cell_type": "markdown",
   "id": "9bb6dace-0878-48c7-a413-adc8e94ed36e",
   "metadata": {},
   "source": [
    "## Credential Holder"
   ]
  },
  {
   "cell_type": "code",
   "execution_count": null,
   "id": "b70c8b80-d9c7-4f37-b36f-2306d4386b9e",
   "metadata": {},
   "outputs": [],
   "source": [
    "import { PresentationBuilder } from '@docknetwork/crypto-wasm-ts'\n",
    "const builder = new PresentationBuilder();\n",
    "builder.addCredential(credential, publicKey)\n",
    "builder.markAttributesRevealed(0, new Set<string>(['credentialSubject.name', 'credentialSubject.profession']));\n",
    "builder.enforceBounds(0, 'credentialSubject.height', 170, 190, 'ageRangeCheck', snarkProvingKey);\n",
    "\n",
    "const presentation = builder.finalize();"
   ]
  },
  {
   "cell_type": "markdown",
   "id": "34e1eda7-00b0-4494-806a-0cf0d90297ba",
   "metadata": {},
   "source": [
    "### sending data to Verifier\n",
    "data: \n",
    "1. selected data to be revealed\n",
    "2. Schema of the credential\n",
    "3. Proof of signature\n",
    "\n",
    "All these info and more are stored in the \"presentation object\". Note that this object is a completely serializable JSON object.\n",
    "\n",
    "## Verifier"
   ]
  },
  {
   "cell_type": "code",
   "execution_count": null,
   "id": "9a7ae62e-a246-4aa0-91d3-f95f9d1a58bf",
   "metadata": {},
   "outputs": [],
   "source": [
    "const receivedObjectOnVerifierSide = presentation.toJSON()\n",
    "receivedObjectOnVerifierSide  // Assume this was serialized and sent across an API to the verifier.\n",
    "presentation.spec.credentials[0]"
   ]
  },
  {
   "cell_type": "code",
   "execution_count": null,
   "id": "577d5945-088f-4fbd-a54a-9e851de8c0d1",
   "metadata": {},
   "outputs": [],
   "source": [
    "import { Presentation } from '@docknetwork/crypto-wasm-ts'\n",
    "\n",
    "const predicateParams = new Map([['ageRangeCheck', snarkVerifyingKey]]);\n",
    "\n",
    "const recreatedPres = Presentation.fromJSON(receivedObjectOnVerifierSide)\n",
    "recreatedPres.verify([publicKey], undefined, predicateParams)"
   ]
  },
  {
   "cell_type": "code",
   "execution_count": null,
   "id": "0864791b-3582-4ab6-994e-6c45dfcf4dae",
   "metadata": {},
   "outputs": [],
   "source": [
    "presentation.spec.credentials[0]"
   ]
  },
  {
   "cell_type": "markdown",
   "id": "e52b7bb0-8148-4721-9cb9-fd231bf42cdf",
   "metadata": {},
   "source": [
    "### Now, we redo the experiment with BulletProof++"
   ]
  },
  {
   "cell_type": "code",
   "execution_count": null,
   "id": "4568097c-cd67-4cd6-a933-2777de137149",
   "metadata": {},
   "outputs": [],
   "source": [
    "import { BoundCheckBppParams } from '@docknetwork/crypto-wasm-ts'"
   ]
  },
  {
   "cell_type": "code",
   "execution_count": null,
   "id": "43d435dc-c634-47ac-b018-58fd4310998a",
   "metadata": {},
   "outputs": [],
   "source": [
    "import { PresentationBuilder } from '@docknetwork/crypto-wasm-ts'\n",
    "const builder = new PresentationBuilder();\n",
    "builder.addCredential(credential, publicKey)\n",
    "builder.markAttributesRevealed(0, new Set<string>(['credentialSubject.name', 'credentialSubject.profession']));\n",
    "\n",
    "// The Holder creates his own parameters for the range proof\n",
    "const boundCheckBppParams1 = new BoundCheckBppParams(stringToBytes('Common Reference String')).decompress();\n",
    "builder.enforceBounds(0, 'credentialSubject.height', 170, 190, 'ageRangeCheck', boundCheckBppParams1);\n",
    "\n",
    "const presentation = builder.finalize();\n",
    "const receivedObjectOnVerifierSide = presentation.toJSON()\n",
    "presentation.spec.credentials[0]"
   ]
  },
  {
   "cell_type": "code",
   "execution_count": null,
   "id": "b07e3e40-da17-4c0d-ac31-66e3c750aaa5",
   "metadata": {},
   "outputs": [],
   "source": [
    "import { Presentation } from '@docknetwork/crypto-wasm-ts'\n",
    "\n",
    "// The verifier creates his own parameters for the range proof\n",
    "const boundCheckBppParams2 = new BoundCheckBppParams(stringToBytes('Common Reference String')).decompress();\n",
    "\n",
    "const predicateParams1 = new Map([['ageRangeCheck', boundCheckBppParams2]]);\n",
    "\n",
    "const recreatedPres = Presentation.fromJSON(receivedObjectOnVerifierSide)\n",
    "recreatedPres.verify([publicKey], undefined, predicateParams1)"
   ]
  },
  {
   "cell_type": "markdown",
   "id": "0f7e8976-2003-41c4-a2ae-aa3ccc3451b0",
   "metadata": {},
   "source": [
    "# Comparative study of BulletProof++ and LegoGroth16 \n",
    "\n",
    "The main difference we saw, so far, is that LegoGroth16 requires the verifier to create a key pair, and send one key to the credential holder, while using the other one later to verify the range proof.\n",
    "\n",
    "**Now, we will compare the two algorithms on two aspects:**\n",
    "1. Time to create the proof\n",
    "2. Size of messages exchanged\n",
    "\n",
    "**Note:**\n",
    "We will use **BP** for bulletProof++ and **LG** for LegoGroth16"
   ]
  },
  {
   "cell_type": "code",
   "execution_count": null,
   "id": "e183e475-3bcb-4fe1-9bdf-f74489ecfd3e",
   "metadata": {},
   "outputs": [],
   "source": [
    "// BulletProof++\n",
    "\n",
    "// We measure the time taken to create the verification keys\n",
    "let BPProofTimes: number[] = []\n",
    "let BPProofSizes: number[] = []\n",
    "let BPVerificationTimes: number[] = []\n",
    "// BulletProof++ -- setup time\n",
    "let startTime = performance.now();\n",
    "\n",
    "const boundCheckBppParams = new BoundCheckBppParams(stringToBytes('Bulletproofs++ testing')).decompress();\n",
    "const BPSetupTime = Math.floor(performance.now() - startTime) / 1000;\n",
    "\n",
    "BPProofTimes.push(BPSetupTime)\n",
    "console.log(`Time taken to setup BP++: ${BPSetupTime} seconds`)\n",
    "\n",
    "// Proof creation without any range bounds\n",
    "startTime = performance.now()\n",
    "\n",
    "let builder = new PresentationBuilder();\n",
    "builder.addCredential(credential, publicKey)\n",
    "builder.markAttributesRevealed(0, new Set<string>(['credentialSubject.name', 'credentialSubject.profession']));\n",
    "let presentation = builder.finalize();\n",
    "\n",
    "let consumedTime = Math.floor(performance.now() - startTime) / 1000;\n",
    "presentation.verify([publicKey], undefined, undefined)\n",
    "let verificationTime = (Math.floor(performance.now() - startTime - (consumedTime * 1000)) / 1000);\n",
    "BPProofTimes.push(consumedTime);\n",
    "BPVerificationTimes.push(verificationTime);\n",
    "BPProofSizes.push(presentation.proof.bytes.length);\n",
    "console.log(`Proof size without any range bounds is: ${presentation.proof.bytes.length} bytes`);\n",
    "console.log(`Time taken to generate proof with no range bounds ~${consumedTime} seconds`);\n",
    "console.log(`Time taken to validate proof with no range bounds ~${verificationTime} seconds`);\n",
    "\n",
    "// Proof creation with one range bounds \n",
    "startTime = performance.now()\n",
    "builder = new PresentationBuilder();\n",
    "builder.addCredential(credential, publicKey)\n",
    "builder.markAttributesRevealed(0, new Set<string>(['credentialSubject.name', 'credentialSubject.profession']));\n",
    "builder.enforceBounds(\n",
    "    0, 'credentialSubject.timeOfBirth', new Date(\"1972-01-01T00:00:00\").getTime(),\n",
    "    new Date(\"2020-08-01T00:00:00\").getTime(), 'timeOfBirthRangeCheck', boundCheckBppParams\n",
    ");\n",
    "presentation = builder.finalize();\n",
    "consumedTime = Math.floor(performance.now() - startTime) / 1000;\n",
    "presentation.verify([publicKey], undefined, new Map([['timeOfBirthRangeCheck', boundCheckBppParams]]));\n",
    "verificationTime = (Math.floor(performance.now() - startTime - (consumedTime * 1000)) / 1000);\n",
    "BPProofTimes.push(consumedTime);\n",
    "BPVerificationTimes.push(verificationTime);\n",
    "BPProofSizes.push(presentation.proof.bytes.length);\n",
    "console.log(`Proof size with one range bounds is: ${presentation.proof.bytes.length}  bytes`);\n",
    "console.log(`Time taken to generate proof with one range bounds ~${consumedTime} seconds`);\n",
    "console.log(`Time taken to validate proof with no range bounds ~${verificationTime} seconds`);\n",
    "\n",
    "// Proof creation with two range bounds \n",
    "startTime = performance.now()\n",
    "builder = new PresentationBuilder();\n",
    "builder.addCredential(credential, publicKey)\n",
    "builder.markAttributesRevealed(0, new Set<string>(['credentialSubject.name', 'credentialSubject.profession']));\n",
    "builder.enforceBounds(\n",
    "    0, 'credentialSubject.timeOfBirth', new Date(\"1972-01-01T00:00:00\").getTime(),\n",
    "    new Date(\"2020-08-01T00:00:00\").getTime(), 'timeOfBirthRangeCheck', boundCheckBppParams\n",
    ");\n",
    "builder.enforceBounds(0, 'credentialSubject.height', 170, 190, 'heightRangeCheck', boundCheckBppParams);\n",
    "presentation = builder.finalize();\n",
    "consumedTime = Math.floor(performance.now() - startTime) / 1000;\n",
    "presentation.verify([publicKey], undefined, new Map([['timeOfBirthRangeCheck', boundCheckBppParams], ['heightRangeCheck', boundCheckBppParams]]));\n",
    "verificationTime = (Math.floor(performance.now() - startTime - (consumedTime * 1000)) / 1000);\n",
    "BPProofTimes.push(consumedTime);\n",
    "BPVerificationTimes.push(verificationTime);\n",
    "BPProofSizes.push(presentation.proof.bytes.length);\n",
    "console.log(`Proof size with two range bounds is: ${presentation.proof.bytes.length}  bytes`);\n",
    "console.log(`Time taken to generate proof with two range bounds ~${consumedTime} seconds`);\n",
    "console.log(`Time taken to validate proof with no range bounds ~${verificationTime} seconds`);\n",
    "\n",
    "// Proof creation with three range bounds \n",
    "startTime = performance.now()\n",
    "builder = new PresentationBuilder();\n",
    "builder.addCredential(credential, publicKey)\n",
    "builder.markAttributesRevealed(0, new Set<string>(['credentialSubject.name', 'credentialSubject.profession']));\n",
    "builder.enforceBounds(0, 'credentialSubject.timeOfBirth', new Date(\"1972-01-01T00:00:00\").getTime(), new Date(\"2020-08-01T00:00:00\").getTime(), 'timeOfBirthRangeCheck', boundCheckBppParams);\n",
    "builder.enforceBounds(0, 'credentialSubject.height', 170, 190, 'heightRangeCheck', boundCheckBppParams);\n",
    "builder.enforceBounds(0, 'credentialSubject.weight', 70, 85, 'weightRangeCheck', boundCheckBppParams);\n",
    "presentation = builder.finalize();\n",
    "consumedTime = Math.floor(performance.now() - startTime) / 1000;\n",
    "presentation.verify([publicKey], undefined, new Map([['timeOfBirthRangeCheck', boundCheckBppParams], ['heightRangeCheck', boundCheckBppParams], ['weightRangeCheck', boundCheckBppParams]]));\n",
    "verificationTime = (Math.floor(performance.now() - startTime - (consumedTime * 1000)) / 1000);\n",
    "BPProofTimes.push(consumedTime);\n",
    "BPVerificationTimes.push(verificationTime);\n",
    "BPProofSizes.push(presentation.proof.bytes.length);\n",
    "console.log(`Proof size with three range bounds is: ${presentation.proof.bytes.length}  bytes`);\n",
    "console.log(`Time taken to generate proof with three range bounds ~${consumedTime} seconds`);\n",
    "console.log(`Time taken to validate proof with no range bounds ~${verificationTime} seconds`);"
   ]
  },
  {
   "cell_type": "code",
   "execution_count": null,
   "id": "5ab68e7b-2e01-46df-a325-0a7648134356",
   "metadata": {},
   "outputs": [],
   "source": [
    "// LegoGroth16\n",
    "// We measure the time taken to create the verification keys\n",
    "let LGProofTimes: number[] = []\n",
    "let LGProofSizes: number[] = []\n",
    "let LGVerificationTimes: number[] = []\n",
    "\n",
    "// Setup time\n",
    "let startTime = performance.now();\n",
    "const provingKey = BoundCheckSnarkSetup();\n",
    "const snarkProvingKey = provingKey.decompress();\n",
    "const snarkVerifyingKey = provingKey.getVerifyingKeyUncompressed();\n",
    "\n",
    "let LGSetupTime = Math.floor(performance.now() - startTime) / 1000;\n",
    "LGProofTimes.push(LGSetupTime);\n",
    "console.log(`Time taken to setup LG16: ${LGSetupTime} seconds`);\n",
    "\n",
    "// Proof creation without any range bounds\n",
    "startTime = performance.now()\n",
    "let builder = new PresentationBuilder();\n",
    "builder.addCredential(credential, publicKey)\n",
    "builder.markAttributesRevealed(0, new Set<string>(['credentialSubject.name', 'credentialSubject.profession']));\n",
    "let presentation = builder.finalize();\n",
    "consumedTime = Math.floor(performance.now() - startTime) / 1000;\n",
    "presentation.verify([publicKey], undefined, undefined);\n",
    "verificationTime = (Math.floor(performance.now() - startTime - (consumedTime * 1000)) / 1000);\n",
    "LGProofTimes.push(consumedTime);\n",
    "LGVerificationTimes.push(verificationTime);\n",
    "LGProofSizes.push(presentation.proof.bytes.length);                \n",
    "console.log(`Proof size without any range bounds is: ${presentation.proof.bytes.length} bytes`);\n",
    "console.log(`Time taken to generate proof with no range bounds ~${consumedTime} seconds`);\n",
    "console.log(`Time taken to validate proof with no range bounds ~${verificationTime} seconds`);\n",
    "\n",
    "// Proof creation with one range bounds \n",
    "startTime = performance.now()\n",
    "builder = new PresentationBuilder();\n",
    "builder.addCredential(credential, publicKey)\n",
    "builder.markAttributesRevealed(0, new Set<string>(['credentialSubject.name', 'credentialSubject.profession']));\n",
    "builder.enforceBounds(0, 'credentialSubject.timeOfBirth', new Date(\"1972-01-01T00:00:00\").getTime(), new Date(\"2020-08-01T00:00:00\").getTime(), 'timeOfBirthRangeCheck', snarkProvingKey);\n",
    "presentation = builder.finalize();\n",
    "consumedTime = Math.floor(performance.now() - startTime) / 1000;\n",
    "presentation.verify([publicKey], undefined, new Map([['timeOfBirthRangeCheck', snarkVerifyingKey]]));\n",
    "verificationTime = (Math.floor(performance.now() - startTime - (consumedTime * 1000)) / 1000);\n",
    "LGProofTimes.push(consumedTime);\n",
    "LGVerificationTimes.push(verificationTime);\n",
    "LGProofSizes.push(presentation.proof.bytes.length);\n",
    "console.log(`Proof size with one range bounds is: ${presentation.proof.bytes.length}  bytes`);\n",
    "console.log(`Time taken to generate proof with one range bounds ~${consumedTime} seconds`);\n",
    "console.log(`Time taken to validate proof with no range bounds ~${verificationTime} seconds`);\n",
    "\n",
    "// Proof creation with two range bounds \n",
    "startTime = performance.now()\n",
    "builder = new PresentationBuilder();\n",
    "builder.addCredential(credential, publicKey)\n",
    "builder.markAttributesRevealed(0, new Set<string>(['credentialSubject.name', 'credentialSubject.profession']));\n",
    "builder.enforceBounds(0, 'credentialSubject.timeOfBirth', new Date(\"1972-01-01T00:00:00\").getTime(), new Date(\"2020-08-01T00:00:00\").getTime(), 'timeOfBirthRangeCheck', snarkProvingKey);\n",
    "builder.enforceBounds(0, 'credentialSubject.height', 170, 190, 'heightRangeCheck', snarkProvingKey);\n",
    "presentation = builder.finalize();\n",
    "consumedTime = Math.floor(performance.now() - startTime) / 1000;\n",
    "presentation.verify([publicKey], undefined, new Map([['timeOfBirthRangeCheck', snarkVerifyingKey], ['heightRangeCheck', snarkVerifyingKey]]));\n",
    "verificationTime = (Math.floor(performance.now() - startTime - (consumedTime * 1000)) / 1000);\n",
    "LGProofTimes.push(consumedTime);\n",
    "LGVerificationTimes.push(verificationTime);\n",
    "LGProofSizes.push(presentation.proof.bytes.length);\n",
    "console.log(`Proof size with two range bounds is: ${presentation.proof.bytes.length}  bytes`);\n",
    "console.log(`Time taken to generate proof with two range bounds ~${consumedTime} seconds`);\n",
    "console.log(`Time taken to validate proof with no range bounds ~${verificationTime} seconds`);\n",
    "\n",
    "// Proof creation with three range bounds \n",
    "startTime = performance.now();\n",
    "builder = new PresentationBuilder();\n",
    "builder.addCredential(credential, publicKey);\n",
    "builder.markAttributesRevealed(0, new Set<string>(['credentialSubject.name', 'credentialSubject.profession']));\n",
    "builder.enforceBounds(0, 'credentialSubject.timeOfBirth', new Date(\"1972-01-01T00:00:00\").getTime(), new Date(\"2020-08-01T00:00:00\").getTime(), 'timeOfBirthRangeCheck', snarkProvingKey);\n",
    "builder.enforceBounds(0, 'credentialSubject.height', 170, 190, 'heightRangeCheck', snarkProvingKey);\n",
    "builder.enforceBounds(0, 'credentialSubject.weight', 70, 85, 'weightRangeCheck', snarkProvingKey);\n",
    "\n",
    "presentation = builder.finalize();\n",
    "consumedTime = Math.floor(performance.now() - startTime) / 1000;\n",
    "presentation.verify([publicKey], undefined, new Map([['timeOfBirthRangeCheck', snarkVerifyingKey], ['heightRangeCheck', snarkVerifyingKey], ['weightRangeCheck', snarkVerifyingKey]]));\n",
    "verificationTime = (Math.floor(performance.now() - startTime - (consumedTime * 1000)) / 1000);\n",
    "LGProofTimes.push(consumedTime);\n",
    "LGVerificationTimes.push(verificationTime);\n",
    "LGProofSizes.push(presentation.proof.bytes.length);\n",
    "console.log(`Proof size with three range bounds is: ${presentation.proof.bytes.length}  bytes`);\n",
    "console.log(`Time taken to generate proof with three range bounds ~${consumedTime} seconds`);\n",
    "console.log(`Time taken to validate proof with no range bounds ~${verificationTime} seconds`);"
   ]
  },
  {
   "cell_type": "code",
   "execution_count": null,
   "id": "5604e8cc-431a-4244-bfa3-b482dd216fce",
   "metadata": {},
   "outputs": [],
   "source": [
    "console.log(BPProofTimes, LGProofTimes, BPProofSizes, LGProofSizes, BPVerificationTimes, LGVerificationTimes);"
   ]
  }
 ],
 "metadata": {
  "kernelspec": {
   "display_name": "TypeScript",
   "language": "typescript",
   "name": "tslab"
  },
  "language_info": {
   "codemirror_mode": {
    "mode": "typescript",
    "name": "javascript",
    "typescript": true
   },
   "file_extension": ".ts",
   "mimetype": "text/typescript",
   "name": "typescript",
   "version": "3.7.2"
  }
 },
 "nbformat": 4,
 "nbformat_minor": 5
}
