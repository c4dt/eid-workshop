{
 "cells": [
  {
   "cell_type": "markdown",
   "id": "337c8600-35f1-4f2c-84c9-1c230f589cab",
   "metadata": {},
   "source": [
    "# Exercise 1 - Signing Simply with RSA\n",
    "\n",
    "This first exercise shows how to prove the validity of a credential using an RSA signature.\n",
    "Then we create a simple version of Selective Disclosure (SD) to hide some of the data.\n",
    "Finally we'll fix our errors in the simple SD implementation.\n",
    "\n",
    "To understand these concepts in more detail, please refer to our blog post on [E-ID infrastructure](https://c4dt.epfl.ch/article/the-swiss-confederation-e-id-public-sandbox-trust-infrastructure-part-2/)\n",
    "\n",
    "## Sections\n",
    "\n",
    "1. Basic E-ID example using RSA cryptographic scheme\n",
    "2. Selective Disclosure using hashing\n",
    "3. Discussion: security of this scheme, and introduction to unlinkability\n",
    "4. Coding exercise: protect the hashes"
   ]
  },
  {
   "cell_type": "markdown",
   "id": "449536ab-ace1-41ea-b249-3ba1ed5c3276",
   "metadata": {},
   "source": [
    "---\n",
    "\n",
    "## 1. Basic E-ID example using RSA cryptographic scheme\n",
    "\n",
    "In this first section you'll learn how to do a simple protection of a credentials using signing.\n",
    "You'll find the following elements:\n",
    "\n",
    "- credential: an object holding personal data\n",
    "- issuer: a trusted entity who can sign a credential\n",
    "- holder: the person described by the personal data\n",
    "- verifier: wanting to learn parts of the personal data of the holder\n",
    "\n",
    "### Definition: Verifiable Credentials\n",
    "A verifiable credential, in its simplest form, is a signed string of data. An issuer will issue a credential by signing a specific string of data then sharing that string of data along with a cryptographic signature that can prove that this string was authorized/ issued by this specific issuer."
   ]
  },
  {
   "cell_type": "code",
   "execution_count": null,
   "id": "3bac72b3-23cf-421f-bfcf-4857ae725125",
   "metadata": {},
   "outputs": [],
   "source": [
    "// We start by creating a typical E-ID credential object that we will use through out this exercise\n",
    "const date = new Date(\"1993-08-01T00:00:00\")\n",
    "const ID_DATA = {\n",
    "    name: \"Jack Sparrow\",\n",
    "    timeOfBirth: date.getTime(),\n",
    "    profession: \"IT Manager\"\n",
    "}"
   ]
  },
  {
   "cell_type": "markdown",
   "id": "d074b6c3-8c3d-47c5-83fd-01468d9bca00",
   "metadata": {},
   "source": [
    "### Issuer\n",
    "\n",
    "The issuer has a public/private key pair.\n",
    "We suppose that its public key is known to everybody through an appropriate Public Key Infrastructure (PKI).\n",
    "If a holder wants to use their E-ID, they first need to get a verified credential from the issuer.\n",
    "This verified credential is simply the credential + a signature from the issuer."
   ]
  },
  {
   "cell_type": "code",
   "execution_count": null,
   "id": "29a58225-7126-4ce8-9144-b79e9ee7ae8d",
   "metadata": {},
   "outputs": [],
   "source": [
    "import * as crypto from 'crypto';"
   ]
  },
  {
   "cell_type": "code",
   "execution_count": null,
   "id": "0d085f1c-3854-44e6-ac09-bafdca23e6e8",
   "metadata": {},
   "outputs": [],
   "source": [
    "/* \n",
    " For an issuer to be able to start issuing Verifiable Credentials, it first needs\n",
    " to have its own cryptographic key pair. \n",
    " Issuers will sign the data using their private key. \n",
    "*/\n",
    "const { publicKey, privateKey } = crypto.generateKeyPairSync('rsa', {\n",
    "    modulusLength: 4096,\n",
    "    publicKeyEncoding: {\n",
    "      type: 'spki',   \n",
    "    \n",
    "      format: 'pem'\n",
    "    },\n",
    "    privateKeyEncoding: {\n",
    "      type: 'pkcs8',\n",
    "      format: 'pem',\n",
    "    }\n",
    "});"
   ]
  },
  {
   "cell_type": "code",
   "execution_count": null,
   "id": "6e9de6af-a313-4cd5-8e20-8b3588bccb73",
   "metadata": {},
   "outputs": [],
   "source": [
    "// An issuer will convert the data object into a string\n",
    "const message = JSON.stringify(ID_DATA)\n",
    "\n",
    "// then create a signature for that data\n",
    "const signer = crypto.createSign('SHA256');\n",
    "signer.update(message);\n",
    "const signature = signer.sign(privateKey, 'base64')\n",
    "\n",
    "console.log(message);\n",
    "console.log(\"----------------------------\")\n",
    "console.log(signature);"
   ]
  },
  {
   "cell_type": "markdown",
   "id": "0314e0bc-104a-4ca3-bb1e-b924e0d5b74a",
   "metadata": {},
   "source": [
    "### Issuer →  Holder\n",
    "\n",
    "After the signature is created, the data along with the signature is transfered to the holder\n",
    "\n",
    "In this case, the holder can only do one thing with this data which is to share the whole data string along with the signature\n",
    "\n",
    "### Holder →  Verifier\n",
    "\n",
    "Once the data is sent from holder to verifier, the verifier can verify that information as follows:"
   ]
  },
  {
   "cell_type": "code",
   "execution_count": null,
   "id": "abcf804e-4517-42d1-a51b-aa0237ff3d50",
   "metadata": {},
   "outputs": [],
   "source": [
    "// verifier now recieves \"message\" and \"signature\" data\n",
    "// The verifier should also have access to the publicKey of the issuer\n",
    "// through a Public Key Infrastructure (PKI)\n",
    "\n",
    "let verifier = crypto.createVerify('SHA256');\n",
    "verifier.update(message)\n",
    "console.log(\"The signature is correct:\", verifier.verify(publicKey, signature, 'base64'))"
   ]
  },
  {
   "cell_type": "markdown",
   "id": "37508b45-1e74-469d-a3c4-947a7903cd54",
   "metadata": {},
   "source": [
    "### Exercise\n",
    "\n",
    "Make sure that the signature fails in the following cases:\n",
    "\n",
    "- the message is different from the message used in the signing process\n",
    "- the public key is different than the public key from the issuer"
   ]
  },
  {
   "cell_type": "markdown",
   "id": "acf3a516-38da-486e-8ada-bfebe8058d10",
   "metadata": {},
   "source": [
    "---\n",
    "\n",
    "## 2. Selective Disclosure using hashing\n",
    "\n",
    "What if the holder of the credential wants to only share his name and profession but not his timeOfBirth?\n",
    "The current implementation wouldn't allow for that, so we will need to change it.\n",
    "The simplest solution is to hash all fields, and then only send the fields to be disclosed to the verifier.\n",
    "\n",
    "### Issuer"
   ]
  },
  {
   "cell_type": "code",
   "execution_count": null,
   "id": "ef44edbc-4c6c-4474-8f5e-747e5b877522",
   "metadata": {},
   "outputs": [],
   "source": [
    "// One way to implement selective disclosure is to hash every value, and the \n",
    "// holder of the credential would share only the values he intends to. \n",
    "\n",
    "// issuer will hash the values before signing the data\n",
    "function hashValue(value: string): string {\n",
    "  const hash = crypto.createHash('sha256');\n",
    "  hash.update(value);\n",
    "  return hash.digest('hex');\n",
    "}\n",
    "const ID_DATA_HASHED = {\n",
    "    name: hashValue(ID_DATA['name']),\n",
    "    timeOfBirth: hashValue(ID_DATA['timeOfBirth'].toString()),\n",
    "    profession: hashValue(ID_DATA['profession'])\n",
    "}\n",
    "\n",
    "// An issuer will convert the data object into a string\n",
    "const message = JSON.stringify(ID_DATA_HASHED);\n",
    "\n",
    "// then create a signature for that data\n",
    "const signer = crypto.createSign('SHA256');\n",
    "signer.update(message);\n",
    "\n",
    "const signature = signer.sign(privateKey, 'base64');\n",
    "console.log(message);\n",
    "console.log(\"----------------------------\");\n",
    "console.log(signature);"
   ]
  },
  {
   "cell_type": "markdown",
   "id": "e0a86a7f-7972-4687-b1d1-f9ec8f69c39e",
   "metadata": {},
   "source": [
    "### Issuer -> Holder\n",
    "\n",
    "Now the issuer will send the original data, the hashed data, and the sigature to the holder.\n",
    "\n",
    "### Issuer\n",
    "\n",
    "If the holder wants to disclose their name and profession, but keep the time of birth private, they will do the followig:"
   ]
  },
  {
   "cell_type": "code",
   "execution_count": null,
   "id": "1c455bf4-771e-45b3-bbdc-cf3bf9deaf6b",
   "metadata": {},
   "outputs": [],
   "source": [
    "// The holder discloses the value for the name and and profession:\n",
    "const HOLDER_DISCLOSED_DATA = {\n",
    "    name: ID_DATA['name'],\n",
    "    profession: ID_DATA['profession']\n",
    "}"
   ]
  },
  {
   "cell_type": "markdown",
   "id": "90588a41-11cf-4ab3-8604-acc045fdb2db",
   "metadata": {},
   "source": [
    "### Holder -> Verifier\n",
    "\n",
    "Now the holder will send the following data to the verifier:\n",
    "\n",
    "- `ID_DATA_HASHED`\n",
    "- `signature`\n",
    "- `HOLDER_DISCLOSED_DATA`\n",
    "\n",
    "This means that the verifier doesn't have access to the `timeOfBirth`.\n",
    "\n",
    "### Verifier\n",
    "\n",
    "The verifier now wants to make sure that the data they got from the holder are correct."
   ]
  },
  {
   "cell_type": "code",
   "execution_count": null,
   "id": "66b62c76-7085-4ff2-a386-696bf821aaa7",
   "metadata": {},
   "outputs": [],
   "source": [
    "// First the verifier has to check that the signature on the hashes is correct:\n",
    "\n",
    "let verifier = crypto.createVerify('SHA256');\n",
    "verifier.update(message)\n",
    "console.log(\"Signature verification:\", verifier.verify(publicKey, signature, 'base64'))\n",
    "\n",
    "// Now the verifier can compare the disclosed data with the hashed values in the credential.\n",
    "// If they are equal, and the hash-function is cryptographically secure, the verifier can be covinced that the data is correct.\n",
    "\n",
    "// 1. Retrieve data object from JSON data\n",
    "const RETRIEVED_DATA = JSON.parse(message);\n",
    "\n",
    "// 2. Compare the hashes of the credential with the hashes of the shared data\n",
    "for (const [key, value] of Object.entries(HOLDER_DISCLOSED_DATA)){\n",
    "    console.log(\"Verifying\", key, \":\", hashValue(value), \"==\", RETRIEVED_DATA[key], \"?\");\n",
    "    if (hashValue(value) != RETRIEVED_DATA[key]) {\n",
    "        throw new Error(`Reconstructed data in key ${key} is not the same as the hashed counterpart`);\n",
    "    }\n",
    "}\n",
    "\n",
    "// Since we've already verified that the hashed message is valid in the previous code cell\n",
    "// and now we verified that the hashed values are equal to the revealed values, then\n",
    "// we conclude that we trust these revealed data.\n",
    "\n",
    "console.log(\"Hashed values are equal, so the following is verified:\", HOLDER_DISCLOSED_DATA);"
   ]
  },
  {
   "cell_type": "markdown",
   "id": "b1580444-bdb9-43d0-b12b-9a3afb0f5088",
   "metadata": {},
   "source": [
    "### Exercise\n",
    "\n",
    "- Print the hashes of `hashValue(value)` and from the `RETRIEVED_DATA(key)` and compare them visually\n",
    "- Change the disclosed fields and make sure it still rus"
   ]
  },
  {
   "cell_type": "markdown",
   "id": "f37642f1-e391-43e3-8646-42fccfb0cc7b",
   "metadata": {},
   "source": [
    "---\n",
    "\n",
    "## 3. Discussion: security of this scheme, and introduction to unlinkability\n",
    "\n",
    "### Security of hashed values\n",
    "\n",
    "To keep some anonymity, the fields which the holder decides not to disclose remain hashed.\n",
    "How secure is this?\n",
    "For example, if the holder selectively discloses the `profession`, what can the verifier do with the other fields?\n",
    "\n",
    "### Unlinkability\n",
    "\n",
    "One of the big problems in current day ads is that even if you visit different websites, the ad-industry will correlate these visits into a single user profile.\n",
    "This allows these data brokers to sell your profile not only for ads, but also for influence campains, and for geo-tracking.\n",
    "Not only ad companies can do this, but these profiles are sold by the data brokers also to the government, or even to private persons!\n",
    "For this reason, presenting a credential multiple times should be **unlinkable**.\n",
    "\n",
    "Does the current scheme guarantee unlinkability of the holder towards different verifiers?"
   ]
  },
  {
   "cell_type": "markdown",
   "id": "3c874676-eef7-4e0d-8962-82fe6fbb16e0",
   "metadata": {},
   "source": [
    "---\n",
    "\n",
    "## 4. Coding exercise: protect the hashes\n",
    "\n",
    "Right now, the `timeOfBirth` can be guessed by looping over all possible dates to figure out someone's exact date of birth.\n",
    "\n",
    "- Create a way to hack the `timeOfBirth`. How can this be made faster?\n",
    "- How would you hack the `name`, or `profession`?\n",
    "- Reimplement the communication between the holder and verifier modifying the hash function in a way that doesn't make it easy to guess the fields"
   ]
  },
  {
   "cell_type": "code",
   "execution_count": null,
   "id": "052d9294-9263-42d7-9075-9ab231fbffa8",
   "metadata": {},
   "outputs": [],
   "source": []
  }
 ],
 "metadata": {
  "kernelspec": {
   "display_name": "TypeScript",
   "language": "typescript",
   "name": "tslab"
  },
  "language_info": {
   "codemirror_mode": {
    "mode": "typescript",
    "name": "javascript",
    "typescript": true
   },
   "file_extension": ".ts",
   "mimetype": "text/typescript",
   "name": "typescript",
   "version": "3.7.2"
  }
 },
 "nbformat": 4,
 "nbformat_minor": 5
}
