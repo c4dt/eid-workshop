{
 "cells": [
  {
   "cell_type": "markdown",
   "id": "337c8600-35f1-4f2c-84c9-1c230f589cab",
   "metadata": {},
   "source": [
    "### Welcome to the first exercise on E-ID in this E-ID Workshop\n",
    "Before we start, make sure you have everything installed by following one of the outlined methods in the ReadMe file. \n",
    "\n",
    "### Purpose of this exercise\n",
    "This jupyter notebook explains the following:\n",
    "1. Basic E-ID example using RSA cryptographic scheme\n",
    "2. Selective Disclosure using RSA and its downsides\n",
    "3. What is unlinkability in the E-ID world\n",
    "4. The previous points should explain to a degree the motivation behind the need for a more specialized cryptographic scheme"
   ]
  },
  {
   "cell_type": "code",
   "execution_count": 1,
   "id": "4c22f3b1-01a4-488d-af6a-05daeb5473c0",
   "metadata": {},
   "outputs": [
    {
     "name": "stdout",
     "output_type": "stream",
     "text": [
      "\u001b[33m744156000000\u001b[39m\n"
     ]
    }
   ],
   "source": [
    "const date = new Date(\"1993-08-01T00:00:00\")\n",
    "date.getTime()"
   ]
  },
  {
   "cell_type": "code",
   "execution_count": 2,
   "id": "3bac72b3-23cf-421f-bfcf-4857ae725125",
   "metadata": {},
   "outputs": [],
   "source": [
    "// We start by creating a typical E-ID object that we will use through out this exercise\n",
    "const ID_DATA = {\n",
    "    name: \"Jack Sparrow\",\n",
    "    timeOfBirth: date.getTime(),\n",
    "    profession: \"IT Manager\"\n",
    "}"
   ]
  },
  {
   "cell_type": "markdown",
   "id": "46fe56f5-f5b8-4ea4-9363-11ca63b7bb3a",
   "metadata": {},
   "source": [
    "## Definition: Verifiable Credentials\n",
    "A verifiable credential, in its simplest form, is a signed string of data. An issuer will issue a credential by signing a specific string of data then sharing that string of data along with a cryptographic signature that can prove that this string was authorized/ issued by this specific issuer."
   ]
  },
  {
   "cell_type": "code",
   "execution_count": 3,
   "id": "29a58225-7126-4ce8-9144-b79e9ee7ae8d",
   "metadata": {},
   "outputs": [],
   "source": [
    "import * as crypto from 'crypto';"
   ]
  },
  {
   "cell_type": "markdown",
   "id": "d074b6c3-8c3d-47c5-83fd-01468d9bca00",
   "metadata": {},
   "source": [
    "### Issuer"
   ]
  },
  {
   "cell_type": "code",
   "execution_count": 4,
   "id": "0d085f1c-3854-44e6-ac09-bafdca23e6e8",
   "metadata": {},
   "outputs": [],
   "source": [
    "/* \n",
    " For an issuer to be able to start issuing Verifiable Credentials, it first needs\n",
    " to have its own cryptographic key pair. \n",
    " Issuers will sign the data using their private key. \n",
    "*/\n",
    "const { publicKey, privateKey } = crypto.generateKeyPairSync('rsa', {\n",
    "    modulusLength: 4096,\n",
    "    publicKeyEncoding: {\n",
    "      type: 'spki',   \n",
    "    \n",
    "      format: 'pem'\n",
    "    },\n",
    "    privateKeyEncoding: {\n",
    "      type: 'pkcs8',\n",
    "      format: 'pem',\n",
    "    }\n",
    "});"
   ]
  },
  {
   "cell_type": "code",
   "execution_count": 5,
   "id": "6e9de6af-a313-4cd5-8e20-8b3588bccb73",
   "metadata": {},
   "outputs": [
    {
     "name": "stdout",
     "output_type": "stream",
     "text": [
      "{\"name\":\"Jack Sparrow\",\"timeOfBirth\":744156000000,\"profession\":\"IT Manager\"}\n",
      "----------------------------\n",
      "RARa/D28etqATx+sw6eILCdYeDpNINeENfLQVYBTrqQhV8aMd2kr4cxpP0o2+ImpzsZ5PZ3sqWASrVRuFYLZROqIwTuwfFtBWhTsDmmDyEKIg9sY1VH3aLlS7xfLJ+OFvI5kUjd47WwXUt1pqOaPDxJdgziCw0q/2IGWuPWdTI4k0HcggKdMI/UZWbdvBywbSVqQ+My16KZTmGo80CUV2gFoSRRmLf66Kt+/gAAcWIxJCDBbViKjj47rS5QfLqWfnMprV3QfsAc3hwQ/DWxyzQpYgEBP8rPCL0V0AxKY/XYn6XrqmF6xmnovSjnyIp5SofaDyeWDUroR4QKeeVOD17F4pa5zk2CIT3HVNmz7UGI0MioKhATr4wCOB1lVLyD6g4KTmF7QTDTUvuBlb2ltxKvkawCcfaW+oakMI4r7TrBU4/k9i9Y15YcpkQBHWOpoR9JPAKrgSwH7+SRC55pfyUQvNMfBtsrLOy1PvI+Jsf2XlYdzj4YDyCMvFZLzlWAuhnTg3mCmB0QkSS50TPUp9oam/WOUPEWqqRWsXviZ2BqzGI+ZVBWThIvWPBwMJOl+mt45JYrswvtG4jc/e+Q9fUqtskEc+7RI8oOLYs7yfhzFvXdNRdnG9csOSs8nCeEP6FZHqs/hPqJjjM9jq6rftixC8cyx+AqYstwhOdVAP7k=\n"
     ]
    }
   ],
   "source": [
    "// An issuer will convert the data object into a string\n",
    "const message = JSON.stringify(ID_DATA)\n",
    "\n",
    "// then create a signature for that data\n",
    "const signer = crypto.createSign('SHA256');\n",
    "signer.update(message);\n",
    "const signature = signer.sign(privateKey, 'base64')\n",
    "\n",
    "console.log(message);\n",
    "console.log(\"----------------------------\")\n",
    "console.log(signature);"
   ]
  },
  {
   "cell_type": "markdown",
   "id": "0314e0bc-104a-4ca3-bb1e-b924e0d5b74a",
   "metadata": {},
   "source": [
    "### Issuer →  Holder\n",
    "\n",
    "After the signature is created, the data along with the signature is transfered to the holder\n",
    "\n",
    "In this case, the holder can only do one thing with this data which is to share the whole data string along with the signature\n",
    "\n",
    "### Holder →  Verifier\n",
    "\n",
    "Once the data is sent from holder to verifier, the verifier can verify that information as follows:"
   ]
  },
  {
   "cell_type": "code",
   "execution_count": 6,
   "id": "abcf804e-4517-42d1-a51b-aa0237ff3d50",
   "metadata": {},
   "outputs": [
    {
     "name": "stdout",
     "output_type": "stream",
     "text": [
      "\u001b[33mtrue\u001b[39m\n"
     ]
    }
   ],
   "source": [
    "// verifier now recieves \"message\" and \"signature\" data\n",
    "// The verifier should also have access to the publicKey of the issuer\n",
    "// through a Public Key Infrastructure (PKI)\n",
    "\n",
    "let verifier = crypto.createVerify('SHA256');\n",
    "verifier.update(message)\n",
    "console.log(verifier.verify(publicKey, signature, 'base64'))"
   ]
  },
  {
   "cell_type": "code",
   "execution_count": 7,
   "id": "fcadcc4a-d56c-4b61-bf8e-ab1e46f167a3",
   "metadata": {},
   "outputs": [
    {
     "name": "stdout",
     "output_type": "stream",
     "text": [
      "\u001b[33mfalse\u001b[39m\n"
     ]
    }
   ],
   "source": [
    "// What happens if the data is not accurate or true?\n",
    "\n",
    "verifier = crypto.createVerify('SHA256');\n",
    "verifier.update(\"Another random message!\")\n",
    "console.log(verifier.verify(publicKey, signature, 'base64'))"
   ]
  },
  {
   "cell_type": "markdown",
   "id": "acf3a516-38da-486e-8ada-bfebe8058d10",
   "metadata": {},
   "source": [
    "---\n",
    "\n",
    "## Selective disclosure\n",
    "\n",
    "What if the holder of the credential wants to only share his name and profession but not his timeOfBirth?\n",
    "\n",
    "The current implementation wouldn't allow for that, so we will need to change it to some extent."
   ]
  },
  {
   "cell_type": "code",
   "execution_count": 9,
   "id": "ef44edbc-4c6c-4474-8f5e-747e5b877522",
   "metadata": {},
   "outputs": [
    {
     "name": "stdout",
     "output_type": "stream",
     "text": [
      "{\"name\":\"a5d0dd92108bc55cadfaf56e36a60a7121b059d9e0d09c2d24d853e9d1d14ea7\",\"timeOfBirth\":\"1f2336f8e0f01df150e470be77b33e4c9b9e758293a9e2944140cdeba976ff45\",\"profession\":\"c249aac9d89f89626fbcaa519d53e386478a22b775414c324e61289e033f1652\"}\n",
      "----------------------------\n",
      "PnATxFmq54vmu+nmCUcv5cHeZeNQdjHtebrNWpEG6ddJIg95KCsHiLB2pZd1S+iIawNA83ssLQl8U+XtvqtBSk4xkkTtTs1QicPvXzEeIaIH/N22hOrpIwRCcMxELoTrrJQwBHsjWWKqFQQjv2umD+A3xnfF7NU2rrN1+OjJU5VwOdemsy2MDCE4A0szuG/0+x+CsrdkQmF+ij1wldwqzoI3e5dcrzm1CBX+DpsAcC1EfdEFphdc3/fhDvlZy/mPI4DOFGw7PWDG89iMgHE44NQrECzWEiyqaukuLwfJX/NNlaS33q39tW1fn7aCJ37LnPHA+Yc/OO2OUvx9q01zkXzgEI3zHYjzBlfOK8X/R77R8f2qla4gHqHIloYzaBtdfLQsyJ0eMIte7ury7Rd9nM1Ut23KzneqQj2FmAUTMkJkwBeACBXsP6Awjr/hgH5Nojx84QMQJyVOy5tOmuPHitfiu++VRTL5xWyvpy9P0PdVZyGb4AcKluX1w4YpKHQuOCH8OL3MFKPH2eQEuIEaVSz/eK7+jFdK/LJ1Bk/ogZybo66Ks3EZGRXV215VMsN2VFXlSC2M0HXs4VrDkkrQtkoe1lCJ6dkkn3lDEjRpo7lI/NDWR7/gSyeO8FSKgLhd91zlK57NQstfPzrKjyIDziMJL2v6Mj/FMGF2mFKXNVE=\n"
     ]
    }
   ],
   "source": [
    "// One way to implement selective disclosure is to hash every value, and the \n",
    "// holder of the credential would share only the values he intends to. \n",
    "\n",
    "// issuer will hash the values before signing the data\n",
    "function hashValue(value: string): string {\n",
    "  const hash = crypto.createHash('sha256');\n",
    "  hash.update(value);\n",
    "  return hash.digest('hex');\n",
    "}\n",
    "const ID_DATA_HASHED = {\n",
    "    name: hashValue(ID_DATA['name']),\n",
    "    timeOfBirth: hashValue(ID_DATA['timeOfBirth'].toString()),\n",
    "    profession: hashValue(ID_DATA['profession'])\n",
    "}\n",
    "\n",
    "// An issuer will convert the data object into a string\n",
    "const message = JSON.stringify(ID_DATA_HASHED);\n",
    "\n",
    "// then create a signature for that data\n",
    "const signer = crypto.createSign('SHA256');\n",
    "signer.update(message);\n",
    "\n",
    "const signature = signer.sign(privateKey, 'base64');\n",
    "console.log(message);\n",
    "console.log(\"----------------------------\");\n",
    "console.log(signature);"
   ]
  },
  {
   "cell_type": "code",
   "execution_count": 10,
   "id": "475e862f-c0c5-4357-b727-74746004a5e4",
   "metadata": {},
   "outputs": [
    {
     "name": "stdout",
     "output_type": "stream",
     "text": [
      "\u001b[33mtrue\u001b[39m\n"
     ]
    }
   ],
   "source": [
    "// Now, similarly a verifier can use the same mechanism to verify that a given data is accurate\n",
    "\n",
    "let verifier = crypto.createVerify('SHA256');\n",
    "verifier.update(message)\n",
    "console.log(verifier.verify(publicKey, signature, 'base64'))"
   ]
  },
  {
   "cell_type": "code",
   "execution_count": 11,
   "id": "1c455bf4-771e-45b3-bbdc-cf3bf9deaf6b",
   "metadata": {},
   "outputs": [],
   "source": [
    "// But the content of this message is not useful by itself, so the holder needs to attach the unhashed data\n",
    "\n",
    "// For example, the holder can share the value for the name and and profession\n",
    "const HOLDER_SHARED_DATA = {\n",
    "    name: \"Jack Sparrow\",\n",
    "    profession: \"IT Manager\"\n",
    "}"
   ]
  },
  {
   "cell_type": "code",
   "execution_count": 18,
   "id": "66b62c76-7085-4ff2-a386-696bf821aaa7",
   "metadata": {},
   "outputs": [
    {
     "name": "stdout",
     "output_type": "stream",
     "text": [
      "{\n",
      "  name: \u001b[32m'a5d0dd92108bc55cadfaf56e36a60a7121b059d9e0d09c2d24d853e9d1d14ea7'\u001b[39m,\n",
      "  timeOfBirth: \u001b[32m'1f2336f8e0f01df150e470be77b33e4c9b9e758293a9e2944140cdeba976ff45'\u001b[39m,\n",
      "  profession: \u001b[32m'c249aac9d89f89626fbcaa519d53e386478a22b775414c324e61289e033f1652'\u001b[39m\n",
      "}\n"
     ]
    }
   ],
   "source": [
    "// Now, a verifier can use this information to ensure that the unhashed data is correct.\n",
    "// By rebuilding the hashed data object\n",
    "\n",
    "// Step 0. verifier's own hash function\n",
    "function hashValue(value: string): string {\n",
    "  const hash = crypto.createHash('sha256');\n",
    "  hash.update(value);\n",
    "  return hash.digest('hex');\n",
    "}\n",
    "\n",
    "// Step 1. Retrieve data object from JSON data\n",
    "const RETRIEVED_DATA = JSON.parse(message);\n",
    "\n",
    "// step 2. Make sure the reconstructed object is the same as the original hashed data\n",
    "for (const key in HOLDER_SHARED_DATA) {\n",
    "    if (hashValue(HOLDER_SHARED_DATA[key]) != RETRIEVED_DATA[key]) {\n",
    "        console.log(`Reconstructed data in key ${key} is not the same as the hashed counterpart`);\n",
    "    }\n",
    "}\n",
    "\n",
    "console.log(RETRIEVED_DATA)\n",
    "\n",
    "// Since we've already verified that the hashed message is valid in the previous code cell\n",
    "// and now we verified that the hashed values are equal to the revealed values, then\n",
    "// we conclude that we trust these revealed data."
   ]
  },
  {
   "cell_type": "markdown",
   "id": "f37642f1-e391-43e3-8646-42fccfb0cc7b",
   "metadata": {},
   "source": [
    "---\n",
    "\n",
    "## Unlinkability\n",
    "\n",
    "Unlinkability means that a verifier who interacts with a credential holder in an attempt to get access to some verifiable credentials, that verifiable should be unable to link different transactions made by the same holder using the same credential or different credentials belonging to the same holder.\n",
    "\n",
    "In other words, the different verifications are **unlinkable** with respect to the verifier.\n",
    "\n",
    "It's also important that the issuer of the credential doesn't have access to any information about when or how the issued credential is used.\n",
    "\n",
    "### Is this cryptographic scheme unlinkable?\n",
    "\n",
    "No! because verifiers can store the signature which will always stay the same. This way, verifiers can compare signatures, and deduce that it's the same credential by the same user.  \n",
    "Also the hashed values will always stay the same.\n",
    "\n",
    "Another reason is that verifiers always have access to all the data in the hashed form, so even though they don't know the hashed value, they can still compare hashed values together, and deduce that result. For fields like age, it's also easy to guess the hidden value. "
   ]
  },
  {
   "cell_type": "code",
   "execution_count": null,
   "id": "61feedae-9c82-4af7-a74f-c4bd63db898f",
   "metadata": {},
   "outputs": [],
   "source": [
    "// data in hashed form. hashing an timeOfBirth of 61 will always be the same.\n",
    "RETRIEVED_DATA"
   ]
  },
  {
   "cell_type": "markdown",
   "id": "3c874676-eef7-4e0d-8962-82fe6fbb16e0",
   "metadata": {},
   "source": [
    "## ToDo: Workshop activities\n",
    "What can the student change, adjust to change the functionalities? \n",
    "Exercise: \n",
    "1. Ask about the downsides of using hashed values in E-ID.\n",
    "2. Focus on implementing Salt-based hashing to prevent \"limited set hashed values like timeOfBirth\".\n",
    "\n",
    "## Fixes\n",
    "- [x] Use birthdate as age can get outdated\n",
    "- [x] Assume that SHA256 is the standard for all actors of the system - Don't communicate it.\n",
    "- [x] Review the ToDos in code"
   ]
  },
  {
   "cell_type": "code",
   "execution_count": null,
   "id": "052d9294-9263-42d7-9075-9ab231fbffa8",
   "metadata": {},
   "outputs": [],
   "source": []
  }
 ],
 "metadata": {
  "kernelspec": {
   "display_name": "TypeScript",
   "language": "typescript",
   "name": "tslab"
  },
  "language_info": {
   "codemirror_mode": {
    "mode": "typescript",
    "name": "javascript",
    "typescript": true
   },
   "file_extension": ".ts",
   "mimetype": "text/typescript",
   "name": "typescript",
   "version": "3.7.2"
  }
 },
 "nbformat": 4,
 "nbformat_minor": 5
}
