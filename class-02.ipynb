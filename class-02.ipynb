{
 "cells": [
  {
   "cell_type": "markdown",
   "id": "2ff09d13-7d4e-412a-9902-9381b6c079db",
   "metadata": {},
   "source": [
    "### Welcome to the second class on E-ID in this 3-class series\n",
    "Before we start, make sure you have everything installed by following one of the outlined methods in the ReadMe file. \n",
    "\n",
    "### Purpose of this exercise\n",
    "This jupyter notebook explains the following:\n",
    "1. Basic E-ID example using the BBS cryptographic scheme\n",
    "2. Selective Disclosure using BBS\n",
    "3. Unlinkability using BBS and what role Zero-knowledge proofs play in it.\n",
    "5. The previous points will use the **docknetwork crypto library**"
   ]
  },
  {
   "cell_type": "markdown",
   "id": "489c6f67-fab3-4499-bd3b-33d1bb69c1cc",
   "metadata": {},
   "source": [
    "---\n",
    "## Technical overview\n",
    "In this exercise, we will explore the BBS cryptographic scheme, and see how it differs from a classic RSA scheme as explored in the previous exercise.\n",
    "\n",
    "For this, we will use a different typescript library https://github.com/docknetwork/crypto-wasm-ts\n"
   ]
  },
  {
   "cell_type": "code",
   "execution_count": 26,
   "id": "1b40920b-0555-4178-badc-87a136bfd742",
   "metadata": {},
   "outputs": [],
   "source": [
    "// We start by declaring our most important asset which is the E-ID Verifiable Credential we will be working with.\n",
    "\n",
    "const E_ID_DATA = {\n",
    "    name: \"Jack Sparrow\",\n",
    "    age: 61,\n",
    "    profession: \"IT Manager\"\n",
    "}\n",
    "\n",
    "// For this advanced library, we will also need to specify the schema of Credential we're working with.\n",
    "// Specifying the schema will be useful later to get the correct encoding of each field.\n",
    "const E_ID_SCHEMA = {\n",
    "    type: 'object',\n",
    "    properties: {\n",
    "        name: { type: 'string' },\n",
    "        profession: { type: 'string' },\n",
    "        age: { type: 'integer', minimum: 0, maximum: 120},\n",
    "    }\n",
    "}"
   ]
  },
  {
   "cell_type": "code",
   "execution_count": 27,
   "id": "a693b229-cd36-4fba-aed6-fc7841ac3513",
   "metadata": {},
   "outputs": [],
   "source": [
    "import { initializeWasm } from '@docknetwork/crypto-wasm-ts'\n",
    "await initializeWasm();"
   ]
  },
  {
   "cell_type": "markdown",
   "id": "b28ded2e-8a26-43e3-b80b-1b21b2b3b56d",
   "metadata": {},
   "source": [
    "## Issuer"
   ]
  },
  {
   "cell_type": "code",
   "execution_count": 28,
   "id": "fbca3fde-77f0-4956-a24d-82806c96c120",
   "metadata": {},
   "outputs": [],
   "source": [
    "// Generating a keypair once signature parameters are created.\n",
    "import { BBSKeypair, BBSSignatureParams, BBS_SIGNATURE_PARAMS_LABEL_BYTES } from '@docknetwork/crypto-wasm-ts';\n",
    "\n",
    "const stringToBytes = (str: string) => Uint8Array.from(Buffer.from(str, \"utf-8\"));\n",
    "\n",
    "const params = BBSSignatureParams.generate(100, BBS_SIGNATURE_PARAMS_LABEL_BYTES);\n",
    "const keypair = BBSKeypair.generate(params, stringToBytes('seed1'));\n",
    "\n",
    "const secretKey = keypair.secretKey;\n",
    "const publicKey = keypair.publicKey;"
   ]
  },
  {
   "cell_type": "code",
   "execution_count": 36,
   "id": "7ffe7472-99a5-47ea-a720-c97525ac13b3",
   "metadata": {},
   "outputs": [
    {
     "name": "stdout",
     "output_type": "stream",
     "text": [
      "{\n",
      "  cryptoVersion: \u001b[32m'0.7.0'\u001b[39m,\n",
      "  credentialSchema: {\n",
      "    id: \u001b[32m'data:application/json;charset=utf-8,'\u001b[39m,\n",
      "    type: \u001b[32m'JsonSchemaValidator2018'\u001b[39m,\n",
      "    version: \u001b[32m'0.5.0'\u001b[39m,\n",
      "    details: \u001b[32m'{\"jsonSchema\":{\"$schema\":\"http://json-schema.org/draft-07/schema#\",\"definitions\":{\"encryptableCompString\":{\"type\":\"string\"},\"encryptableString\":{\"type\":\"string\"}},\"properties\":{\"credentialSubject\":{\"properties\":{\"age\":{\"maximum\":120,\"minimum\":0,\"type\":\"integer\"},\"name\":{\"type\":\"string\"},\"profession\":{\"type\":\"string\"}},\"type\":\"object\"},\"proof\":{\"properties\":{\"type\":{\"type\":\"string\"}},\"type\":\"object\"}},\"type\":\"object\"},\"parsingOptions\":{\"defaultDecimalPlaces\":0,\"defaultMinimumDate\":-17592186044415,\"defaultMinimumInteger\":-4294967295,\"useDefaults\":false}}'\u001b[39m\n",
      "  },\n",
      "  credentialSubject: { name: \u001b[32m'Jack Sparrow'\u001b[39m, age: \u001b[33m61\u001b[39m, profession: \u001b[32m'IT Manager'\u001b[39m },\n",
      "  proof: {\n",
      "    type: \u001b[32m'Bls12381BBSSignatureDock2023'\u001b[39m,\n",
      "    proofValue: \u001b[32m'2STFYHrUxdDAqabNjManhLf1dRjBWUJfW9u1XPJwoJMubFRyAt2CKyHVv6DwVuUDMjAR2UWbcneRkRGjFQNvAVchjhtGRKN4ZvHH5ZKgdAofDt'\u001b[39m\n",
      "  }\n",
      "}\n"
     ]
    }
   ],
   "source": [
    "// Issing a credential based on the E-ID data based on the specified schema\n",
    "import { CredentialSchema, BBSCredentialBuilder, BBSCredential, SUBJECT_STR } from '@docknetwork/crypto-wasm-ts'\n",
    "\n",
    "const schema = CredentialSchema.essential();\n",
    "schema.properties[SUBJECT_STR] = E_ID_SCHEMA\n",
    "\n",
    "const builder = new BBSCredentialBuilder();\n",
    "builder.schema = new CredentialSchema(schema);\n",
    "builder.subject = E_ID_DATA\n",
    "\n",
    "const credential = builder.sign(secretKey);\n",
    "credential.verify(publicKey)\n",
    "// credential\n",
    "const credentialToSendToHolder = credential.toJSON()\n",
    "credentialToSendToHolder"
   ]
  },
  {
   "cell_type": "markdown",
   "id": "24522355-b1c4-48e5-95bb-7779a72ee276",
   "metadata": {},
   "source": [
    "## The information below To be reviewed by Linus and Imad\n",
    "**Notice** the structure above which includes a proofValue rather than a signature. Is is because \n",
    "all communication that happen between our issuers, holders, verifiers only include a proof of signature,\n",
    "not the signature itself. This results in the fact that we can generate many different proofs of the same signature"
   ]
  },
  {
   "cell_type": "markdown",
   "id": "af7906c2-e3a8-4218-8da2-392811219a1b",
   "metadata": {},
   "source": [
    "## Credential Holder"
   ]
  },
  {
   "cell_type": "code",
   "execution_count": 81,
   "id": "72ec8214-205e-4054-b401-45f1189adc5e",
   "metadata": {},
   "outputs": [],
   "source": [
    "// The holder loads the credential back from JSON\n",
    "const receivedCredential = BBSCredential.fromJSON(credentialToSendToHolder)\n",
    "// console.log(receivedCredential)\n",
    "\n",
    "import { PresentationBuilder } from '@docknetwork/crypto-wasm-ts'\n",
    "const presentationBuilder = new PresentationBuilder();\n",
    "presentationBuilder.addCredential(receivedCredential, publicKey)\n",
    "presentationBuilder.markAttributesRevealed(0, new Set<string>(['credentialSubject.name', 'credentialSubject.profession']));\n",
    "\n",
    "const presentation = presentationBuilder.finalize();\n",
    "//console.log(presentation)"
   ]
  },
  {
   "cell_type": "markdown",
   "id": "7cec6a8b-3ca9-4d24-89e2-f9e53a5750d4",
   "metadata": {},
   "source": [
    "### sending data to Verifier\n",
    "data: \n",
    "1. selected data to be revealed\n",
    "2. Schema of the credential\n",
    "3. Proof of signature\n",
    "\n",
    "All these info and more are stored in the \"presentation object\". Note that this object is a completely serializable JSON object.\n",
    "\n",
    "## Verifier"
   ]
  },
  {
   "cell_type": "code",
   "execution_count": 41,
   "id": "a44c3ab6-9857-4575-8e39-30238d7a7b60",
   "metadata": {},
   "outputs": [
    {
     "name": "stdout",
     "output_type": "stream",
     "text": [
      "{\n",
      "  version: \u001b[32m'0.9.0'\u001b[39m,\n",
      "  context: \u001b[90mundefined\u001b[39m,\n",
      "  nonce: \u001b[1mnull\u001b[22m,\n",
      "  spec: {\n",
      "    credentials: [ \u001b[36m[Object]\u001b[39m ],\n",
      "    attributeEqualities: [],\n",
      "    boundedPseudonyms: {},\n",
      "    unboundedPseudonyms: {}\n",
      "  },\n",
      "  proof: \u001b[32m'PqJrdz8W5DWFRnmCvbM5jYVnbVKvEg2ZesRviTMMaFp4kL1QgZS4qD65PKTNBsXMJf2wSrh62PfJk6MfHE1R3AZcDRrNwWVYri2cdQpUfhWV4cwe2AGcLkKwwioirK3iSBKLKeqgxJupHS8n71pagmMkgJgxrKfJ1NQAJV8ytPYUJuPeMYAP6KPM621veo7cZWa3HHfGV1qnraqbY6M9bS4mbEYVUyK42geyC8Z1BhiLwRbg639eXDUeGP2KfCyJmyMiVmFHF5RhT8tdrcipuS4XfeKqcLkpqvLwENh4X2UTQWmYqnSwNhWQEgLEvgnRkkNiTyyNmfeYyXYsKUTCCYzBnkpMVSwrev9F11F97LJkdxoqRTVUQ872LDeSZRPQELwunoxabdr8yiNdH6kKLrHU7skMSBpQdJMTPYoSpGMajitqSdMFDaRdw7ajWAwQb3jsUQoxtvy1idjuzCjYrSMJd9gUZLshPxxiyMm97a5YorXxjQTuHCgXnYyXhce6MSzKFfA5jQPXoVoJMKrFbJU7g5M9zsTnKNwxZcGwfon2fSbw4Z2GAiP87Jv8zswgGfyEz3'\u001b[39m\n",
      "}\n",
      "-------------------------\n",
      "{\n",
      "  version: \u001b[32m'0.7.0'\u001b[39m,\n",
      "  schema: {\n",
      "    details: \u001b[32m'{\"jsonSchema\":{\"$schema\":\"http://json-schema.org/draft-07/schema#\",\"definitions\":{\"encryptableCompString\":{\"type\":\"string\"},\"encryptableString\":{\"type\":\"string\"}},\"properties\":{\"credentialSubject\":{\"properties\":{\"age\":{\"maximum\":120,\"minimum\":0,\"type\":\"integer\"},\"name\":{\"type\":\"string\"},\"profession\":{\"type\":\"string\"}},\"type\":\"object\"},\"proof\":{\"properties\":{\"type\":{\"type\":\"string\"}},\"type\":\"object\"}},\"type\":\"object\"},\"parsingOptions\":{\"defaultDecimalPlaces\":0,\"defaultMinimumDate\":-17592186044415,\"defaultMinimumInteger\":-4294967295,\"useDefaults\":false}}'\u001b[39m,\n",
      "    id: \u001b[32m'data:application/json;charset=utf-8,'\u001b[39m,\n",
      "    type: \u001b[32m'JsonSchemaValidator2018'\u001b[39m,\n",
      "    version: \u001b[32m'0.5.0'\u001b[39m\n",
      "  },\n",
      "  revealedAttributes: {\n",
      "    credentialSubject: { name: \u001b[32m'Jack Sparrow'\u001b[39m, profession: \u001b[32m'IT Manager'\u001b[39m }\n",
      "  },\n",
      "  sigType: \u001b[32m'Bls12381BBSSignatureDock2023'\u001b[39m\n",
      "}\n"
     ]
    }
   ],
   "source": [
    "const receivedObjectOnVerifierSide = presentation.toJSON()\n",
    "console.log(receivedObjectOnVerifierSide)  // Assume this was serialized and sent across an API to the verifier.\n",
    "console.log(\"-------------------------\")\n",
    "console.log(presentation.spec.credentials[0])"
   ]
  },
  {
   "cell_type": "code",
   "execution_count": 80,
   "id": "22caae45-228a-4fdb-ab92-705f112ed7b1",
   "metadata": {},
   "outputs": [
    {
     "name": "stdout",
     "output_type": "stream",
     "text": [
      "{ verified: \u001b[33mtrue\u001b[39m, error: \u001b[90mundefined\u001b[39m }\n"
     ]
    }
   ],
   "source": [
    "// Verification of the data the verifier received is as easy as two lines of code!\n",
    "import { Presentation } from '@docknetwork/crypto-wasm-ts'\n",
    "\n",
    "const recreatedPres = Presentation.fromJSON(receivedObjectOnVerifierSide)\n",
    "recreatedPres.verify([publicKey], undefined, undefined, undefined, undefined, undefined)\n",
    "\n",
    "// Now, we can go ahead and access the shared data!\n",
    "//recreatedPres.spec.credentials[0].revealedAttributes"
   ]
  },
  {
   "cell_type": "markdown",
   "id": "6fb5113c-f18f-4416-9038-020438076e17",
   "metadata": {},
   "source": [
    "### Is this cryptographic scheme unlinkable?\n",
    "\n",
    "We can know that by checking for two conditions\n",
    "\n",
    "1. Is there a signature or a cryptopgraphic data that is shared and could used to identify the credential holder?\n",
    "2. Is there a part of data hash or not hashed that was included in the presented data that could be used to identify the credential holder?"
   ]
  },
  {
   "cell_type": "code",
   "execution_count": 46,
   "id": "7d3c4b80-4889-483e-aba9-f7670c7c2ced",
   "metadata": {},
   "outputs": [
    {
     "name": "stdout",
     "output_type": "stream",
     "text": [
      "\u001b[33mfalse\u001b[39m\n"
     ]
    }
   ],
   "source": [
    "// To answer the first point, we look at the presented proof \n",
    "const proof1 = presentationBuilder.finalize()[\"proof\"].hex\n",
    "const proof2 = presentationBuilder.finalize()[\"proof\"].hex\n",
    "\n",
    "// By generating a proof multiple times, and comparing the proof in each of them,\n",
    "// we see that they're always different making it difficult (Impossible?!) to correlate the different proofs.\n",
    "console.log(proof1 === proof2)"
   ]
  },
  {
   "cell_type": "code",
   "execution_count": 68,
   "id": "d9cd2d9a-283e-4095-b71c-22d78d60fc69",
   "metadata": {},
   "outputs": [
    {
     "name": "stdout",
     "output_type": "stream",
     "text": [
      "{\n",
      "  credentialSubject: { name: \u001b[32m'Jack Sparrow'\u001b[39m, profession: \u001b[32m'IT Manager'\u001b[39m }\n",
      "}\n"
     ]
    }
   ],
   "source": [
    "// To answer the second point, we look at the data shared with the verifier.\n",
    "// As opposed to the previous exercise where we had to share all the data all the time\n",
    "// even though possibly in a hashed format, in this case, we only share the selected data.\n",
    "\n",
    "presentation.spec.credentials[1][\"revealedAttributes\"]\n",
    "\n",
    "// In this scenario, we see that only the data needed to be revealed is revealed resulting in unlinkability."
   ]
  },
  {
   "cell_type": "code",
   "execution_count": null,
   "id": "362720cb-4824-4ae4-8f15-c3d13d31c1bc",
   "metadata": {},
   "outputs": [],
   "source": []
  }
 ],
 "metadata": {
  "kernelspec": {
   "display_name": "TypeScript",
   "language": "typescript",
   "name": "tslab"
  },
  "language_info": {
   "codemirror_mode": {
    "mode": "typescript",
    "name": "javascript",
    "typescript": true
   },
   "file_extension": ".ts",
   "mimetype": "text/typescript",
   "name": "typescript",
   "version": "3.7.2"
  }
 },
 "nbformat": 4,
 "nbformat_minor": 5
}
