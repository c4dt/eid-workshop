{
 "cells": [
  {
   "cell_type": "markdown",
   "id": "8a8017a7-2e57-4fda-8007-2836dd5b5819",
   "metadata": {},
   "source": [
    "# E-ID tutorial\n",
    "This Jupyter notebook explores the basic components of E-ID. It focuses, in particular, on the cryptographic scheme BBS+ and how it's used to ensure the privacy requirements of E-ID.\n",
    "These requirements include:\n",
    "1. Selective Disclosure\n",
    "2. Unlinkability\n",
    "3. Zero-Knowledge Proofs\n",
    "\n",
    "To understand these concepts in more detail, please refer to our blog post on [E-ID infrastructure](https://c4dt.epfl.ch/article/the-swiss-confederation-e-id-public-sandbox-trust-infrastructure-part-2/)\n",
    "## Requirements\n",
    "1. Typescript\n",
    "2. [tslab](https://github.com/yunabe/tslab). This is the Typescript kernel for Jupyter lab.\n",
    "3. [dock.io Typescript crypto lib](https://github.com/docknetwork/crypto-wasm-ts)"
   ]
  },
  {
   "cell_type": "code",
   "execution_count": 3,
   "id": "9f3318d0-2a10-4d6d-be7c-86da672fecb4",
   "metadata": {},
   "outputs": [],
   "source": [
    "import { initializeWasm } from '@docknetwork/crypto-wasm-ts'\n",
    "await initializeWasm();"
   ]
  },
  {
   "cell_type": "markdown",
   "id": "f5c4f2e2-d4aa-4aa8-b38d-d66d3a8836d5",
   "metadata": {},
   "source": [
    "# Explanation of what follows\n",
    "\n",
    "Identities in JSON, plus a schema..."
   ]
  },
  {
   "cell_type": "code",
   "execution_count": 4,
   "id": "bcca6c24-ab8b-4904-832d-081697c440c1",
   "metadata": {},
   "outputs": [],
   "source": [
    "const JOHN_SNOW_BANK_IDENTITY = {\n",
    "  fname: 'John',\n",
    "  lname: 'Snow',\n",
    "  highly_secretive: {\n",
    "    secret: 'super-duper-secret',\n",
    "    email: 'john.snow@example.com',\n",
    "    SSN: '123-456789-0',\n",
    "    'user-id': 'user:USR-22201'\n",
    "  },\n",
    "  location: {\n",
    "    country: 'CH',\n",
    "    city: 'Lausanne',\n",
    "    address: 'C4DT, station 14'\n",
    "  },\n",
    "  timeOfBirth: 1662010849619,\n",
    "  physical: {\n",
    "    height: 170,\n",
    "    weight: 78,\n",
    "    race: 'dark elf'\n",
    "  },\n",
    "  score: 200\n",
    "};\n",
    "\n",
    "const SCHEMA = {\n",
    "  fname: null,\n",
    "  lname: null,\n",
    "  highly_secretive: {\n",
    "    secret: null,\n",
    "    email: null,\n",
    "    SSN: null,\n",
    "    'user-id': null\n",
    "  },\n",
    "  location: {\n",
    "    country: null,\n",
    "    city: null,\n",
    "    address: null\n",
    "  },\n",
    "  timeOfBirth: null,\n",
    "  physical: {\n",
    "    height: null,\n",
    "    weight: null,\n",
    "    race: null\n",
    "  },\n",
    "  score: null\n",
    "};"
   ]
  },
  {
   "cell_type": "code",
   "execution_count": 5,
   "id": "09beefed-6cc2-4cfb-82f0-5d6c39918720",
   "metadata": {},
   "outputs": [],
   "source": [
    "const stringToBytes = (str: string) => Uint8Array.from(Buffer.from(str, \"utf-8\"));"
   ]
  },
  {
   "cell_type": "code",
   "execution_count": 6,
   "id": "6095a054-a6c1-40fc-84b1-bbc8da496c00",
   "metadata": {},
   "outputs": [],
   "source": [
    "// Generating a keypair once signature parameters are created.\n",
    "import { BBSPlusKeypairG2, BBSPlusSignatureParamsG1 } from '@docknetwork/crypto-wasm-ts';\n",
    "\n",
    "// Deterministically generated params\n",
    "const label = stringToBytes(\"Awesome key pair\");\n",
    "const cryptoParams = BBSPlusSignatureParamsG1.generate(14, label);\n",
    "\n",
    "const keypair = BBSPlusKeypairG2.generate(cryptoParams);\n",
    "const sk = keypair.secretKey;\n",
    "const pk = keypair.publicKey;"
   ]
  },
  {
   "cell_type": "code",
   "execution_count": 7,
   "id": "ff81320a-06e4-4655-97cd-6c49ef854966",
   "metadata": {},
   "outputs": [],
   "source": [
    "import { Encoder, EncodeFunc } from '@docknetwork/crypto-wasm-ts'\n",
    "import { BBSPlusSignatureG1 } from '@docknetwork/crypto-wasm-ts'\n",
    "\n",
    "// The encoder has to be known and agreed upon by all system participants, i.e. signer, prover and verifier.\n",
    "const encoders = new Map<string, EncodeFunc>();\n",
    "encoders.set('score', Encoder.positiveIntegerEncoder());\n",
    "const GlobalEncoder = new Encoder(encoders, Encoder.defaultEncodeFunc());"
   ]
  },
  {
   "cell_type": "code",
   "execution_count": 8,
   "id": "58c1ddac-e07a-417c-8951-da0175c758da",
   "metadata": {},
   "outputs": [],
   "source": [
    "import { BBSPlusSignatureG1, getAdaptedSignatureParamsForMessages } from '@docknetwork/crypto-wasm-ts'\n",
    "\n",
    "\n",
    "// The signing function will encode bytes to a field element as true is passed\n",
    "const sig = BBSPlusSignatureG1.signMessageObject(JOHN_SNOW_BANK_IDENTITY, sk, label, GlobalEncoder);\n",
    "\n",
    "// As the messages are not encoded, pass true to the verification function to make it encode messages before verifying the signature.\n",
    "sig.signature.verifyMessageObject(JOHN_SNOW_BANK_IDENTITY, pk, label, GlobalEncoder);\n",
    "\n",
    "const sigParams = getAdaptedSignatureParamsForMessages(cryptoParams, SCHEMA);"
   ]
  },
  {
   "cell_type": "markdown",
   "id": "dfc21a43-96fb-487a-a9a1-1fa6ea5e70c3",
   "metadata": {},
   "source": [
    "# Selective Disclosure "
   ]
  },
  {
   "cell_type": "code",
   "execution_count": 9,
   "id": "f17fc79e-b66f-4e9c-bc44-a19a2773e67d",
   "metadata": {},
   "outputs": [],
   "source": [
    "// Both prover and verifier can independently create this struct\n",
    "import { getRevealedAndUnrevealed } from '@docknetwork/crypto-wasm-ts'\n",
    "const revealedNames = new Set(['fname', 'physical.height', 'location.city'])\n",
    "\n",
    "// Prover prepares messages it wishes to reveal and hide.\n",
    "const [revealedMsgs, unrevealedMsgs, revealedMsgsDecoded] = getRevealedAndUnrevealed(\n",
    "    JOHN_SNOW_BANK_IDENTITY,\n",
    "    revealedNames,\n",
    "    GlobalEncoder\n",
    ");"
   ]
  },
  {
   "cell_type": "code",
   "execution_count": 10,
   "id": "04988f47-de51-4d97-98e6-62c516cc9918",
   "metadata": {},
   "outputs": [
    {
     "name": "stdout",
     "output_type": "stream",
     "text": [
      "{\n",
      "  fname: \u001b[32m'John'\u001b[39m,\n",
      "  physical: { height: \u001b[33m170\u001b[39m },\n",
      "  location: { city: \u001b[32m'Lausanne'\u001b[39m }\n",
      "}\n"
     ]
    }
   ],
   "source": [
    "revealedMsgsDecoded"
   ]
  },
  {
   "cell_type": "code",
   "execution_count": 11,
   "id": "55aac639-b337-462c-a3d1-29831e6f7494",
   "metadata": {},
   "outputs": [],
   "source": [
    "import {Statement, Statements, MetaStatements, ProofSpec, Witness, Witnesses, CompositeProof} from '@docknetwork/crypto-wasm-ts';\n",
    "\n",
    "\n",
    "// Create a BBS statement - the information we reveal\n",
    "const statement1 = Statement.bbsPlusSignatureProverConstantTime(sigParams, revealedMsgs, false);\n",
    "const statements = new Statements();\n",
    "statements.add(statement1);\n",
    "\n",
    "const proofSpec = new ProofSpec(statements, new MetaStatements(), [], stringToBytes(\"Awesome Proof - test 001\"));\n",
    "\n",
    "const witness1 = Witness.bbsPlusSignatureConstantTime(sig.signature, unrevealedMsgs, false);\n",
    "const witnesses = new Witnesses();\n",
    "witnesses.add(witness1);\n",
    "\n",
    "const sharedNonce = stringToBytes('A unique nonce given by verifier');\n",
    "const proof = CompositeProof.generate(proofSpec, witnesses, sharedNonce);"
   ]
  },
  {
   "cell_type": "code",
   "execution_count": 12,
   "id": "e4f8fa6a-73b4-4954-9f80-f0ce7c8a6b13",
   "metadata": {},
   "outputs": [
    {
     "name": "stdout",
     "output_type": "stream",
     "text": [
      "{ verified: \u001b[33mtrue\u001b[39m, error: \u001b[90mundefined\u001b[39m }\n"
     ]
    }
   ],
   "source": [
    "const verifierStatement1 = Statement.bbsPlusSignatureVerifierConstantTime(sigParams, pk, revealedMsgs, false);\n",
    "const verifierStatements = new Statements();\n",
    "verifierStatements.add(verifierStatement1);\n",
    "\n",
    "const verifierProofSpec = new ProofSpec(verifierStatements, new MetaStatements(), [], stringToBytes(\"Awesome Proof - test 001\"));\n",
    "\n",
    "proof.verify(verifierProofSpec, sharedNonce)"
   ]
  },
  {
   "cell_type": "markdown",
   "id": "5f848e3f-14e2-43f9-876e-ac47db9fd470",
   "metadata": {},
   "source": [
    "# Zero-Knowledge proofs!\n",
    "Here's we will provide a proof of the following: \n",
    "1. Selective disclosure of: User's firstName, lastName, location\n",
    "2. Range proof: Score > 5"
   ]
  },
  {
   "cell_type": "code",
   "execution_count": 13,
   "id": "8a7b5fc4-bcff-4333-8ff3-b464a962645f",
   "metadata": {},
   "outputs": [
    {
     "name": "stdout",
     "output_type": "stream",
     "text": [
      "\u001b[33m1\u001b[39m\n"
     ]
    }
   ],
   "source": [
    "import { BoundCheckSnarkSetup, SetupParam } from '@docknetwork/crypto-wasm-ts';\n",
    "const provingKey = BoundCheckSnarkSetup();\n",
    "const snarkProvingKey = provingKey.decompress();\n",
    "const snarkVerifyingKey = provingKey.getVerifyingKeyUncompressed();\n",
    "\n",
    "const proverSetupParams: SetupParam[] = [];\n",
    "proverSetupParams.push(SetupParam.legosnarkProvingKeyUncompressed(snarkProvingKey));"
   ]
  },
  {
   "cell_type": "code",
   "execution_count": 14,
   "id": "e33b47c2-7678-4936-9261-98f0c9de8768",
   "metadata": {},
   "outputs": [
    {
     "name": "stdout",
     "output_type": "stream",
     "text": [
      "\u001b[33mtrue\u001b[39m\n"
     ]
    }
   ],
   "source": [
    "import { WitnessEqualityMetaStatement, getIndicesForMsgNames, MetaStatement, QuasiProofSpec, ProofSpec } from '@docknetwork/crypto-wasm-ts';\n",
    "\n",
    "\n",
    "// Prover prepares messages it wishes to reveal and hide.\n",
    "const revealedParametersB = new Set(['fname', 'lname', 'location.city'])\n",
    "\n",
    "const [revealedMsgsB, unrevealedMsgsB, revealedMsgsDecodedB] = getRevealedAndUnrevealed(\n",
    "    JOHN_SNOW_BANK_IDENTITY,\n",
    "    revealedParametersB,\n",
    "    GlobalEncoder\n",
    ");\n",
    "\n",
    "// Create a BBS signature\n",
    "const statementB1 = Statement.bbsPlusSignatureProverConstantTime(sigParams, revealedMsgsB, false);\n",
    "const statementB2 = Statement.boundCheckLegoProverFromSetupParamRefs(1, 1000, 0);\n",
    "const statementsB = new Statements([statementB1, statementB2]);\n",
    "\n",
    "const scoreFieldIndex = getIndicesForMsgNames(['score'], SCHEMA)[0]  // 12\n",
    "const witnessEq = new WitnessEqualityMetaStatement();\n",
    "witnessEq.addWitnessRef(0, scoreFieldIndex);  // addWitnessRef(statementId, dataPointIDInWitness)\n",
    "witnessEq.addWitnessRef(1, 0);\n",
    "\n",
    "const metaStatementsB = new MetaStatements();\n",
    "metaStatementsB.addWitnessEquality(witnessEq);\n",
    "\n",
    "const proofSpecB = new ProofSpec(statementsB, metaStatementsB, proverSetupParams);\n",
    "proofSpecB.isValid();"
   ]
  },
  {
   "cell_type": "code",
   "execution_count": 15,
   "id": "373b6977-615b-4e31-b58a-3d8b7f9c6fc3",
   "metadata": {},
   "outputs": [
    {
     "name": "stdout",
     "output_type": "stream",
     "text": [
      "CompositeProof {\n",
      "  value: Uint8Array(1148) [\n",
      "      \u001b[33m2\u001b[39m,   \u001b[33m0\u001b[39m,   \u001b[33m0\u001b[39m,   \u001b[33m0\u001b[39m,   \u001b[33m0\u001b[39m,   \u001b[33m0\u001b[39m,   \u001b[33m0\u001b[39m,   \u001b[33m0\u001b[39m,   \u001b[33m0\u001b[39m, \u001b[33m131\u001b[39m, \u001b[33m208\u001b[39m, \u001b[33m133\u001b[39m,\n",
      "     \u001b[33m59\u001b[39m, \u001b[33m130\u001b[39m, \u001b[33m147\u001b[39m,  \u001b[33m28\u001b[39m,  \u001b[33m51\u001b[39m,  \u001b[33m66\u001b[39m, \u001b[33m195\u001b[39m,  \u001b[33m71\u001b[39m,  \u001b[33m46\u001b[39m, \u001b[33m190\u001b[39m,  \u001b[33m70\u001b[39m,   \u001b[33m5\u001b[39m,\n",
      "     \u001b[33m94\u001b[39m, \u001b[33m201\u001b[39m, \u001b[33m172\u001b[39m,  \u001b[33m24\u001b[39m,  \u001b[33m13\u001b[39m,   \u001b[33m8\u001b[39m,   \u001b[33m4\u001b[39m, \u001b[33m220\u001b[39m, \u001b[33m167\u001b[39m,  \u001b[33m15\u001b[39m,  \u001b[33m59\u001b[39m, \u001b[33m255\u001b[39m,\n",
      "     \u001b[33m73\u001b[39m, \u001b[33m233\u001b[39m, \u001b[33m121\u001b[39m,  \u001b[33m81\u001b[39m, \u001b[33m154\u001b[39m, \u001b[33m114\u001b[39m, \u001b[33m134\u001b[39m, \u001b[33m201\u001b[39m,  \u001b[33m14\u001b[39m, \u001b[33m217\u001b[39m,  \u001b[33m14\u001b[39m, \u001b[33m176\u001b[39m,\n",
      "     \u001b[33m23\u001b[39m, \u001b[33m186\u001b[39m,  \u001b[33m30\u001b[39m, \u001b[33m168\u001b[39m,  \u001b[33m34\u001b[39m, \u001b[33m105\u001b[39m, \u001b[33m128\u001b[39m, \u001b[33m154\u001b[39m,  \u001b[33m74\u001b[39m, \u001b[33m185\u001b[39m,  \u001b[33m51\u001b[39m, \u001b[33m210\u001b[39m,\n",
      "    \u001b[33m235\u001b[39m, \u001b[33m163\u001b[39m, \u001b[33m166\u001b[39m, \u001b[33m171\u001b[39m,  \u001b[33m75\u001b[39m,  \u001b[33m30\u001b[39m, \u001b[33m101\u001b[39m,  \u001b[33m76\u001b[39m, \u001b[33m136\u001b[39m,  \u001b[33m10\u001b[39m, \u001b[33m132\u001b[39m, \u001b[33m142\u001b[39m,\n",
      "    \u001b[33m116\u001b[39m,   \u001b[33m7\u001b[39m, \u001b[33m166\u001b[39m,  \u001b[33m74\u001b[39m,  \u001b[33m94\u001b[39m,  \u001b[33m74\u001b[39m,  \u001b[33m48\u001b[39m,  \u001b[33m92\u001b[39m, \u001b[33m152\u001b[39m, \u001b[33m133\u001b[39m, \u001b[33m218\u001b[39m,  \u001b[33m56\u001b[39m,\n",
      "     \u001b[33m64\u001b[39m, \u001b[33m216\u001b[39m, \u001b[33m185\u001b[39m, \u001b[33m126\u001b[39m, \u001b[33m240\u001b[39m, \u001b[33m108\u001b[39m, \u001b[33m140\u001b[39m, \u001b[33m143\u001b[39m, \u001b[33m199\u001b[39m,  \u001b[33m54\u001b[39m, \u001b[33m145\u001b[39m, \u001b[33m247\u001b[39m,\n",
      "    \u001b[33m139\u001b[39m, \u001b[33m118\u001b[39m,   \u001b[33m3\u001b[39m, \u001b[33m254\u001b[39m,\n",
      "    ... 1048 more items\n",
      "  ]\n",
      "}\n"
     ]
    }
   ],
   "source": [
    "const witnessB1 = Witness.bbsPlusSignatureConstantTime(sig.signature, unrevealedMsgsB, false);\n",
    "const witnessB2 = Witness.boundCheckLegoGroth16(sig.encodedMessages['score']);\n",
    "const witnessesB = new Witnesses([witnessB1, witnessB2]);\n",
    "\n",
    "const proof = CompositeProof.generate(proofSpecB, witnessesB);\n",
    "proof"
   ]
  },
  {
   "cell_type": "code",
   "execution_count": 16,
   "id": "50e1e1eb-b51a-4f9c-8154-3da376959824",
   "metadata": {},
   "outputs": [
    {
     "name": "stdout",
     "output_type": "stream",
     "text": [
      "{ verified: \u001b[33mtrue\u001b[39m, error: \u001b[90mundefined\u001b[39m }\n"
     ]
    }
   ],
   "source": [
    "import {encodeRevealedMsgs} from '@docknetwork/crypto-wasm-ts'; \n",
    "\n",
    "\n",
    "// Verifier \n",
    "const verifierSetupParams: SetupParam[] = [];\n",
    "verifierSetupParams.push(SetupParam.legosnarkVerifyingKeyUncompressed(snarkVerifyingKey));\n",
    "\n",
    "const revealedMsgs1FromVerifier = encodeRevealedMsgs(revealedMsgsDecodedB, SCHEMA, GlobalEncoder);\n",
    "// checkMapsEqual(revealedMsgs, revealedMsgs1FromVerifier);\n",
    "\n",
    "const statement1 = Statement.bbsPlusSignatureVerifierConstantTime(sigParams, pk, revealedMsgs1FromVerifier, false)\n",
    "const statement2 = Statement.boundCheckLegoVerifierFromSetupParamRefs(1, 1000, 0);\n",
    "\n",
    "const statementsVerifier = new Statements([statement1, statement2]);\n",
    "\n",
    "const verifierWitnessEq = new WitnessEqualityMetaStatement();\n",
    "verifierWitnessEq.addWitnessRef(0, getIndicesForMsgNames(['score'], SCHEMA)[0]);\n",
    "verifierWitnessEq.addWitnessRef(1, 0);\n",
    "\n",
    "const metaStatements = new MetaStatements();\n",
    "metaStatements.addWitnessEquality(verifierWitnessEq);\n",
    "\n",
    "const proofSpecVerifier = new ProofSpec(statementsVerifier, metaStatements, verifierSetupParams);\n",
    "proofSpecVerifier.isValid();\n",
    "\n",
    "proof.verify(proofSpecVerifier);"
   ]
  },
  {
   "cell_type": "markdown",
   "id": "1d003139-77f1-49c9-be81-4873d9469e2f",
   "metadata": {},
   "source": [
    "### Notes:\n",
    "**Make sure to use TLS to send the information to the verifier. Data is not encrypted on its own**"
   ]
  },
  {
   "cell_type": "code",
   "execution_count": 134,
   "id": "b2f5771e-c038-4f96-9392-bfcf306f63cb",
   "metadata": {},
   "outputs": [
    {
     "name": "stdout",
     "output_type": "stream",
     "text": [
      "{ fname: \u001b[32m'John'\u001b[39m, lname: \u001b[32m'Snow'\u001b[39m, location: { city: \u001b[32m'Lausanne'\u001b[39m } }\n"
     ]
    }
   ],
   "source": [
    " revealedMsgsDecodedB"
   ]
  },
  {
   "cell_type": "code",
   "execution_count": null,
   "id": "544d5a9e-1917-436c-adec-66066fe05b98",
   "metadata": {},
   "outputs": [],
   "source": []
  }
 ],
 "metadata": {
  "kernelspec": {
   "display_name": "TypeScript",
   "language": "typescript",
   "name": "tslab"
  },
  "language_info": {
   "codemirror_mode": {
    "mode": "typescript",
    "name": "javascript",
    "typescript": true
   },
   "file_extension": ".ts",
   "mimetype": "text/typescript",
   "name": "typescript",
   "version": "3.7.2"
  }
 },
 "nbformat": 4,
 "nbformat_minor": 5
}
