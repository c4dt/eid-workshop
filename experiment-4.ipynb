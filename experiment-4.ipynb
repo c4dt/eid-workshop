{
 "cells": [
  {
   "cell_type": "markdown",
   "id": "8a8017a7-2e57-4fda-8007-2836dd5b5819",
   "metadata": {},
   "source": [
    "# E-ID tutorial\n",
    "This Jupyter notebook explores the basic components of E-ID. It focuses, in particular, on the cryptographic scheme BBS+ and how it's used to ensure the privacy requirements of E-ID.\n",
    "These requirements include:\n",
    "1. Selective Disclosure\n",
    "2. Unlinkability\n",
    "3. Zero-Knowledge Proofs\n",
    "\n",
    "To understand these concepts in more detail, please refer to our blog post on [E-ID infrastructure](https://c4dt.epfl.ch/article/the-swiss-confederation-e-id-public-sandbox-trust-infrastructure-part-2/)\n",
    "## Requirements\n",
    "1. Typescript\n",
    "2. [tslab](https://github.com/yunabe/tslab). This is the Typescript kernel for Jupyter lab.\n",
    "3. [dock.io Typescript crypto lib](https://github.com/docknetwork/crypto-wasm-ts)"
   ]
  },
  {
   "cell_type": "code",
   "execution_count": 1,
   "id": "9f3318d0-2a10-4d6d-be7c-86da672fecb4",
   "metadata": {},
   "outputs": [],
   "source": [
    "import { initializeWasm } from '@docknetwork/crypto-wasm-ts'\n",
    "await initializeWasm();"
   ]
  },
  {
   "cell_type": "code",
   "execution_count": 59,
   "id": "bcca6c24-ab8b-4904-832d-081697c440c1",
   "metadata": {},
   "outputs": [],
   "source": [
    "const JOHN_SNOW_BANK_IDENTITY = {\n",
    "  fname: 'John',\n",
    "  lname: 'Snow',\n",
    "  highly_secretive: {\n",
    "    secret: 'super-duper-secret',\n",
    "    email: 'john.smith@example.com',\n",
    "    SSN: '123-456789-0',\n",
    "    'user-id': 'user:USR-22201'\n",
    "  },\n",
    "  location: {\n",
    "    country: 'CH',\n",
    "    city: 'Lausanne',\n",
    "    address: 'C4DT, station 14'\n",
    "  },\n",
    "  timeOfBirth: 1662010849619,\n",
    "  physical: {\n",
    "    height: 170,\n",
    "    weight: 78,\n",
    "    race: 'dark elf'\n",
    "  },\n",
    "  score: 200\n",
    "};\n",
    "\n",
    "const SCHEMA = {\n",
    "  fname: null,\n",
    "  lname: null,\n",
    "  highly_secretive: {\n",
    "    secret: null,\n",
    "    email: null,\n",
    "    SSN: null,\n",
    "    'user-id': null\n",
    "  },\n",
    "  location: {\n",
    "    country: null,\n",
    "    city: null,\n",
    "    address: null\n",
    "  },\n",
    "  timeOfBirth: null,\n",
    "  physical: {\n",
    "    height: null,\n",
    "    weight: null,\n",
    "    race: null\n",
    "  },\n",
    "  score: null\n",
    "};"
   ]
  },
  {
   "cell_type": "code",
   "execution_count": 27,
   "id": "09beefed-6cc2-4cfb-82f0-5d6c39918720",
   "metadata": {},
   "outputs": [],
   "source": [
    "const stringToBytes = (str: string) => Uint8Array.from(Buffer.from(str, \"utf-8\"));"
   ]
  },
  {
   "cell_type": "code",
   "execution_count": 28,
   "id": "6095a054-a6c1-40fc-84b1-bbc8da496c00",
   "metadata": {},
   "outputs": [],
   "source": [
    "// Generating a keypair once signature parameters are created.\n",
    "import { BBSPlusKeypairG2, BBSPlusSignatureParamsG1 } from '@docknetwork/crypto-wasm-ts';\n",
    "\n",
    "// Deterministically generated params\n",
    "const label = stringToBytes(\"Awesome key pair\");\n",
    "const cryptoParams = BBSPlusSignatureParamsG1.generate(14, label);\n",
    "\n",
    "const keypair = BBSPlusKeypairG2.generate(cryptoParams);\n",
    "const sk = keypair.secretKey;\n",
    "const pk = keypair.publicKey;\n"
   ]
  },
  {
   "cell_type": "code",
   "execution_count": 29,
   "id": "ff81320a-06e4-4655-97cd-6c49ef854966",
   "metadata": {},
   "outputs": [],
   "source": [
    "import { Encoder } from '@docknetwork/crypto-wasm-ts'\n",
    "import { BBSPlusSignatureG1 } from '@docknetwork/crypto-wasm-ts'\n",
    "\n",
    "// The encoder has to be known and agreed upon by all system participants, i.e. signer, prover and verifier.\n",
    "const defaultEncoder = (v: unknown) => {\n",
    "  // @ts-ignore\n",
    "  return BBSPlusSignatureG1.encodeMessageForSigning(stringToBytes(v.toString()));\n",
    "};\n",
    "\n",
    "const encoder = new Encoder(undefined, defaultEncoder);"
   ]
  },
  {
   "cell_type": "code",
   "execution_count": 53,
   "id": "58c1ddac-e07a-417c-8951-da0175c758da",
   "metadata": {},
   "outputs": [],
   "source": [
    "import { BBSPlusSignatureG1 } from '@docknetwork/crypto-wasm-ts'\n",
    "\n",
    "\n",
    "// The signing function will encode bytes to a field element as true is passed\n",
    "const sig = BBSPlusSignatureG1.signMessageObject(JOHN_SNOW_BANK_IDENTITY, sk, label, encoder);\n",
    "\n",
    "// As the messages are not encoded, pass true to the verification function to make it encode messages before verifying the signature.\n",
    "sig.signature.verifyMessageObject(JOHN_SNOW_BANK_IDENTITY, pk, label, encoder);\n",
    "\n",
    "const sigParams = getAdaptedSignatureParamsForMessages(cryptoParams, SCHEMA);"
   ]
  },
  {
   "cell_type": "markdown",
   "id": "dfc21a43-96fb-487a-a9a1-1fa6ea5e70c3",
   "metadata": {},
   "source": [
    "# Selective Disclosure "
   ]
  },
  {
   "cell_type": "code",
   "execution_count": 31,
   "id": "f17fc79e-b66f-4e9c-bc44-a19a2773e67d",
   "metadata": {},
   "outputs": [],
   "source": [
    "// Both prover and verifier can independently create this struct\n",
    "import { getAdaptedSignatureParamsForMessages, getRevealedAndUnrevealed } from '@docknetwork/crypto-wasm-ts'\n",
    "const revealedNames = new Set(['fname', 'physical.height', 'location.city'])\n",
    "\n",
    "// Prover prepares messages it wishes to reveal and hide.\n",
    "const [revealedMsgs, unrevealedMsgs, revealedMsgsDecoded] = getRevealedAndUnrevealed(\n",
    "    JOHN_SNOW_BANK_IDENTITY,\n",
    "    revealedNames,\n",
    "    encoder\n",
    ");"
   ]
  },
  {
   "cell_type": "code",
   "execution_count": 32,
   "id": "04988f47-de51-4d97-98e6-62c516cc9918",
   "metadata": {},
   "outputs": [
    {
     "name": "stdout",
     "output_type": "stream",
     "text": [
      "{\n",
      "  fname: \u001b[32m'John'\u001b[39m,\n",
      "  physical: { height: \u001b[33m170\u001b[39m },\n",
      "  location: { city: \u001b[32m'Lausanne'\u001b[39m }\n",
      "}\n"
     ]
    }
   ],
   "source": [
    "revealedMsgsDecoded"
   ]
  },
  {
   "cell_type": "code",
   "execution_count": 51,
   "id": "55aac639-b337-462c-a3d1-29831e6f7494",
   "metadata": {},
   "outputs": [
    {
     "name": "stdout",
     "output_type": "stream",
     "text": [
      "CompositeProof {\n",
      "  value: Uint8Array(747) [\n",
      "      \u001b[33m1\u001b[39m,   \u001b[33m0\u001b[39m,   \u001b[33m0\u001b[39m,   \u001b[33m0\u001b[39m,   \u001b[33m0\u001b[39m,   \u001b[33m0\u001b[39m,   \u001b[33m0\u001b[39m,   \u001b[33m0\u001b[39m,   \u001b[33m0\u001b[39m, \u001b[33m129\u001b[39m,  \u001b[33m85\u001b[39m,  \u001b[33m14\u001b[39m,\n",
      "    \u001b[33m115\u001b[39m, \u001b[33m236\u001b[39m,  \u001b[33m27\u001b[39m, \u001b[33m121\u001b[39m,  \u001b[33m44\u001b[39m,   \u001b[33m9\u001b[39m,  \u001b[33m73\u001b[39m,  \u001b[33m93\u001b[39m, \u001b[33m239\u001b[39m, \u001b[33m213\u001b[39m, \u001b[33m128\u001b[39m, \u001b[33m196\u001b[39m,\n",
      "    \u001b[33m190\u001b[39m, \u001b[33m159\u001b[39m, \u001b[33m128\u001b[39m,  \u001b[33m98\u001b[39m,  \u001b[33m37\u001b[39m,  \u001b[33m28\u001b[39m, \u001b[33m176\u001b[39m,  \u001b[33m70\u001b[39m, \u001b[33m124\u001b[39m, \u001b[33m175\u001b[39m, \u001b[33m102\u001b[39m, \u001b[33m115\u001b[39m,\n",
      "      \u001b[33m1\u001b[39m, \u001b[33m139\u001b[39m, \u001b[33m169\u001b[39m, \u001b[33m190\u001b[39m,  \u001b[33m16\u001b[39m, \u001b[33m248\u001b[39m, \u001b[33m156\u001b[39m,  \u001b[33m54\u001b[39m,  \u001b[33m92\u001b[39m,  \u001b[33m96\u001b[39m, \u001b[33m101\u001b[39m,  \u001b[33m37\u001b[39m,\n",
      "    \u001b[33m170\u001b[39m, \u001b[33m135\u001b[39m,  \u001b[33m94\u001b[39m, \u001b[33m242\u001b[39m,  \u001b[33m11\u001b[39m, \u001b[33m166\u001b[39m, \u001b[33m166\u001b[39m, \u001b[33m182\u001b[39m, \u001b[33m248\u001b[39m, \u001b[33m168\u001b[39m,  \u001b[33m84\u001b[39m,  \u001b[33m66\u001b[39m,\n",
      "     \u001b[33m33\u001b[39m, \u001b[33m123\u001b[39m, \u001b[33m205\u001b[39m,  \u001b[33m74\u001b[39m,  \u001b[33m17\u001b[39m, \u001b[33m158\u001b[39m, \u001b[33m250\u001b[39m, \u001b[33m163\u001b[39m,  \u001b[33m57\u001b[39m, \u001b[33m254\u001b[39m,  \u001b[33m96\u001b[39m,  \u001b[33m55\u001b[39m,\n",
      "    \u001b[33m177\u001b[39m, \u001b[33m252\u001b[39m,  \u001b[33m92\u001b[39m, \u001b[33m213\u001b[39m, \u001b[33m143\u001b[39m,   \u001b[33m7\u001b[39m,  \u001b[33m81\u001b[39m, \u001b[33m142\u001b[39m, \u001b[33m159\u001b[39m, \u001b[33m158\u001b[39m, \u001b[33m146\u001b[39m, \u001b[33m204\u001b[39m,\n",
      "     \u001b[33m44\u001b[39m, \u001b[33m161\u001b[39m,  \u001b[33m31\u001b[39m,  \u001b[33m66\u001b[39m, \u001b[33m151\u001b[39m, \u001b[33m182\u001b[39m, \u001b[33m160\u001b[39m, \u001b[33m101\u001b[39m,  \u001b[33m30\u001b[39m,  \u001b[33m97\u001b[39m, \u001b[33m243\u001b[39m, \u001b[33m149\u001b[39m,\n",
      "    \u001b[33m150\u001b[39m,  \u001b[33m12\u001b[39m, \u001b[33m173\u001b[39m,  \u001b[33m69\u001b[39m,\n",
      "    ... 647 more items\n",
      "  ]\n",
      "}\n"
     ]
    }
   ],
   "source": [
    "import {Statement, Statements, MetaStatements, ProofSpec, Witness, Witnesses, CompositeProof} from '@docknetwork/crypto-wasm-ts';\n",
    "\n",
    "\n",
    "// Create a BBS statement - the information we reveal\n",
    "const statement1 = Statement.bbsPlusSignatureProverConstantTime(sigParams, revealedMsgs, false);\n",
    "const statements = new Statements();\n",
    "statements.add(statement1);\n",
    "\n",
    "const proofSpec = new ProofSpec(statements, new MetaStatements(), [], stringToBytes(\"Awesome Proof - test 001\"));\n",
    "\n",
    "const witness1 = Witness.bbsPlusSignatureConstantTime(sig.signature, unrevealedMsgs, false);\n",
    "const witnesses = new Witnesses();\n",
    "witnesses.add(witness1);\n",
    "\n",
    "const nonce = stringToBytes('a unique nonce given by verifier');\n",
    "const proof = CompositeProof.generate(proofSpec, witnesses, nonce);\n",
    "proof"
   ]
  },
  {
   "cell_type": "code",
   "execution_count": 52,
   "id": "e4f8fa6a-73b4-4954-9f80-f0ce7c8a6b13",
   "metadata": {},
   "outputs": [
    {
     "name": "stdout",
     "output_type": "stream",
     "text": [
      "{ verified: \u001b[33mtrue\u001b[39m, error: \u001b[90mundefined\u001b[39m }\n"
     ]
    }
   ],
   "source": [
    "const verifierStatement1 = Statement.bbsPlusSignatureVerifierConstantTime(cryptoParams, pk, revealedMsgs, false);\n",
    "const verifierStatements = new Statements();\n",
    "verifierStatements.add(verifierStatement1);\n",
    "\n",
    "const verifierProofSpec = new ProofSpec(verifierStatements, new MetaStatements(), [], stringToBytes(\"Awesome Proof - test 001\"));\n",
    "\n",
    "const verifierNonce = stringToBytes('A unique nonce given by verifier'); \n",
    "\n",
    "proof.verify(verifierProofSpec, verifierNonce)"
   ]
  },
  {
   "cell_type": "markdown",
   "id": "5f848e3f-14e2-43f9-876e-ac47db9fd470",
   "metadata": {},
   "source": [
    "# Zero-Knowledge proofs!\n",
    "Here's we will provide a proof of the following: \n",
    "1. User's firstName, lastName, location\n",
    "2. Score > 5"
   ]
  },
  {
   "cell_type": "code",
   "execution_count": 45,
   "id": "8a7b5fc4-bcff-4333-8ff3-b464a962645f",
   "metadata": {},
   "outputs": [
    {
     "name": "stdout",
     "output_type": "stream",
     "text": [
      "\u001b[33m1\u001b[39m\n"
     ]
    }
   ],
   "source": [
    "import { BoundCheckSnarkSetup, SetupParam } from '@docknetwork/crypto-wasm-ts';\n",
    "const provingKey = BoundCheckSnarkSetup();\n",
    "const snarkProvingKey = provingKey.decompress();\n",
    "\n",
    "const proverSetupParams: SetupParam[] = [];\n",
    "proverSetupParams.push(SetupParam.legosnarkProvingKeyUncompressed(snarkProvingKey));"
   ]
  },
  {
   "cell_type": "code",
   "execution_count": 69,
   "id": "e33b47c2-7678-4936-9261-98f0c9de8768",
   "metadata": {},
   "outputs": [
    {
     "name": "stderr",
     "output_type": "stream",
     "text": [
      "\u001b[31mGenerating proof returned error: LegoGroth16Error(SynthesisError(Unsatisfiable))\u001b[39m\n"
     ]
    }
   ],
   "source": [
    "import { WitnessEqualityMetaStatement, getIndicesForMsgNames, MetaStatement, QuasiProofSpec } from '@docknetwork/crypto-wasm-ts';\n",
    "\n",
    "\n",
    "// Prover prepares messages it wishes to reveal and hide.\n",
    "const revealedParametersB = new Set(['fname', 'lname', 'location.city'])\n",
    "\n",
    "const [revealedMsgsB, unrevealedMsgsB, revealedMsgsDecodedB] = getRevealedAndUnrevealed(\n",
    "    JOHN_SNOW_BANK_IDENTITY,\n",
    "    revealedParametersB,\n",
    "    encoder\n",
    ");\n",
    "\n",
    "// Create a BBS signature\n",
    "const statementB1 = Statement.bbsPlusSignatureProverConstantTime(sigParams, revealedMsgsB, false);\n",
    "const statementB2 = Statement.boundCheckLegoProverFromSetupParamRefs(3, 10000, 0);\n",
    "const statementsB = new Statements();\n",
    "statementsB.add(statementB1);\n",
    "statementsB.add(statementB2);\n",
    "\n",
    "const scoreFieldIndex = getIndicesForMsgNames(['score'], SCHEMA)[0]  // 12 -- test if it stays the same always! -- should be!\n",
    "const witnessEq = new WitnessEqualityMetaStatement();\n",
    "witnessEq.addWitnessRef(0, scoreFieldIndex);\n",
    "witnessEq.addWitnessRef(1, 0);\n",
    "const metaStatementsB = new MetaStatements();\n",
    "metaStatementsB.addWitnessEquality(witnessEq);\n",
    "\n",
    "const proofSpecB = new QuasiProofSpec(statementsB, metaStatementsB, proverSetupParams);\n",
    "\n",
    "const witnessB1 = Witness.bbsPlusSignatureConstantTime(sig.signature, unrevealedMsgsB, false);\n",
    "const witnessB2 = Witness.boundCheckLegoGroth16(sig.encodedMessages['score']);\n",
    "const witnessesB = new Witnesses();\n",
    "witnessesB.add(witnessB1);\n",
    "witnessesB.add(witnessB2);\n",
    "\n",
    "const proof = CompositeProof.generateUsingQuasiProofSpec(proofSpecB, witnessesB);\n",
    "proof\n",
    "// Error in code:\n",
    "// https://github.com/docknetwork/crypto/blob/a34298aeccd54105bab360d535ee6655f705e7ed/legogroth16/src/prover.rs#L573"
   ]
  },
  {
   "cell_type": "markdown",
   "id": "1d003139-77f1-49c9-be81-4873d9469e2f",
   "metadata": {},
   "source": [
    "### Notes:\n",
    "**Make sure to use TLS to send the information to the verifier. Data is not encrypted on its own**"
   ]
  }
 ],
 "metadata": {
  "kernelspec": {
   "display_name": "TypeScript",
   "language": "typescript",
   "name": "tslab"
  },
  "language_info": {
   "codemirror_mode": {
    "mode": "typescript",
    "name": "javascript",
    "typescript": true
   },
   "file_extension": ".ts",
   "mimetype": "text/typescript",
   "name": "typescript",
   "version": "3.7.2"
  }
 },
 "nbformat": 4,
 "nbformat_minor": 5
}
