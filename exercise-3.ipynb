{
 "cells": [
  {
   "cell_type": "markdown",
   "id": "2856edce-b316-4d47-a561-668a4edc2bc0",
   "metadata": {},
   "source": [
    "# Exercise 3 - Range proofs with ZKPs\n",
    "\n",
    "Now that we can do a privacy-preserving unlinkable selective disclosure, we can tackle the next step:\n",
    "removing even more information by only proving the actually relevant information.\n",
    "For an age check, the verifier doesn't need to know our birthdate.\n",
    "It's enough if we can convince them that we are above a certain age.\n",
    "\n",
    "## Sections\n",
    "\n",
    "1. Issuer - Setting up and signing a credential\n",
    "2. Creating a range proof using LegoGroth16\n",
    "3. Creating a range proof using Bulletproofs++\n",
    "4. Discussion: are we anonymous and unlinkable now?\n",
    "5. Coding exercise - Add an accumlator using a negative membership check"
   ]
  },
  {
   "cell_type": "markdown",
   "id": "54ecc8ab-24e2-4fb6-9499-1a47977a62e2",
   "metadata": {},
   "source": [
    "---\n",
    "\n",
    "## 1. Issuer - Setting up and signing a credential"
   ]
  },
  {
   "cell_type": "code",
   "execution_count": null,
   "id": "26a04d81-9345-4bac-9a53-5cc15d5fd592",
   "metadata": {},
   "outputs": [],
   "source": [
    "const E_ID_SCHEMA = {\n",
    "    type: 'object',\n",
    "    properties: {\n",
    "        name: { type: 'string' },\n",
    "        profession: { type: 'string' },\n",
    "        timeOfBirth: { type: 'integer', minimum: 0, maximum: 120},\n",
    "        height: {type: 'integer', minimum: 130, maximum: 210},\n",
    "        weight: {type: 'number', minimum: 40, multipleOf: 0.1}\n",
    "    }\n",
    "}\n",
    "const E_ID_DATA = {\n",
    "    name: \"Jack Sparrow\",\n",
    "    timeOfBirth: new Date(\"1993-08-01T00:00:00\").getTime(),\n",
    "    profession: \"IT Manager\",\n",
    "    height: 176,\n",
    "    weight: 84\n",
    "}"
   ]
  },
  {
   "cell_type": "code",
   "execution_count": null,
   "id": "1c30011b-a462-4096-8666-2845db3362a1",
   "metadata": {},
   "outputs": [],
   "source": [
    "import { initializeWasm } from '@docknetwork/crypto-wasm-ts'\n",
    "await initializeWasm();\n",
    "\n",
    "// Generating a keypair once signature parameters are created.\n",
    "import { BBSKeypair, BBSSignatureParams, BBS_SIGNATURE_PARAMS_LABEL_BYTES } from '@docknetwork/crypto-wasm-ts';\n",
    "\n",
    "const stringToBytes = (str: string) => Uint8Array.from(Buffer.from(str, \"utf-8\"));\n",
    "\n",
    "const params = BBSSignatureParams.generate(100, BBS_SIGNATURE_PARAMS_LABEL_BYTES);\n",
    "const keypair = BBSKeypair.generate(params, stringToBytes('seed1'));\n",
    "\n",
    "const secretKey = keypair.secretKey;\n",
    "const publicKey = keypair.publicKey;"
   ]
  },
  {
   "cell_type": "code",
   "execution_count": null,
   "id": "1438940b-20ee-48d1-aa1a-111f1bd5256a",
   "metadata": {},
   "outputs": [],
   "source": [
    "// Issing a credential based on the E-ID data based on the specified schema\n",
    "import { CredentialSchema, BBSCredentialBuilder, BBSCredential, SUBJECT_STR } from '@docknetwork/crypto-wasm-ts'\n",
    "\n",
    "const baseSchema = CredentialSchema.essential(); // default skeleton for the schema\n",
    "baseSchema.properties[SUBJECT_STR] = E_ID_SCHEMA;  // we insert our E-ID schema into the data schema position\n",
    "let eIDSchema = new CredentialSchema(baseSchema);\n",
    "\n",
    "const builder = new BBSCredentialBuilder();\n",
    "builder.schema = eIDSchema;\n",
    "builder.subject = E_ID_DATA;  // assigning data to the schema\n",
    "\n",
    "const credential = builder.sign(secretKey);\n",
    "\n",
    "const credentialToSendToHolder = credential.toJSON();"
   ]
  },
  {
   "cell_type": "code",
   "execution_count": null,
   "id": "37b9f92d-9166-4b20-a266-e53bcec96f83",
   "metadata": {},
   "outputs": [],
   "source": [
    "credentialToSendToHolder"
   ]
  },
  {
   "cell_type": "markdown",
   "id": "f4db5ab7-20f8-49ae-8f75-b9cfc14404a3",
   "metadata": {},
   "source": [
    "---\n",
    "\n",
    "## 2. Creating a range proof using LegoGroth16\n",
    "\n",
    "Our first range proof is done using [LegoGroth16](https://eprint.iacr.org/2019/142)"
   ]
  },
  {
   "cell_type": "code",
   "execution_count": null,
   "id": "493d049b-3267-4826-a621-4bb8027830cb",
   "metadata": {},
   "outputs": [],
   "source": [
    "// This section establishes a range proof capability based on the LegoGroth16 algorithm\n",
    "\n",
    "// The verifier is responsible for creating these keys, then sharing only the proving key with \n",
    "// the credential holder\n",
    "import { BoundCheckSnarkSetup, SetupParam } from '@docknetwork/crypto-wasm-ts';\n",
    "const provingKey = BoundCheckSnarkSetup();\n",
    "const snarkProvingKey = provingKey.decompress();\n",
    "const snarkVerifyingKey = provingKey.getVerifyingKeyUncompressed();"
   ]
  },
  {
   "cell_type": "markdown",
   "id": "9bb6dace-0878-48c7-a413-adc8e94ed36e",
   "metadata": {},
   "source": [
    "## Credential Holder"
   ]
  },
  {
   "cell_type": "code",
   "execution_count": null,
   "id": "b70c8b80-d9c7-4f37-b36f-2306d4386b9e",
   "metadata": {},
   "outputs": [],
   "source": [
    "import { PresentationBuilder } from '@docknetwork/crypto-wasm-ts'\n",
    "const builder = new PresentationBuilder();\n",
    "builder.addCredential(credential, publicKey)\n",
    "builder.markAttributesRevealed(0, new Set<string>(['credentialSubject.name', 'credentialSubject.profession']));\n",
    "builder.enforceBounds(0, 'credentialSubject.height', 170, 190, 'ageRangeCheck', snarkProvingKey); // The range is inclusive of the minimum and exclusive of the maximum value\n",
    "\n",
    "const presentation = builder.finalize();"
   ]
  },
  {
   "cell_type": "markdown",
   "id": "34e1eda7-00b0-4494-806a-0cf0d90297ba",
   "metadata": {},
   "source": [
    "### sending data to Verifier\n",
    "data: \n",
    "1. selected data to be revealed\n",
    "2. Schema of the credential\n",
    "3. Proof of signature\n",
    "\n",
    "All these info and more are stored in the \"presentation object\". Note that this object is a completely serializable JSON object.\n",
    "\n",
    "## Verifier"
   ]
  },
  {
   "cell_type": "code",
   "execution_count": null,
   "id": "9a7ae62e-a246-4aa0-91d3-f95f9d1a58bf",
   "metadata": {},
   "outputs": [],
   "source": [
    "const receivedObjectOnVerifierSide = presentation.toJSON()\n",
    "console.log(receivedObjectOnVerifierSide)  // This is a serialized version (to be sent across an API to the verifier).\n",
    "console.log(\"-----------------------------------\")\n",
    "console.log(receivedObjectOnVerifierSide[\"spec\"][\"credentials\"][0])"
   ]
  },
  {
   "cell_type": "code",
   "execution_count": null,
   "id": "577d5945-088f-4fbd-a54a-9e851de8c0d1",
   "metadata": {},
   "outputs": [],
   "source": [
    "import { Presentation } from '@docknetwork/crypto-wasm-ts'\n",
    "\n",
    "const predicateParams = new Map([['ageRangeCheck', snarkVerifyingKey]]);\n",
    "\n",
    "const recreatedPres = Presentation.fromJSON(receivedObjectOnVerifierSide)\n",
    "recreatedPres.verify([publicKey], undefined, predicateParams)"
   ]
  },
  {
   "cell_type": "markdown",
   "id": "e52b7bb0-8148-4721-9cb9-fd231bf42cdf",
   "metadata": {},
   "source": [
    "### Now, we redo the experiment with Bulletproofs++\n",
    "reference: https://eprint.iacr.org/2022/510"
   ]
  },
  {
   "cell_type": "code",
   "execution_count": null,
   "id": "4568097c-cd67-4cd6-a933-2777de137149",
   "metadata": {},
   "outputs": [],
   "source": [
    "import { BoundCheckBppParams } from '@docknetwork/crypto-wasm-ts'"
   ]
  },
  {
   "cell_type": "markdown",
   "id": "60b7191e-b07c-4211-b942-9dd625fcf31e",
   "metadata": {},
   "source": [
    "## Holder"
   ]
  },
  {
   "cell_type": "code",
   "execution_count": null,
   "id": "43d435dc-c634-47ac-b018-58fd4310998a",
   "metadata": {},
   "outputs": [],
   "source": [
    "import { PresentationBuilder } from '@docknetwork/crypto-wasm-ts'\n",
    "const builder = new PresentationBuilder();\n",
    "builder.addCredential(credential, publicKey)\n",
    "builder.markAttributesRevealed(0, new Set<string>(['credentialSubject.name', 'credentialSubject.profession']));\n",
    "\n",
    "// The Holder creates his own parameters for the range proof\n",
    "const boundCheckBppParams1 = new BoundCheckBppParams(stringToBytes('Common Reference String')).decompress();\n",
    "// builder.enforceBounds(0, 'credentialSubject.timeOfBirth', new Date(\"1972-01-01T00:00:00\").getTime(), new Date(\"2020-08-01T00:00:00\").getTime(), 'ageRangeCheck', boundCheckBppParams1);\n",
    "builder.enforceBounds(0, 'credentialSubject.height', 170, 190, 'ageRangeCheck', boundCheckBppParams1);\n",
    "\n",
    "const presentation = builder.finalize();\n",
    "const receivedObjectOnVerifierSide = presentation.toJSON()\n",
    "presentation.spec.credentials[0]"
   ]
  },
  {
   "cell_type": "markdown",
   "id": "b1851758-99de-4739-bdbf-9d3f19971292",
   "metadata": {},
   "source": [
    "## Verifier"
   ]
  },
  {
   "cell_type": "code",
   "execution_count": null,
   "id": "b07e3e40-da17-4c0d-ac31-66e3c750aaa5",
   "metadata": {},
   "outputs": [],
   "source": [
    "import { Presentation } from '@docknetwork/crypto-wasm-ts'\n",
    "\n",
    "// The verifier creates his own parameters for the range proof\n",
    "const boundCheckBppParams2 = new BoundCheckBppParams(stringToBytes('Common Reference String')).decompress();\n",
    "\n",
    "const predicateParams1 = new Map([['ageRangeCheck', boundCheckBppParams2]]);\n",
    "\n",
    "const recreatedPres = Presentation.fromJSON(receivedObjectOnVerifierSide)\n",
    "recreatedPres.verify([publicKey], undefined, predicateParams1)"
   ]
  },
  {
   "cell_type": "markdown",
   "id": "f07ddfce-08a7-40bf-8335-c5ccd2f5987b",
   "metadata": {},
   "source": [
    "## Optional Exercise: Add an accumlator using a negative membership check  \n",
    "Use the documentation to implement an accumlator using a negative membership check"
   ]
  },
  {
   "cell_type": "code",
   "execution_count": null,
   "id": "1bb667fd-4c9c-4cb5-92f4-251853f51f92",
   "metadata": {},
   "outputs": [],
   "source": []
  }
 ],
 "metadata": {
  "kernelspec": {
   "display_name": "TypeScript",
   "language": "typescript",
   "name": "tslab"
  },
  "language_info": {
   "codemirror_mode": {
    "mode": "typescript",
    "name": "javascript",
    "typescript": true
   },
   "file_extension": ".ts",
   "mimetype": "text/typescript",
   "name": "typescript",
   "version": "3.7.2"
  }
 },
 "nbformat": 4,
 "nbformat_minor": 5
}
