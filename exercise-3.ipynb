{
 "cells": [
  {
   "cell_type": "markdown",
   "id": "2856edce-b316-4d47-a561-668a4edc2bc0",
   "metadata": {},
   "source": [
    "# Exercise 3 - Range proofs with ZKPs\n",
    "\n",
    "Now that we can do a privacy-preserving unlinkable selective disclosure, we can tackle the next step:\n",
    "removing even more information by only proving the actually relevant information.\n",
    "For an age check, the verifier doesn't need to know our birthdate.\n",
    "It's enough if we can convince them that we are above, below, or in the range of a certain age.\n",
    "\n",
    "## Sections\n",
    "\n",
    "1. Issuer - Setting up and signing a credential\n",
    "2. Creating a range proof using LegoGroth16\n",
    "3. Creating a range proof using Bulletproofs++\n",
    "4. Discussion: are we anonymous and unlinkable now?\n",
    "5. Coding exercise - Using the ZKPs\n",
    "6. Hard Coding Exercise - Revocation test: add an accumlator using a negative membership check"
   ]
  },
  {
   "cell_type": "markdown",
   "id": "54ecc8ab-24e2-4fb6-9499-1a47977a62e2",
   "metadata": {},
   "source": [
    "---\n",
    "\n",
    "## 1. Issuer - Setting up and signing a credential\n",
    "\n",
    "The first step of the issuer is the same as for the selective disclosure in exercise 2."
   ]
  },
  {
   "cell_type": "code",
   "execution_count": null,
   "id": "26a04d81-9345-4bac-9a53-5cc15d5fd592",
   "metadata": {},
   "outputs": [],
   "source": [
    "// Defining the schema and one credential.\n",
    "const E_ID_SCHEMA = {\n",
    "    type: 'object',\n",
    "    properties: {\n",
    "        name: { type: 'string' },\n",
    "        profession: { type: 'string' },\n",
    "        timeOfBirth: { type: 'integer', minimum: 0},\n",
    "        height: {type: 'integer', minimum: 130, maximum: 210},\n",
    "        weight: {type: 'number', minimum: 40, multipleOf: 0.1}\n",
    "    }\n",
    "}\n",
    "\n",
    "const E_ID_DATA = {\n",
    "    name: \"Jack Sparrow\",\n",
    "    timeOfBirth: new Date(\"1993-08-01T00:00:00\").getTime(),\n",
    "    profession: \"IT Manager\",\n",
    "    height: 176,\n",
    "    weight: 84\n",
    "}"
   ]
  },
  {
   "cell_type": "code",
   "execution_count": null,
   "id": "1c30011b-a462-4096-8666-2845db3362a1",
   "metadata": {},
   "outputs": [],
   "source": [
    "import { initializeWasm, BBSKeypair, BBSSignatureParams, BBS_SIGNATURE_PARAMS_LABEL_BYTES,\n",
    "        CredentialSchema, BBSCredentialBuilder, BBSCredential, SUBJECT_STR } from '@docknetwork/crypto-wasm-ts'\n",
    "await initializeWasm();\n",
    "const stringToBytes = (str: string) => Uint8Array.from(Buffer.from(str, \"utf-8\"));\n",
    "\n",
    "// Generating a keypair for the issuer.\n",
    "// We suppose that there is a PKI available which lets the verifier\n",
    "// know the public key of the issuer.\n",
    "const params = BBSSignatureParams.generate(100, BBS_SIGNATURE_PARAMS_LABEL_BYTES);\n",
    "const keypair = BBSKeypair.generate(params, stringToBytes('seed1'));\n",
    "const secretKey = keypair.secretKey;\n",
    "const publicKey = keypair.publicKey;\n",
    "\n",
    "// Issuing a credential based on the E-ID data based on the specified schema,\n",
    "// and sign it using the BBS+ library.\n",
    "const baseSchema = CredentialSchema.essential();\n",
    "baseSchema.properties[SUBJECT_STR] = E_ID_SCHEMA;  \n",
    "const eIDSchema = new CredentialSchema(baseSchema);\n",
    "\n",
    "const builder = new BBSCredentialBuilder();\n",
    "builder.schema = eIDSchema;\n",
    "builder.subject = E_ID_DATA;\n",
    "const credential = builder.sign(secretKey);\n",
    "\n",
    "// This is the data which is sent to the holder.\n",
    "const credentialToSendToHolder = credential.toJSON();\n",
    "console.log(\"This data is sent to the holder:\", credentialToSendToHolder);"
   ]
  },
  {
   "cell_type": "markdown",
   "id": "4e504af0-e03f-4529-9928-92514c5927e1",
   "metadata": {},
   "source": [
    "### Exercises\n",
    "\n",
    "1. Change the content of the credential\n",
    "2. Why is the `timeOfBirth` not a string like \"21st of March 1998\"?\n",
    "3. Add a new field to the credential, but don't forget to also add it to the schema"
   ]
  },
  {
   "cell_type": "markdown",
   "id": "f4db5ab7-20f8-49ae-8f75-b9cfc14404a3",
   "metadata": {},
   "source": [
    "---\n",
    "\n",
    "## 2. Creating a range proof using LegoGroth16\n",
    "\n",
    "Our first range proof is done using [LegoGroth16](https://eprint.iacr.org/2019/142)"
   ]
  },
  {
   "cell_type": "markdown",
   "id": "abf5a8f2-bc20-4643-a408-d262dae988b6",
   "metadata": {},
   "source": [
    "### Verifier\n",
    "\n",
    "We suppose that the holder takes contact with a verifier to get a service from it.\n",
    "As a first step, the verifier must perform a trusted setup.\n",
    "It consists of the following parts:\n",
    "\n",
    "- a proving key, used to create the proof, and sent to the holder\n",
    "- a verifying key, used to verify the proof"
   ]
  },
  {
   "cell_type": "code",
   "execution_count": null,
   "id": "493d049b-3267-4826-a621-4bb8027830cb",
   "metadata": {},
   "outputs": [],
   "source": [
    "// The verifier is responsible for creating these keys, then sharing only the proving key with \n",
    "// the credential holder.\n",
    "import { BoundCheckSnarkSetup, SetupParam } from '@docknetwork/crypto-wasm-ts';\n",
    "const provingKey = BoundCheckSnarkSetup();\n",
    "const snarkProvingKey = provingKey.decompress();\n",
    "const snarkVerifyingKey = provingKey.getVerifyingKeyUncompressed();"
   ]
  },
  {
   "cell_type": "markdown",
   "id": "9bb6dace-0878-48c7-a413-adc8e94ed36e",
   "metadata": {},
   "source": [
    "### Credential Holder\n",
    "\n",
    "With the proving key, the holder can now create a proof.\n",
    "In our case, the holder reveals two attributes and creates a range proof to prove that: `170 <= height < 190`."
   ]
  },
  {
   "cell_type": "code",
   "execution_count": null,
   "id": "b70c8b80-d9c7-4f37-b36f-2306d4386b9e",
   "metadata": {},
   "outputs": [],
   "source": [
    "import { PresentationBuilder } from '@docknetwork/crypto-wasm-ts'\n",
    "\n",
    "// The holder creates a proof for their height, as requested from the verifier.\n",
    "// Instead of signing it, they call `finalize` to create the proof.\n",
    "// The use-case is left as an exercise to the reader.\n",
    "// My oldest daughter once convinced my youngest daughter that there is a minimal height\n",
    "// for admission to UNIL, to avoid people signing up their dogs.\n",
    "const builder = new PresentationBuilder();\n",
    "builder.addCredential(credential, publicKey)\n",
    "builder.markAttributesRevealed(0, new Set<string>(['credentialSubject.name', 'credentialSubject.profession']));\n",
    "// Create a proof that `170 <= height < 190`\n",
    "builder.enforceBounds(0, 'credentialSubject.height', 170, 190, 'heightRangeCheck', snarkProvingKey);\n",
    "const presentation = builder.finalize();\n",
    "\n",
    "// This is a serialized version, to be sent across an API to the verifier.\n",
    "const lgProofForVerifier = presentation.toJSON();\n",
    "console.log(\"Data sent to verifier:\", lgProofForVerifier);"
   ]
  },
  {
   "cell_type": "markdown",
   "id": "34e1eda7-00b0-4494-806a-0cf0d90297ba",
   "metadata": {},
   "source": [
    "### Sending data to verifier\n",
    "\n",
    "The following data is now sent to the verifier:\n",
    "\n",
    "1. Selected data to be revealed\n",
    "2. Schema of the credential\n",
    "3. Proof of signature\n",
    "\n",
    "All this information and more is stored in the \"presentation object\". Note that this object is a completely serializable JSON object."
   ]
  },
  {
   "cell_type": "markdown",
   "id": "c45cfd7f-ba93-4247-b88b-e1bb139775ec",
   "metadata": {},
   "source": [
    "### Verifier\n",
    "\n",
    "The verifier can now make sure that the proof is correct and matches the public key of the issuer. "
   ]
  },
  {
   "cell_type": "code",
   "execution_count": null,
   "id": "9a7ae62e-a246-4aa0-91d3-f95f9d1a58bf",
   "metadata": {},
   "outputs": [],
   "source": [
    "import { Presentation } from '@docknetwork/crypto-wasm-ts'\n",
    "\n",
    "// Now the verifier can check whether the proof is valid.\n",
    "const predicateParams = new Map([['heightRangeCheck', snarkVerifyingKey]]);\n",
    "const recreatedPres = Presentation.fromJSON(lgProofForVerifier)\n",
    "console.log(\"Credential schema and revealed attributes:\", lgProofForVerifier[\"spec\"][\"credentials\"][0]);\n",
    "console.log(\"Verification succeeded:\", recreatedPres.verify([publicKey], undefined, predicateParams).verified);"
   ]
  },
  {
   "cell_type": "markdown",
   "id": "fde7cff9-44ab-4096-843f-16f3eacfa2c0",
   "metadata": {
    "jp-MarkdownHeadingCollapsed": true
   },
   "source": [
    "### Exercises\n",
    "\n",
    "1. What happens if you try to create a proof which is not satisfied by the credential? Why?\n",
    "2. How does the verifier know the bounds check performed? Does it need this information? Why (not)?\n",
    "3. Change the proof to be on a different field of the credential\n",
    "4. Add a second range proof"
   ]
  },
  {
   "cell_type": "markdown",
   "id": "e52b7bb0-8148-4721-9cb9-fd231bf42cdf",
   "metadata": {},
   "source": [
    "---\n",
    "\n",
    "## 3. Creating a range proof using Bulletproofs++\n",
    "\n",
    "The docknetwork/crypto library offers different proof systems to create the range proofs.\n",
    "While the LegoGroth16 is based on the well-known and tested Groth16 system, Bulletproofs(++) are somewhat newer, but\n",
    "as we'll see in the measurement exercise, much faster and smaller."
   ]
  },
  {
   "cell_type": "markdown",
   "id": "60b7191e-b07c-4211-b942-9dd625fcf31e",
   "metadata": {},
   "source": [
    "### Holder\n",
    "\n",
    "This is very similar to the creation of a proof with LegoGroth16, with two main differences:\n",
    "\n",
    "- the setup is done on both the holder and the verifier side, using a \"Common Reference String\"\n",
    "- these parameters are used instead of the ones created by the verifier in the case of LegoGroth16"
   ]
  },
  {
   "cell_type": "code",
   "execution_count": null,
   "id": "43d435dc-c634-47ac-b018-58fd4310998a",
   "metadata": {},
   "outputs": [],
   "source": [
    "import { BoundCheckBppParams, PresentationBuilder } from '@docknetwork/crypto-wasm-ts'\n",
    "\n",
    "// The holder creates a proof for their height, as requested from the verifier.\n",
    "// Instead of signing it, they call `finalize` to create the proof.\n",
    "const builder = new PresentationBuilder();\n",
    "builder.addCredential(credential, publicKey)\n",
    "builder.markAttributesRevealed(0, new Set<string>(['credentialSubject.name', 'credentialSubject.profession']));\n",
    "const boundCheckBppParams1 = new BoundCheckBppParams(stringToBytes('Common Reference String')).decompress();\n",
    "builder.enforceBounds(0, 'credentialSubject.height', 170, 190, 'heightRangeCheck', boundCheckBppParams1);\n",
    "const presentation = builder.finalize();\n",
    "\n",
    "// This is a serialized version, to be sent across an API to the verifier.\n",
    "const bpProofForVerifier = presentation.toJSON()\n",
    "console.log(\"Data sent to the verifier:\", bpProofForVerifier);"
   ]
  },
  {
   "cell_type": "markdown",
   "id": "b1851758-99de-4739-bdbf-9d3f19971292",
   "metadata": {},
   "source": [
    "### Verifier\n",
    "\n",
    "For Bulletproofs++, the verifier needs to recreate the same setup parameters as the prover (holder).\n",
    "Only the \"Common Reference String\" must be the same.\n",
    "This string can be sent from the verifier at the beginning of the "
   ]
  },
  {
   "cell_type": "code",
   "execution_count": null,
   "id": "b07e3e40-da17-4c0d-ac31-66e3c750aaa5",
   "metadata": {},
   "outputs": [],
   "source": [
    "import { Presentation } from '@docknetwork/crypto-wasm-ts'\n",
    "\n",
    "// The verifier now proceeds to check the proof to see if it's valid.\n",
    "const boundCheckBppParams2 = new BoundCheckBppParams(stringToBytes('Common Reference String')).decompress();\n",
    "const predicateParams1 = new Map([['heightRangeCheck', boundCheckBppParams2]]);\n",
    "const recreatedPres = Presentation.fromJSON(bpProofForVerifier);\n",
    "console.log(\"Revealed attributes:\", recreatedPres.spec.credentials[0].revealedAttributes);\n",
    "console.log(\"Verification succeeded:\", recreatedPres.verify([publicKey], undefined, predicateParams1).verified);"
   ]
  },
  {
   "cell_type": "markdown",
   "id": "4d771f67-edfd-4032-90c8-e44b869578f3",
   "metadata": {},
   "source": [
    "### Exercises\n",
    "\n",
    "1. If you do the same exercises as for the LegoGroth16, what is the difference in the code?\n",
    "2. What other difference do you experience when running the code?\n",
    "3. Can you find how the verifier can be sure what is proven by the holder?"
   ]
  },
  {
   "cell_type": "markdown",
   "id": "95981aeb-a28f-49df-bdb8-7d0f8115bdd4",
   "metadata": {},
   "source": [
    "---\n",
    "\n",
    "## 4. Discussion: are we anonymous and unlinkable now?\n",
    "\n",
    "1. What did we gain by using Zero Knowledge Proofs?\n",
    "2. What does the verifier learn about our credential?\n",
    "3. Does this make the proof anonymous? Why? Why not?\n",
    "4. Is the proof unlinkable? When is it? When isn't it?"
   ]
  },
  {
   "cell_type": "markdown",
   "id": "e2085e79-4d4a-4ff8-8d04-9690e6571ef7",
   "metadata": {},
   "source": [
    "---\n",
    "\n",
    "## 5. Coding exercise - Using the ZKPs\n",
    "\n",
    "Here are some more coding exercises to help you understand the code.\n",
    "We propose you to copy the exercise into a new notebook, so you always have the original code ready for comparisons.\n",
    "\n",
    "1. Create a proof that your age is in a certain range. Why is the age format given like this?\n",
    "2. Add a new field for the postal code to the credential and to the schema. Now create a proof that you live in the canton de Vaud."
   ]
  },
  {
   "cell_type": "markdown",
   "id": "f07ddfce-08a7-40bf-8335-c5ccd2f5987b",
   "metadata": {},
   "source": [
    "---\n",
    "\n",
    "## 6. Hard Coding Exercise - Revocation test: add an accumlator using a negative membership check\n",
    "\n",
    "Implement a revocation test of the credential using an accumulator.\n",
    "\n",
    "This exercise is very hard, as unfortunately the docknetwork/crypto library is lacking a good documentation.\n",
    "A good starting point is the following test:\n",
    "[presentation-status-kb-accumulator.spec.ts](https://github.com/docknetwork/crypto-wasm-ts/blob/c32072b85150b6c1febadb29d2b8b7f4dbe7e40b/tests/anonymous-credentials/presentation-status-kb-accumulator.spec.ts#L143).\n",
    "If you want to dive into this, please keep in mind:\n",
    "\n",
    "- The tests in the `crypto-wasm-ts` library are written to work with different proving systems in mind.\n",
    "  So they have a lots of variables which are filled out by other parts of the tests to make it as universal as possible.\n",
    "- My preferred way to follow around the code is using VisualStudio, and then use `<CMD+CLICK>` to follow methods, `<CMD+OPTION+LEFT>`\n",
    "  to go back\n",
    "\n",
    "An accumulator is a cryptographic tool which allows to do (negative) membership proofs.\n",
    "Instead of simply listing a set of numbers, an accumulator compresses these numbers using cryptographic algorithms.\n",
    "Different accumulators exist with different trade-ofs:\n",
    "\n",
    "- the size of the accumulator, depending on the number of elements in it\n",
    "- whether it's possible to add and remove elements once the accumulator is set up\n",
    "- if you can prove the existence and/or the absence of an element in the accumulator\n",
    "\n",
    "Using the docknetwork/crypto library, you can add an inclusion or an absence proof using accumulators.\n",
    "In order to prove the validity of the credential, the following needs to be done:\n",
    "\n",
    "1. The issuer holds the accumulator which contains all revoked elements\n",
    "2. If a credential is revoked, its ID needs to be stored in the accumulator\n",
    "3. The holder creates an additional proof that their ID is not in the accumulator\n",
    "4. When the verifier checks the proof, it can be sure that the credential of the holder hasn't been revoked yet\n",
    "\n",
    "From a programming point of view, you have to add the following:\n",
    "\n",
    "- Issuer\n",
    "  - Setup the accumulator using something like [setupKBUniAccumulator](https://github.com/docknetwork/crypto-wasm-ts/blob/c32072b85150b6c1febadb29d2b8b7f4dbe7e40b/tests/anonymous-credentials/utils.ts#L824)\n",
    "    - the `state` is not necessary\n",
    "    - instead of adding 100 IDs, start with adding only two possible IDs\n",
    "  - use `builder.setCredentialStatus` with a non-member check, like [here](https://github.com/docknetwork/crypto-wasm-ts/blob/c32072b85150b6c1febadb29d2b8b7f4dbe7e40b/tests/anonymous-credentials/presentation-status-kb-accumulator.spec.ts#L97)\n",
    "    - the `registryID` can be any string\n",
    "    - the `memberValue` needs to be the encoded user-ID from the `schema.encoder.encodeMessage` call\n",
    "    - the `extra` field with the `blockNo` is optional and can be ignored.\n",
    "      It is used to transfer additional information from the holder to the verifier.\n",
    "- Holder\n",
    "  - call `builder.addAccumInfoForCredStatus` with the values from the issuer. These values are public.\n",
    "- Verifier\n",
    "  - add a map with the public key of the accumulator to the call of `recreatedPres.verify`\n",
    "\n",
    "Some questions:\n",
    "\n",
    "- What security did we imply with this setup?\n",
    "- What can go wrong?\n",
    "- How can the verifier be sure that it didn't get a stale proof?\n",
    "- How can the verifier be sure that the proof hasn't been done on a stale accumulator?"
   ]
  },
  {
   "cell_type": "code",
   "execution_count": null,
   "id": "1bb667fd-4c9c-4cb5-92f4-251853f51f92",
   "metadata": {},
   "outputs": [],
   "source": []
  }
 ],
 "metadata": {
  "kernelspec": {
   "display_name": "TypeScript",
   "language": "typescript",
   "name": "tslab"
  },
  "language_info": {
   "codemirror_mode": {
    "mode": "typescript",
    "name": "javascript",
    "typescript": true
   },
   "file_extension": ".ts",
   "mimetype": "text/typescript",
   "name": "typescript",
   "version": "3.7.2"
  }
 },
 "nbformat": 4,
 "nbformat_minor": 5
}
