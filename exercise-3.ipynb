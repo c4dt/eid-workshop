{
 "cells": [
  {
   "cell_type": "markdown",
   "id": "2856edce-b316-4d47-a561-668a4edc2bc0",
   "metadata": {},
   "source": [
    "# Exercise 3 - Range proofs with ZKPs\n",
    "\n",
    "Now that we can do a privacy-preserving unlinkable selective disclosure, we can tackle the next step:\n",
    "removing even more information by only proving the actually relevant information.\n",
    "For an age check, the verifier doesn't need to know our birthdate.\n",
    "It's enough if we can convince them that we are above, below, or in the range of a certain age.\n",
    "\n",
    "## Sections\n",
    "\n",
    "1. Issuer - Setting up and signing a credential\n",
    "2. Creating a range proof using LegoGroth16\n",
    "3. Creating a range proof using Bulletproofs++\n",
    "4. Discussion: are we anonymous and unlinkable now?\n",
    "5. Coding exercise - Add an accumlator using a negative membership check"
   ]
  },
  {
   "cell_type": "markdown",
   "id": "54ecc8ab-24e2-4fb6-9499-1a47977a62e2",
   "metadata": {},
   "source": [
    "---\n",
    "\n",
    "## 1. Issuer - Setting up and signing a credential"
   ]
  },
  {
   "cell_type": "code",
   "execution_count": null,
   "id": "26a04d81-9345-4bac-9a53-5cc15d5fd592",
   "metadata": {},
   "outputs": [],
   "source": [
    "// Defining the schema and one credential.\n",
    "\n",
    "const E_ID_SCHEMA = {\n",
    "    type: 'object',\n",
    "    properties: {\n",
    "        name: { type: 'string' },\n",
    "        profession: { type: 'string' },\n",
    "        timeOfBirth: { type: 'integer', minimum: 0},\n",
    "        height: {type: 'integer', minimum: 130, maximum: 210},\n",
    "        weight: {type: 'number', minimum: 40, multipleOf: 0.1}\n",
    "    }\n",
    "}\n",
    "const E_ID_DATA = {\n",
    "    name: \"Jack Sparrow\",\n",
    "    timeOfBirth: new Date(\"1993-08-01T00:00:00\").getTime(),\n",
    "    profession: \"IT Manager\",\n",
    "    height: 176,\n",
    "    weight: 84\n",
    "}"
   ]
  },
  {
   "cell_type": "code",
   "execution_count": null,
   "id": "1c30011b-a462-4096-8666-2845db3362a1",
   "metadata": {},
   "outputs": [],
   "source": [
    "// Setting up the issuer\n",
    "\n",
    "import { initializeWasm } from '@docknetwork/crypto-wasm-ts'\n",
    "await initializeWasm();\n",
    "\n",
    "import { BBSKeypair, BBSSignatureParams, BBS_SIGNATURE_PARAMS_LABEL_BYTES,\n",
    "        CredentialSchema, BBSCredentialBuilder, BBSCredential, SUBJECT_STR } from '@docknetwork/crypto-wasm-ts'\n",
    "\n",
    "const stringToBytes = (str: string) => Uint8Array.from(Buffer.from(str, \"utf-8\"));\n",
    "\n",
    "// Generating a keypair once signature parameters are created.\n",
    "const params = BBSSignatureParams.generate(100, BBS_SIGNATURE_PARAMS_LABEL_BYTES);\n",
    "const keypair = BBSKeypair.generate(params, stringToBytes('seed1'));\n",
    "\n",
    "const secretKey = keypair.secretKey;\n",
    "const publicKey = keypair.publicKey;\n",
    "\n",
    "// Issing a credential based on the E-ID data based on the specified schema\n",
    "\n",
    "// default skeleton for the schema\n",
    "const baseSchema = CredentialSchema.essential();\n",
    "// we insert our E-ID schema into the data schema position\n",
    "baseSchema.properties[SUBJECT_STR] = E_ID_SCHEMA;  \n",
    "let eIDSchema = new CredentialSchema(baseSchema);\n",
    "\n",
    "const builder = new BBSCredentialBuilder();\n",
    "builder.schema = eIDSchema;\n",
    "// assigning data to the schema\n",
    "builder.subject = E_ID_DATA;\n",
    "\n",
    "const credential = builder.sign(secretKey);\n",
    "\n",
    "const credentialToSendToHolder = credential.toJSON();\n",
    "console.log(\"This data is sent to the holder:\", credentialToSendToHolder);"
   ]
  },
  {
   "cell_type": "markdown",
   "id": "4e504af0-e03f-4529-9928-92514c5927e1",
   "metadata": {},
   "source": [
    "### Exercises\n",
    "\n",
    "- Change the content of the credential\n",
    "- Why is the `timeOfBirth` not a string like \"21st of March 1998\"?\n",
    "- Add a new field to the credential, but don't forget to also add it to the schema"
   ]
  },
  {
   "cell_type": "markdown",
   "id": "f4db5ab7-20f8-49ae-8f75-b9cfc14404a3",
   "metadata": {},
   "source": [
    "---\n",
    "\n",
    "## 2. Creating a range proof using LegoGroth16\n",
    "\n",
    "Our first range proof is done using [LegoGroth16](https://eprint.iacr.org/2019/142)"
   ]
  },
  {
   "cell_type": "markdown",
   "id": "abf5a8f2-bc20-4643-a408-d262dae988b6",
   "metadata": {},
   "source": [
    "### Issuer\n",
    "\n",
    "The issuer must create a setup structure with two parts:\n",
    "\n",
    "- a proving key, used to create the proof, and sent to the holder\n",
    "- a verifying key, used to verify the proof"
   ]
  },
  {
   "cell_type": "code",
   "execution_count": null,
   "id": "493d049b-3267-4826-a621-4bb8027830cb",
   "metadata": {},
   "outputs": [],
   "source": [
    "// This section establishes a range proof capability based on the LegoGroth16 algorithm\n",
    "\n",
    "// The verifier is responsible for creating these keys, then sharing only the proving key with \n",
    "// the credential holder\n",
    "import { BoundCheckSnarkSetup, SetupParam } from '@docknetwork/crypto-wasm-ts';\n",
    "const provingKey = BoundCheckSnarkSetup();\n",
    "const snarkProvingKey = provingKey.decompress();\n",
    "const snarkVerifyingKey = provingKey.getVerifyingKeyUncompressed();"
   ]
  },
  {
   "cell_type": "markdown",
   "id": "9bb6dace-0878-48c7-a413-adc8e94ed36e",
   "metadata": {},
   "source": [
    "### Credential Holder\n",
    "\n",
    "With the proving key, the holder can now create a proof.\n",
    "In our case, the holder reveals two attributes and creates a range proof to prove that: `170 <= height < 190`."
   ]
  },
  {
   "cell_type": "code",
   "execution_count": null,
   "id": "b70c8b80-d9c7-4f37-b36f-2306d4386b9e",
   "metadata": {},
   "outputs": [],
   "source": [
    "import { PresentationBuilder } from '@docknetwork/crypto-wasm-ts'\n",
    "const builder = new PresentationBuilder();\n",
    "builder.addCredential(credential, publicKey)\n",
    "builder.markAttributesRevealed(0, new Set<string>(['credentialSubject.name', 'credentialSubject.profession']));\n",
    "// Create a proof that `170 <= height < 190`\n",
    "builder.enforceBounds(0, 'credentialSubject.height', 170, 190, 'heightRangeCheck', snarkProvingKey);\n",
    "\n",
    "const presentation = builder.finalize();\n",
    "// This is a serialized version (to be sent across an API to the verifier).\n",
    "const lgProofForVerifier = presentation.toJSON();\n",
    "\n",
    "console.log(\"Data sent to verifier:\", lgProofForVerifier);"
   ]
  },
  {
   "cell_type": "markdown",
   "id": "34e1eda7-00b0-4494-806a-0cf0d90297ba",
   "metadata": {},
   "source": [
    "### Sending data to verifier\n",
    "\n",
    "The following data is now sent to the verifier:\n",
    "\n",
    "1. Selected data to be revealed\n",
    "2. Schema of the credential\n",
    "3. Proof of signature\n",
    "\n",
    "All this information and more is stored in the \"presentation object\". Note that this object is a completely serializable JSON object."
   ]
  },
  {
   "cell_type": "markdown",
   "id": "c45cfd7f-ba93-4247-b88b-e1bb139775ec",
   "metadata": {},
   "source": [
    "### Verifier\n",
    "\n",
    "The verifier can now make sure that the proof is correct and matches the public key of the issuer. "
   ]
  },
  {
   "cell_type": "code",
   "execution_count": null,
   "id": "9a7ae62e-a246-4aa0-91d3-f95f9d1a58bf",
   "metadata": {},
   "outputs": [],
   "source": [
    "import { Presentation } from '@docknetwork/crypto-wasm-ts'\n",
    "\n",
    "const predicateParams = new Map([['heightRangeCheck', snarkVerifyingKey]]);\n",
    "\n",
    "const recreatedPres = Presentation.fromJSON(lgProofForVerifier)\n",
    "\n",
    "console.log(\"Credential schema and revealed attributes:\", lgProofForVerifier[\"spec\"][\"credentials\"][0]);\n",
    "console.log(\"Verification succeeded:\", recreatedPres.verify([publicKey], undefined, predicateParams).verified);"
   ]
  },
  {
   "cell_type": "markdown",
   "id": "fde7cff9-44ab-4096-843f-16f3eacfa2c0",
   "metadata": {
    "jp-MarkdownHeadingCollapsed": true
   },
   "source": [
    "### Exercises\n",
    "\n",
    "1. What happens if you try to create a proof which is not satisfied by the credential? Why?\n",
    "2. How does the verifier know the bounds check performed? Do they need this information? Why (not)?\n",
    "3. Change the proof to be on a different field of the credential\n",
    "4. Add a second range proof"
   ]
  },
  {
   "cell_type": "markdown",
   "id": "e52b7bb0-8148-4721-9cb9-fd231bf42cdf",
   "metadata": {},
   "source": [
    "---\n",
    "\n",
    "## 3. Creating a range proof using Bulletproofs++\n",
    "\n",
    "The docknetwork/crypto library offers different proof systems to create the range proofs.\n",
    "While the LegoGroth16 is based on the well-known and tested Groth16 system, Bulletproofs(++) are somewhat newer, but\n",
    "as we'll see in the measurement exercise, much faster and smaller."
   ]
  },
  {
   "cell_type": "markdown",
   "id": "60b7191e-b07c-4211-b942-9dd625fcf31e",
   "metadata": {},
   "source": [
    "### Holder\n",
    "\n",
    "This is very similar to the creation of a proof with LegoGroth16, with two main differences:\n",
    "\n",
    "- the setup is done on both the holder and the verifier side, using a \"Common Reference String\"\n",
    "- these parameters are used instead of the ones created by the verifier in the case of LegoGroth16"
   ]
  },
  {
   "cell_type": "code",
   "execution_count": null,
   "id": "43d435dc-c634-47ac-b018-58fd4310998a",
   "metadata": {},
   "outputs": [],
   "source": [
    "import { BoundCheckBppParams, PresentationBuilder } from '@docknetwork/crypto-wasm-ts'\n",
    "\n",
    "const builder = new PresentationBuilder();\n",
    "builder.addCredential(credential, publicKey)\n",
    "builder.markAttributesRevealed(0, new Set<string>(['credentialSubject.name', 'credentialSubject.profession']));\n",
    "\n",
    "// The Holder creates his own parameters for the range proof\n",
    "const boundCheckBppParams1 = new BoundCheckBppParams(stringToBytes('Common Reference String')).decompress();\n",
    "builder.enforceBounds(0, 'credentialSubject.height', 170, 190, 'heightRangeCheck', boundCheckBppParams1);\n",
    "\n",
    "const presentation = builder.finalize();\n",
    "\n",
    "const bpProofForVerifier = presentation.toJSON()\n",
    "console.log(\"Data sent to the verifier:\", bpProofForVerifier);"
   ]
  },
  {
   "cell_type": "markdown",
   "id": "b1851758-99de-4739-bdbf-9d3f19971292",
   "metadata": {},
   "source": [
    "### Verifier\n",
    "\n",
    "For Bulletproofs++, the verifier needs to recreate the same setup parameters as the prover (holder).\n",
    "Only the \"Common Reference String\" must be the same.\n",
    "This string can be sent from the verifier at the beginning of the "
   ]
  },
  {
   "cell_type": "code",
   "execution_count": null,
   "id": "b07e3e40-da17-4c0d-ac31-66e3c750aaa5",
   "metadata": {},
   "outputs": [],
   "source": [
    "import { Presentation } from '@docknetwork/crypto-wasm-ts'\n",
    "\n",
    "// The verifier creates his own parameters for the range proof\n",
    "const boundCheckBppParams2 = new BoundCheckBppParams(stringToBytes('Common Reference String')).decompress();\n",
    "\n",
    "const predicateParams1 = new Map([['heightRangeCheck', boundCheckBppParams2]]);\n",
    "\n",
    "const recreatedPres = Presentation.fromJSON(bpProofForVerifier);\n",
    "console.log(\"Revealed attributes:\", recreatedPres.spec.credentials[0].revealedAttributes);\n",
    "console.log(\"Verification succeeded:\", recreatedPres.verify([publicKey], undefined, predicateParams1).verified);"
   ]
  },
  {
   "cell_type": "markdown",
   "id": "4d771f67-edfd-4032-90c8-e44b869578f3",
   "metadata": {},
   "source": [
    "### Exercises\n",
    "\n",
    "1. What happens if you try to create a proof which is not satisfied by the credential? Why?\n",
    "2. How does the verifier know the bounds check performed? Do they need this information? Why (not)?\n",
    "3. Change the proof to be on a different field of the credential\n",
    "4. Add a second range proof"
   ]
  },
  {
   "cell_type": "markdown",
   "id": "95981aeb-a28f-49df-bdb8-7d0f8115bdd4",
   "metadata": {},
   "source": [
    "---\n",
    "\n",
    "## 4. Discussion: are we anonymous and unlinkable now?\n",
    "\n",
    "1. What did we gain by using Zero Knowledge Proofs?\n",
    "2. What does the verifier learn about our credential?\n",
    "3. Does this make the proof anonymous? Why? Why not?\n",
    "4. Is the proof unlinkable? When is it? When isn't it?"
   ]
  },
  {
   "cell_type": "markdown",
   "id": "f07ddfce-08a7-40bf-8335-c5ccd2f5987b",
   "metadata": {},
   "source": [
    "---\n",
    "\n",
    "## 5. Coding exercise - Add an accumlator using a negative membership check\n",
    "\n",
    "Depending on the time, we propose to do the following exercise: \n",
    "implement a simple validity check of the credential using an accumulator.\n",
    "\n",
    "An accumulator is a cryptographic tool which allows to do (negative) membership proofs.\n",
    "Instead of simply listing a set of numbers, an accumulator compresses these numbers using cryptographic algorithms.\n",
    "Different accumulators exist with different trade-ofs:\n",
    "\n",
    "- the size of the accumulator, depending on the number of elements in it\n",
    "- whether it's possible to add and remove elements once the accumulator is set up\n",
    "- if you can prove the existence and/or the absence of an element in the accumulator\n",
    "\n",
    "Using the docknetwork/crypto library, you can add an inclusion or an absence proof using accumulators.\n",
    "In order to prove the validity of the credential, the following needs to be done:\n",
    "\n",
    "1. The issuer holds the accumulator which contains all revoked elements\n",
    "2. If a credential is revoked, its ID needs to be stored in the accumulator\n",
    "3. The holder creates an additional proof that their ID is not in the accumulator\n",
    "4. Now when the verifier checks the proof, they can be sure that the credential of the holder is correct\n",
    "\n",
    "Some questions:\n",
    "\n",
    "- What security did we imply with this setup?\n",
    "- What can go wrong?"
   ]
  },
  {
   "cell_type": "code",
   "execution_count": null,
   "id": "1bb667fd-4c9c-4cb5-92f4-251853f51f92",
   "metadata": {},
   "outputs": [],
   "source": []
  }
 ],
 "metadata": {
  "kernelspec": {
   "display_name": "TypeScript",
   "language": "typescript",
   "name": "tslab"
  },
  "language_info": {
   "codemirror_mode": {
    "mode": "typescript",
    "name": "javascript",
    "typescript": true
   },
   "file_extension": ".ts",
   "mimetype": "text/typescript",
   "name": "typescript",
   "version": "3.7.2"
  }
 },
 "nbformat": 4,
 "nbformat_minor": 5
}
