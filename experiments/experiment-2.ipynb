{
 "cells": [
  {
   "cell_type": "code",
   "execution_count": 6,
   "id": "d6f76f7f-7cbb-4597-9b4e-a98e30c8d9ee",
   "metadata": {},
   "outputs": [],
   "source": [
    "import {   bbsPlusGenerateSignatureParamsG1, bbsPlusGeneratePublicKeyG2, bbsPlusGenerateSigningKey, bbsPlusSignG1, bbsPlusVerifyG1, \n",
    "  bbsPlusInitializeProofOfKnowledgeOfSignature, bbsPlusGenProofOfKnowledgeOfSignature, bbsPlusVerifyProofOfKnowledgeOfSignature, \n",
    "  bbsPlusChallengeContributionFromProtocol, bbsPlusChallengeContributionFromProof, generateChallengeFromBytes, \n",
    "  initializeWasm\n",
    " } from 'crypto-wasm-new';\n",
    "await initializeWasm();"
   ]
  },
  {
   "cell_type": "code",
   "execution_count": 7,
   "id": "17dc34e3-491f-4245-9af4-23d3ca14fcd1",
   "metadata": {},
   "outputs": [],
   "source": [
    "const EID_DATA = {\n",
    "    name: \"Michael Jackson\",\n",
    "    age: 50,\n",
    "    profession: \"RSE\"\n",
    "}"
   ]
  },
  {
   "cell_type": "code",
   "execution_count": 8,
   "id": "f78ffa2e-b1be-41a0-a50f-3b19d94ce511",
   "metadata": {},
   "outputs": [],
   "source": [
    "const stringToBytes = (str: string) => Uint8Array.from(Buffer.from(str, \"utf-8\"));\n",
    "\n",
    "const messages = [\n",
    "    Uint8Array.from(Buffer.from(\"message1\", \"utf8\")),\n",
    "    Uint8Array.from(Buffer.from(\"message2\", \"utf8\")),\n",
    "    Uint8Array.from(Buffer.from(\"message3\", \"utf8\")),\n",
    "];\n",
    "const label = stringToBytes(\"test-params\");\n",
    "const messageCount = messages.length;\n",
    "\n",
    "// Generate params deterministically using a label\n",
    "const sigParams = bbsPlusGenerateSignatureParamsG1(messageCount, label);\n"
   ]
  },
  {
   "cell_type": "code",
   "execution_count": 9,
   "id": "b4aaf3d9-83ab-4e09-8ea9-8748891f8d4f",
   "metadata": {},
   "outputs": [],
   "source": [
    "// Generating KeyPair\n",
    "const sk = bbsPlusGenerateSigningKey();\n",
    "const pk = bbsPlusGeneratePublicKeyG2(sk, sigParams);"
   ]
  },
  {
   "cell_type": "code",
   "execution_count": 10,
   "id": "b84a702e-b7de-414d-bd55-aba08322d789",
   "metadata": {},
   "outputs": [
    {
     "name": "stdout",
     "output_type": "stream",
     "text": [
      "Signature in base 64: idlqlNE0xgfv50748LdK+9bYRxtP5CLvEhjFYn7BYbT0PsIvhomiHoV3/S/+FjVq0hlmthIc1r2PT6dVOpE17PL7T3MgMb0kLAQgdQep2Cdpe4DFukloOLulsgnkNDMpBe9QMZndqrS62pwtN6xiPA==\n"
     ]
    }
   ],
   "source": [
    "// Creating a signature\n",
    "const signature = bbsPlusSignG1(messages, sk, sigParams, true);\n",
    "console.log(`Signature in base 64: ${Buffer.from(signature).toString(\"base64\")}`);"
   ]
  },
  {
   "cell_type": "code",
   "execution_count": 11,
   "id": "9e5ed378-9832-487a-a7bd-3338c404ec2c",
   "metadata": {},
   "outputs": [
    {
     "name": "stdout",
     "output_type": "stream",
     "text": [
      "Signature verified ? {\"verified\":true}\n",
      "Proof as base64: gqQ1vrQKumDtRfRoUw2qFW9/AWNdxIro2p2CzOu3MTwz7bBTHNR0GQlGUstYEBTHsJF5YgQB+NnBzRBL9T47OI9m7LtZ7zJx+f5DIB1eiH3c9FwhX49gcYA3s9QUukkNj1H5NZjy/uKskELFxw0bJXky40sNxHx9BGMswlellcVaYv/mjiigGV1eRHZ0HR6Btocl4iKciTb+04UvTQMXEVd5Ct9j/ZoNR2B/WSTU0caHBQMSWs9zGQhdiQl724YvusWs6w6gyC2zSUjXl7c9gdf1hElQoGLCKR/qAuSS6A2wmI+fwRwrKMahZcTc7NZwX0fO+tLAWplKncZ9TjjSM5lmZrxm08ZqJNnf+36DQlCoya2BT0ibPQSgc9RiiEvMl3QNgWAU5WZhDWrzBTkIbQMAAAAAAAAAPu7o8o1BXayGQDN/0OdjcrPpxpXfxvm2dHOhKKnQM2ghb31c1F05tHlaFd3Jx1w5YyyXhovniwN53eeKu9okagqm/+MPdz60XnesTjsy6GiQ7hhoWJVbrgbRg9Gw2Y0/\n"
     ]
    }
   ],
   "source": [
    "//Verify the signature\n",
    "const isVerified = bbsPlusVerifyG1(messages, signature, pk, sigParams, true);\n",
    "const isVerifiedString = JSON.stringify(isVerified);\n",
    "console.log(`Signature verified ? ${isVerifiedString}`);\n",
    "\n",
    "// Derive a proof from the signature revealing the first message\n",
    "const revealed = new Set<number>();\n",
    "revealed.add(0);\n",
    "revealed.add(2);\n",
    "const revealedMsgs = new Map();\n",
    "revealedMsgs.set(0, messages[0]);\n",
    "revealedMsgs.set(2, messages[2]);\n",
    "\n",
    "const protocol = bbsPlusInitializeProofOfKnowledgeOfSignature(\n",
    "    signature,\n",
    "    sigParams,\n",
    "    messages,\n",
    "    new Map(),\n",
    "    revealed,\n",
    "    true\n",
    ");\n",
    "const challengeProver = generateChallengeFromBytes(\n",
    "    bbsPlusChallengeContributionFromProtocol(protocol, revealedMsgs, sigParams, true)\n",
    ");\n",
    "\n",
    "const proof = bbsPlusGenProofOfKnowledgeOfSignature(protocol, challengeProver);\n",
    "\n",
    "console.log(`Proof as base64: ${Buffer.from(proof).toString(\"base64\")}`)"
   ]
  },
  {
   "cell_type": "code",
   "execution_count": 14,
   "id": "97a1784e-e6b7-4b7b-98e8-4d5c63bd9f43",
   "metadata": {},
   "outputs": [
    {
     "name": "stdout",
     "output_type": "stream",
     "text": [
      "Proof Verified?: {\"verified\":true}\n"
     ]
    }
   ],
   "source": [
    "// Verify the created proof\n",
    "const challengeVerifier = generateChallengeFromBytes(\n",
    "    bbsPlusChallengeContributionFromProof(proof, revealedMsgs, sigParams, true)\n",
    ");\n",
    "const isProofVerified = bbsPlusVerifyProofOfKnowledgeOfSignature(\n",
    "    proof, revealedMsgs, challengeVerifier, pk, sigParams, true\n",
    ");\n",
    "const isProofVerifiedString = JSON.stringify(isProofVerified);\n",
    "console.log(`Proof Verified?: ${isProofVerifiedString}`);"
   ]
  },
  {
   "cell_type": "code",
   "execution_count": null,
   "id": "9eb9a357-9076-4da6-9011-2f047489a7ae",
   "metadata": {},
   "outputs": [],
   "source": []
  }
 ],
 "metadata": {
  "kernelspec": {
   "display_name": "TypeScript",
   "language": "typescript",
   "name": "tslab"
  },
  "language_info": {
   "codemirror_mode": {
    "mode": "typescript",
    "name": "javascript",
    "typescript": true
   },
   "file_extension": ".ts",
   "mimetype": "text/typescript",
   "name": "typescript",
   "version": "3.7.2"
  }
 },
 "nbformat": 4,
 "nbformat_minor": 5
}
