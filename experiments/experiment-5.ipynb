{
 "cells": [
  {
   "cell_type": "code",
   "execution_count": 1,
   "id": "36a73876-24f1-49cb-acf4-7df45e56fdcb",
   "metadata": {},
   "outputs": [],
   "source": [
    "import { initializeWasm } from '@docknetwork/crypto-wasm-ts'\n",
    "await initializeWasm();"
   ]
  },
  {
   "cell_type": "code",
   "execution_count": 2,
   "id": "49cad3fa-4c62-43f7-a821-106bcd0da00a",
   "metadata": {},
   "outputs": [],
   "source": [
    "// Generating a keypair once signature parameters are created.\n",
    "import { BBSKeypair, BBSSignatureParams, BBS_SIGNATURE_PARAMS_LABEL_BYTES } from '@docknetwork/crypto-wasm-ts';\n",
    "\n",
    "const stringToBytes = (str: string) => Uint8Array.from(Buffer.from(str, \"utf-8\"));\n",
    "\n",
    "const params = BBSSignatureParams.generate(100, BBS_SIGNATURE_PARAMS_LABEL_BYTES);\n",
    "const keypair = BBSKeypair.generate(params, stringToBytes('seed1'));\n",
    "const secretKey = keypair.secretKey;\n",
    "const publicKey = keypair.publicKey;"
   ]
  },
  {
   "cell_type": "code",
   "execution_count": 4,
   "id": "6ed2e625-3870-4d40-8ee0-cc554c363b0c",
   "metadata": {},
   "outputs": [
    {
     "name": "stdout",
     "output_type": "stream",
     "text": [
      "\u001b[33m1\u001b[39m\n"
     ]
    }
   ],
   "source": [
    "import { BoundCheckSnarkSetup, SetupParam } from '@docknetwork/crypto-wasm-ts';\n",
    "const provingKey = BoundCheckSnarkSetup();\n",
    "const snarkProvingKey = provingKey.decompress();\n",
    "const snarkVerifyingKey = provingKey.getVerifyingKeyUncompressed();"
   ]
  },
  {
   "cell_type": "code",
   "execution_count": 3,
   "id": "d12d0ae1-63a4-4b9e-8f5d-79f214282370",
   "metadata": {},
   "outputs": [
    {
     "name": "stdout",
     "output_type": "stream",
     "text": [
      "{ verified: \u001b[33mtrue\u001b[39m, error: \u001b[90mundefined\u001b[39m }\n"
     ]
    }
   ],
   "source": [
    "import { CredentialSchema, BBSCredentialBuilder, BBSCredential, SUBJECT_STR } from '@docknetwork/crypto-wasm-ts'\n",
    "\n",
    "const schema1 = CredentialSchema.essential();\n",
    "schema1.properties[SUBJECT_STR] = {\n",
    "    type: 'object',\n",
    "    properties: {\n",
    "        fname: { type: 'string' },\n",
    "        lname: { type: 'string' },\n",
    "        BMI: { type: 'number', minimum: 0, multipleOf: 0.01 },\n",
    "    }\n",
    "}\n",
    "\n",
    "const builder1 = new BBSCredentialBuilder();\n",
    "builder1.schema = new CredentialSchema(schema1);\n",
    "builder1.subject = {\n",
    "    fname: 'John',\n",
    "    lname: 'Smith',\n",
    "    BMI: 23.25,\n",
    "};\n",
    "\n",
    "const credential = builder1.sign(secretKey);\n",
    "credential.verify(publicKey)"
   ]
  },
  {
   "cell_type": "code",
   "execution_count": 5,
   "id": "43b4a8fe-f0bd-48ab-8e84-04a4c5eae7b0",
   "metadata": {},
   "outputs": [],
   "source": [
    "import { PresentationBuilder } from '@docknetwork/crypto-wasm-ts'\n",
    "const builder = new PresentationBuilder();\n",
    "builder.addCredential(credential, publicKey)\n",
    "builder.markAttributesRevealed(0, new Set<string>(['credentialSubject.fname', 'credentialSubject.lname']));\n",
    "builder.enforceBounds(0, 'credentialSubject.BMI', 10, 40, 'random', snarkProvingKey);\n",
    "\n",
    "const presentation = builder.finalize();"
   ]
  },
  {
   "cell_type": "code",
   "execution_count": 6,
   "id": "45372d1d-8c6d-4532-b1cb-9fde92dad5dc",
   "metadata": {
    "scrolled": true
   },
   "outputs": [
    {
     "name": "stdout",
     "output_type": "stream",
     "text": [
      "Presentation {\n",
      "  _version: \u001b[32m'0.9.0'\u001b[39m,\n",
      "  spec: PresentationSpecification {\n",
      "    credentials: [ \u001b[36m[Object]\u001b[39m ],\n",
      "    attributeEqualities: [],\n",
      "    boundedPseudonyms: {},\n",
      "    unboundedPseudonyms: {}\n",
      "  },\n",
      "  proof: CompositeProof {\n",
      "    value: Uint8Array(828) [\n",
      "        \u001b[33m2\u001b[39m,   \u001b[33m0\u001b[39m,   \u001b[33m0\u001b[39m,   \u001b[33m0\u001b[39m,   \u001b[33m0\u001b[39m,   \u001b[33m0\u001b[39m,   \u001b[33m0\u001b[39m,   \u001b[33m0\u001b[39m,  \u001b[33m11\u001b[39m, \u001b[33m148\u001b[39m, \u001b[33m185\u001b[39m, \u001b[33m249\u001b[39m,\n",
      "       \u001b[33m27\u001b[39m,  \u001b[33m97\u001b[39m,  \u001b[33m34\u001b[39m, \u001b[33m240\u001b[39m, \u001b[33m106\u001b[39m, \u001b[33m156\u001b[39m, \u001b[33m186\u001b[39m, \u001b[33m251\u001b[39m, \u001b[33m148\u001b[39m,  \u001b[33m40\u001b[39m, \u001b[33m127\u001b[39m, \u001b[33m237\u001b[39m,\n",
      "      \u001b[33m116\u001b[39m, \u001b[33m203\u001b[39m,  \u001b[33m26\u001b[39m, \u001b[33m182\u001b[39m, \u001b[33m134\u001b[39m, \u001b[33m103\u001b[39m,   \u001b[33m7\u001b[39m,  \u001b[33m30\u001b[39m, \u001b[33m102\u001b[39m, \u001b[33m170\u001b[39m, \u001b[33m243\u001b[39m, \u001b[33m185\u001b[39m,\n",
      "      \u001b[33m203\u001b[39m, \u001b[33m226\u001b[39m,  \u001b[33m10\u001b[39m, \u001b[33m161\u001b[39m, \u001b[33m190\u001b[39m, \u001b[33m135\u001b[39m,  \u001b[33m40\u001b[39m, \u001b[33m223\u001b[39m,  \u001b[33m32\u001b[39m,  \u001b[33m31\u001b[39m,  \u001b[33m20\u001b[39m,  \u001b[33m46\u001b[39m,\n",
      "       \u001b[33m29\u001b[39m, \u001b[33m111\u001b[39m, \u001b[33m213\u001b[39m,  \u001b[33m56\u001b[39m, \u001b[33m111\u001b[39m,  \u001b[33m17\u001b[39m,  \u001b[33m72\u001b[39m,  \u001b[33m13\u001b[39m,  \u001b[33m46\u001b[39m, \u001b[33m130\u001b[39m,  \u001b[33m17\u001b[39m, \u001b[33m189\u001b[39m,\n",
      "       \u001b[33m98\u001b[39m, \u001b[33m142\u001b[39m, \u001b[33m242\u001b[39m,  \u001b[33m20\u001b[39m,  \u001b[33m93\u001b[39m,  \u001b[33m93\u001b[39m, \u001b[33m138\u001b[39m, \u001b[33m131\u001b[39m,  \u001b[33m99\u001b[39m, \u001b[33m227\u001b[39m, \u001b[33m102\u001b[39m,  \u001b[33m17\u001b[39m,\n",
      "      \u001b[33m131\u001b[39m,  \u001b[33m36\u001b[39m, \u001b[33m232\u001b[39m, \u001b[33m201\u001b[39m, \u001b[33m252\u001b[39m, \u001b[33m253\u001b[39m,  \u001b[33m96\u001b[39m, \u001b[33m103\u001b[39m,  \u001b[33m58\u001b[39m,  \u001b[33m13\u001b[39m,  \u001b[33m33\u001b[39m,  \u001b[33m71\u001b[39m,\n",
      "      \u001b[33m201\u001b[39m, \u001b[33m172\u001b[39m,  \u001b[33m39\u001b[39m, \u001b[33m245\u001b[39m, \u001b[33m172\u001b[39m, \u001b[33m227\u001b[39m, \u001b[33m142\u001b[39m,  \u001b[33m36\u001b[39m,  \u001b[33m43\u001b[39m,  \u001b[33m70\u001b[39m, \u001b[33m127\u001b[39m, \u001b[33m251\u001b[39m,\n",
      "      \u001b[33m122\u001b[39m, \u001b[33m240\u001b[39m, \u001b[33m249\u001b[39m,   \u001b[33m1\u001b[39m,\n",
      "      ... 728 more items\n",
      "    ]\n",
      "  },\n",
      "  attributeCiphertexts: \u001b[90mundefined\u001b[39m,\n",
      "  blindedAttributeCiphertexts: \u001b[90mundefined\u001b[39m,\n",
      "  context: \u001b[90mundefined\u001b[39m,\n",
      "  nonce: \u001b[90mundefined\u001b[39m\n",
      "}\n"
     ]
    }
   ],
   "source": [
    "console.log(presentation)"
   ]
  },
  {
   "cell_type": "markdown",
   "id": "37d171dd-af44-4511-802c-57a92f6e663d",
   "metadata": {},
   "source": [
    "## sending data to Verifier\n",
    "data: \n",
    "1. Params to reveal\n",
    "2. Schema\n",
    "3. Proof\n",
    "4. requested range for the range proof\n",
    "\n",
    "All these info and more are stored in the \"presentation object\". Note that this object is a completely serializable JSON object."
   ]
  },
  {
   "cell_type": "code",
   "execution_count": 11,
   "id": "646af391-dc14-4808-9341-96844629159b",
   "metadata": {},
   "outputs": [
    {
     "name": "stdout",
     "output_type": "stream",
     "text": [
      "{\n",
      "  version: \u001b[32m'0.7.0'\u001b[39m,\n",
      "  schema: {\n",
      "    details: \u001b[32m'{\"jsonSchema\":{\"$schema\":\"http://json-schema.org/draft-07/schema#\",\"definitions\":{\"encryptableCompString\":{\"type\":\"string\"},\"encryptableString\":{\"type\":\"string\"}},\"properties\":{\"credentialSubject\":{\"properties\":{\"BMI\":{\"minimum\":0,\"multipleOf\":0.01,\"type\":\"number\"},\"fname\":{\"type\":\"string\"},\"lname\":{\"type\":\"string\"}},\"type\":\"object\"},\"proof\":{\"properties\":{\"type\":{\"type\":\"string\"}},\"type\":\"object\"}},\"type\":\"object\"},\"parsingOptions\":{\"defaultDecimalPlaces\":0,\"defaultMinimumDate\":-17592186044415,\"defaultMinimumInteger\":-4294967295,\"useDefaults\":false}}'\u001b[39m,\n",
      "    id: \u001b[32m'data:application/json;charset=utf-8,'\u001b[39m,\n",
      "    type: \u001b[32m'JsonSchemaValidator2018'\u001b[39m,\n",
      "    version: \u001b[32m'0.5.0'\u001b[39m\n",
      "  },\n",
      "  revealedAttributes: { credentialSubject: { fname: \u001b[32m'John'\u001b[39m, lname: \u001b[32m'Smith'\u001b[39m } },\n",
      "  bounds: { credentialSubject: { BMI: \u001b[36m[Array]\u001b[39m } },\n",
      "  sigType: \u001b[32m'Bls12381BBSSignatureDock2023'\u001b[39m\n",
      "}\n"
     ]
    }
   ],
   "source": [
    "const receivedObjectOnVerifierSide = presentation.toJSON()\n",
    "receivedObjectOnVerifierSide  // Assume this was serialized and sent across an API to the verifier.\n",
    "//presentation.spec.credentials[0]"
   ]
  },
  {
   "cell_type": "code",
   "execution_count": 8,
   "id": "60918031-9dcb-4edc-9d87-8781fb0e9ab7",
   "metadata": {},
   "outputs": [
    {
     "name": "stdout",
     "output_type": "stream",
     "text": [
      "{ verified: \u001b[33mtrue\u001b[39m, error: \u001b[90mundefined\u001b[39m }\n"
     ]
    }
   ],
   "source": [
    "import { Presentation } from '@docknetwork/crypto-wasm-ts'\n",
    "\n",
    "const predicateParams = new Map([['random', snarkVerifyingKey]]);\n",
    "\n",
    "const recreatedPres = Presentation.fromJSON(receivedObjectOnVerifierSide)\n",
    "recreatedPres.verify([publicKey], undefined, predicateParams, undefined, undefined, undefined)"
   ]
  },
  {
   "cell_type": "code",
   "execution_count": null,
   "id": "620e2993-e2e2-4a3f-a4fc-519d229b1726",
   "metadata": {},
   "outputs": [],
   "source": []
  },
  {
   "cell_type": "code",
   "execution_count": null,
   "id": "8eb4367d-fb71-4c22-9547-1a69bd651829",
   "metadata": {},
   "outputs": [],
   "source": []
  }
 ],
 "metadata": {
  "kernelspec": {
   "display_name": "TypeScript",
   "language": "typescript",
   "name": "tslab"
  },
  "language_info": {
   "codemirror_mode": {
    "mode": "typescript",
    "name": "javascript",
    "typescript": true
   },
   "file_extension": ".ts",
   "mimetype": "text/typescript",
   "name": "typescript",
   "version": "3.7.2"
  }
 },
 "nbformat": 4,
 "nbformat_minor": 5
}
