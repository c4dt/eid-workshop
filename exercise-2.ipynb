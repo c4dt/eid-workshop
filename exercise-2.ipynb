{
 "cells": [
  {
   "cell_type": "markdown",
   "id": "2ff09d13-7d4e-412a-9902-9381b6c079db",
   "metadata": {},
   "source": [
    "# Exercise 2 - Unlinkable proofs using BBS+\n",
    "\n",
    "In this exercise, we will explore the BBS cryptographic scheme, and see how it differs from a classic RSA scheme as explored in the previous exercise.\n",
    "\n",
    "For this, we will use the [docknetwork crypto library](https://github.com/docknetwork/crypto). \n",
    "The authors of this crypto library are from Dock.io, which is one of the leading startups in the Crypto E-ID space.  \n",
    "They open-source many fundamental libraries including the one we're using it today.\n",
    "\n",
    "Dock.io have listed 16 employess published on their website and are originated in Switzerland, but are now USA based.\n",
    "They got a 20 million USD fund in a series A with the Web3 foundation as lead investor.\n",
    "\n",
    "## Sections\n",
    "\n",
    "1. Credential - Setting up a corresponding JSON Schema\n",
    "2. Issuer - Setting up and creating a BBS+ signature\n",
    "3. Holder - Creating a proof\n",
    "4. Verifier - Verifying the proof is valid\n",
    "5. Discussion - Unlinkability achieved?\n",
    "6. Coding exercise - Simulate an issuer-holder-verifier setup"
   ]
  },
  {
   "cell_type": "markdown",
   "id": "68984925-7842-47b0-aab2-990d409b1f21",
   "metadata": {},
   "source": [
    "---\n",
    "## 1. Credential - Setting up a corresponding JSON Schema\n",
    "\n",
    "The credential below has a corresponding JSON schema.\n",
    "JSON Schema is the standard for defining the structure/ schema of a JSON object.\n",
    "It's typically used to define a contract for APIs and data communication (that use JSON).  \n",
    "One known standard that builds on JSON schema is the Open API Specification (OAS - previously known as swagger). \n",
    "OAS -in its latest versions- uses a superset of the latest published [JSON schema](https://json-schema.org/specification) (2020-12).\n",
    "\n",
    "Here the JSON schema is used by the BBS+ library to correctly encode the different fields in the credential.\n",
    "This will allow us in Exercise 3 to create zero knowledge proofs on this credential."
   ]
  },
  {
   "cell_type": "code",
   "execution_count": null,
   "id": "1b40920b-0555-4178-badc-87a136bfd742",
   "metadata": {},
   "outputs": [],
   "source": [
    "// We start by declaring our most important asset which is the E-ID Verifiable Credential we will be working with.\n",
    "\n",
    "const E_ID_DATA = {\n",
    "    name: \"Jack Sparrow\",\n",
    "    timeOfBirth: new Date(\"1993-08-01T00:00:00\").getTime(),\n",
    "    profession: \"IT Manager\"\n",
    "}\n",
    "\n",
    "// For this advanced library, we will also need to specify the schema of Credential we're working with.\n",
    "// Specifying the schema will be useful later to get the correct encoding of each field.\n",
    "const E_ID_SCHEMA = {\n",
    "    type: 'object',\n",
    "    properties: {\n",
    "        name: { type: 'string' },\n",
    "        profession: { type: 'string' },\n",
    "        timeOfBirth: { type: 'integer', minimum: 0},\n",
    "    }\n",
    "}"
   ]
  },
  {
   "cell_type": "markdown",
   "id": "6cf4fcc3-9077-4870-be78-b39be932d084",
   "metadata": {},
   "source": [
    "### Questions\n",
    "\n",
    "1. What is the format for `timeOfBirth`? And what is the limitations using that format? What else could the format be?\n",
    "2. What other fields could be in the credential?\n"
   ]
  },
  {
   "cell_type": "markdown",
   "id": "b28ded2e-8a26-43e3-b80b-1b21b2b3b56d",
   "metadata": {},
   "source": [
    "---\n",
    "## 2. Issuer - Setting up and creating a BBS+ signature\n"
   ]
  },
  {
   "cell_type": "code",
   "execution_count": null,
   "id": "fbca3fde-77f0-4956-a24d-82806c96c120",
   "metadata": {},
   "outputs": [],
   "source": [
    "import { initializeWasm } from '@docknetwork/crypto-wasm-ts'\n",
    "await initializeWasm();\n",
    "\n",
    "import { BBSKeypair, BBSSignatureParams, BBS_SIGNATURE_PARAMS_LABEL_BYTES,\n",
    "        CredentialSchema, BBSCredentialBuilder, BBSCredential, SUBJECT_STR } from '@docknetwork/crypto-wasm-ts'\n",
    "\n",
    "const stringToBytes = (str: string) => Uint8Array.from(Buffer.from(str, \"utf-8\"));\n",
    "\n",
    "// Generating a keypair once signature parameters are created.\n",
    "const params = BBSSignatureParams.generate(100, BBS_SIGNATURE_PARAMS_LABEL_BYTES);\n",
    "const keypair = BBSKeypair.generate(params, stringToBytes('seed1'));\n",
    "\n",
    "const secretKey = keypair.secretKey;\n",
    "const publicKey = keypair.publicKey;\n",
    "\n",
    "// Issuing a credential based on the E-ID data based on the specified schema\n",
    "\n",
    "// sets a default structure for a credential with the proof \n",
    "let credential_schema = CredentialSchema.essential();\n",
    "// Puts our data schema inside the credential schema\n",
    "credential_schema.properties[SUBJECT_STR] = E_ID_SCHEMA\n",
    "\n",
    "// Populate the credential with data\n",
    "const builder = new BBSCredentialBuilder();\n",
    "builder.schema = new CredentialSchema(credential_schema);\n",
    "builder.subject = E_ID_DATA\n",
    "\n",
    "// sign the credential\n",
    "const verifiableCredential = builder.sign(secretKey);\n",
    "\n",
    "// Now, the credential is sent to the holder\n",
    "const credentialToSendToHolder = verifiableCredential.toJSON()\n",
    "console.log(\"Credential sent to the holder:\", credentialToSendToHolder)"
   ]
  },
  {
   "cell_type": "markdown",
   "id": "0684b4ed-7bb5-401f-8feb-3eb1f6b10869",
   "metadata": {},
   "source": [
    "### Questions\n",
    "\n",
    "1. What information do you find in the credential which is sent to the holder? What keywords / algorithms do you recognize?\n",
    "2. How big in bytes is the proof sent to the holder?"
   ]
  },
  {
   "cell_type": "markdown",
   "id": "af7906c2-e3a8-4218-8da2-392811219a1b",
   "metadata": {},
   "source": [
    "---\n",
    "## 3. Holder - Creating a proof\n"
   ]
  },
  {
   "cell_type": "code",
   "execution_count": null,
   "id": "72ec8214-205e-4054-b401-45f1189adc5e",
   "metadata": {},
   "outputs": [],
   "source": [
    "import { PresentationBuilder } from '@docknetwork/crypto-wasm-ts'\n",
    "\n",
    "// The holder loads the credential back from JSON\n",
    "const receivedCredential = BBSCredential.fromJSON(credentialToSendToHolder)\n",
    "\n",
    "// They verify that the credential is valid:\n",
    "console.log(\"It is a valid credential:\", verifiableCredential.verify(publicKey).verified)\n",
    "\n",
    "// The holder wants to prove their name and profession, but keep their birthdate secret\n",
    "const presentationBuilder = new PresentationBuilder();\n",
    "presentationBuilder.addCredential(receivedCredential, publicKey)\n",
    "presentationBuilder.markAttributesRevealed(0, new Set<string>(['credentialSubject.name', 'credentialSubject.profession']));\n",
    "\n",
    "const presentation = presentationBuilder.finalize();\n",
    "const bbsProofForVerifier = presentation.toJSON()\n",
    "console.log(\"The proof which is sent to the verifier:\", bbsProofForVerifier);"
   ]
  },
  {
   "cell_type": "markdown",
   "id": "7cec6a8b-3ca9-4d24-89e2-f9e53a5750d4",
   "metadata": {},
   "source": [
    "### Holder -> Verifier\n",
    "\n",
    "The following data is sent to the verifier\n",
    "1. selected data to be revealed\n",
    "2. Schema of the credential\n",
    "3. Proof of validity\n",
    "\n",
    "All this information and more is stored in the \"presentation object\". Note that this object is a completely serializable JSON object.\n"
   ]
  },
  {
   "cell_type": "markdown",
   "id": "4094c90b-dcc4-4097-adc3-4057f915d746",
   "metadata": {},
   "source": [
    "### Questions\n",
    "\n",
    "1. Explore the bbsProofVerifier to see what information is sent to the verifier\n",
    "2. Is there information which could be used to de-anonymize the holder?\n",
    "3. How long is the proof now? Why is it bigger than the proof sent by the issuer?"
   ]
  },
  {
   "cell_type": "markdown",
   "id": "9477b67f-2427-47f2-92cb-096ba1886af5",
   "metadata": {},
   "source": [
    "---\n",
    "## 4. Verifier - Verifying the proof is valid\n"
   ]
  },
  {
   "cell_type": "code",
   "execution_count": null,
   "id": "22caae45-228a-4fdb-ab92-705f112ed7b1",
   "metadata": {},
   "outputs": [],
   "source": [
    "// Verification of the data the verifier received is as easy as two lines of code!\n",
    "import { Presentation } from '@docknetwork/crypto-wasm-ts'\n",
    "\n",
    "const recreatedPres = Presentation.fromJSON(bbsProofForVerifier)\n",
    "console.log(\"The proof is valid:\", recreatedPres.verify([publicKey]).verified);\n",
    "console.log(\"The shared data is:\", recreatedPres.spec.credentials[0].revealedAttributes);"
   ]
  },
  {
   "cell_type": "markdown",
   "id": "a41c5279-7ae9-466f-b32b-5a4ca35bcd17",
   "metadata": {},
   "source": [
    "### Questions\n",
    "\n",
    "1. Can you create a proof which cannot be validated? What did you change?\n",
    "2. Reveal another element of the credential - what did you need to change?\n",
    "3. How does the verifier know the credentials to reveal?"
   ]
  },
  {
   "cell_type": "markdown",
   "id": "6fb5113c-f18f-4416-9038-020438076e17",
   "metadata": {},
   "source": [
    "---\n",
    "## 5. Discussion - Unlinkability achieved?\n",
    "\n",
    "We can know that by checking for two conditions\n",
    "\n",
    "1. Is there a signature or a cryptopgraphic data that is shared and could used to identify the credential holder?\n",
    "2. Is there a part of data hashed or not that was included in the presented data that could be used to identify the credential holder?"
   ]
  },
  {
   "cell_type": "code",
   "execution_count": null,
   "id": "32686a7d-a075-4682-9470-a008db2f4ece",
   "metadata": {},
   "outputs": [],
   "source": [
    "// Run this a couple of times to see how it changes\n",
    "console.log(\"One finalized proof:\", presentationBuilder.finalize()[\"proof\"].hex)"
   ]
  },
  {
   "cell_type": "code",
   "execution_count": null,
   "id": "7d3c4b80-4889-483e-aba9-f7670c7c2ced",
   "metadata": {},
   "outputs": [],
   "source": [
    "// To answer the first point, we look at the presented proof \n",
    "const proof1 = presentationBuilder.finalize()[\"proof\"].hex\n",
    "const proof2 = presentationBuilder.finalize()[\"proof\"].hex\n",
    "\n",
    "// By generating a proof multiple times, and comparing the proof in each of them,\n",
    "// we see that they're always different making it difficult (Impossible?!) to correlate the different proofs.\n",
    "console.log(\"Two created proofs are the same:\", proof1 === proof2);\n",
    "\n",
    "// This is a weak proof! In the paper, there's a real mathematical proof to \n",
    "// ensure that different generated proofs are unlinkable "
   ]
  },
  {
   "cell_type": "code",
   "execution_count": null,
   "id": "d9cd2d9a-283e-4095-b71c-22d78d60fc69",
   "metadata": {},
   "outputs": [],
   "source": [
    "// To answer the second point, we look at the data shared with the verifier.\n",
    "// As opposed to the previous exercise where we had to share all the data all the time\n",
    "// even though possibly in a hashed format, in this case, we only share the selected data.\n",
    "\n",
    "console.log(\"Revealed attributes:\", presentation.spec.credentials[1][\"revealedAttributes\"]);\n",
    "\n",
    "// In this scenario, we see that only the data needed to be revealed is revealed resulting in unlinkability."
   ]
  },
  {
   "cell_type": "markdown",
   "id": "900c23d6-c5ce-4042-a9cc-a121792f67b3",
   "metadata": {},
   "source": [
    "---\n",
    "\n",
    "## 6. Coding exercise - Simulate an issuer-holder-verifier setup\n",
    "\n",
    "Divide into two groups of three teams (issuers (min:1), holders(min:2), verifiers(min:1))\n",
    "and use a chat tool to communicate. "
   ]
  },
  {
   "cell_type": "code",
   "execution_count": null,
   "id": "ee626472-3d4b-412b-a28a-702dfdd92aa0",
   "metadata": {},
   "outputs": [],
   "source": []
  }
 ],
 "metadata": {
  "kernelspec": {
   "display_name": "TypeScript",
   "language": "typescript",
   "name": "tslab"
  },
  "language_info": {
   "codemirror_mode": {
    "mode": "typescript",
    "name": "javascript",
    "typescript": true
   },
   "file_extension": ".ts",
   "mimetype": "text/typescript",
   "name": "typescript",
   "version": "3.7.2"
  }
 },
 "nbformat": 4,
 "nbformat_minor": 5
}
