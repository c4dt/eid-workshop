{
 "cells": [
  {
   "cell_type": "code",
   "execution_count": null,
   "id": "95b438e7-3512-4b47-b302-2a890367cf2c",
   "metadata": {},
   "outputs": [],
   "source": [
    "console.log(\"Hello, world!\")"
   ]
  },
  {
   "cell_type": "markdown",
   "id": "5886a8af-84aa-4f0c-884d-e385c57e50bd",
   "metadata": {},
   "source": [
    "This tutorial goes through a couple of examples that show the evolution of E-ID solutions.\n",
    "\n",
    "We will go through the following examples \n",
    "\n",
    "1. Typical message signing without privacy\n",
    "2. Adding Selective Disclosure\n",
    "3. Adding Zero-Knowledge proofs\n",
    "4. Adding Unlinkability"
   ]
  },
  {
   "cell_type": "code",
   "execution_count": null,
   "id": "dc868155-4653-4744-84f7-b53956c7ff1d",
   "metadata": {},
   "outputs": [],
   "source": [
    "// We start by creating a typical E-ID object that we will use through out this tutorial\n",
    "\n",
    "const EID_DATA = {\n",
    "    name: \"Ahmed\",\n",
    "    age: \"22\",\n",
    "    profession: \"RSE\"\n",
    "}"
   ]
  },
  {
   "cell_type": "markdown",
   "id": "eaf6690f-08d2-411e-846f-29e2c342d0f1",
   "metadata": {},
   "source": [
    "## A typical message signature in today's world"
   ]
  },
  {
   "cell_type": "code",
   "execution_count": null,
   "id": "232d20ff-7165-42ad-a528-8bfd2dbf3f8a",
   "metadata": {},
   "outputs": [],
   "source": [
    "// Sender \n",
    "import * as crypto from 'crypto';\n",
    "\n",
    "// Creating Key Pair\n",
    "const { publicKey, privateKey } = crypto.generateKeyPairSync('rsa', {\n",
    "    modulusLength: 4096,\n",
    "    publicKeyEncoding: {\n",
    "      type: 'spki',   \n",
    "\n",
    "      format: 'pem'\n",
    "    },\n",
    "    privateKeyEncoding: {\n",
    "      type: 'pkcs8',\n",
    "      format: 'pem',\n",
    "    }\n",
    "  });\n",
    "\n",
    "const message = JSON.stringify(EID_DATA)\n",
    "\n",
    "// sign the secret data \n",
    "const signer = crypto.createSign('SHA256');\n",
    "signer.update(message);\n",
    "const signature = signer.sign(privateKey, 'base64')"
   ]
  },
  {
   "cell_type": "markdown",
   "id": "2dc1786e-0997-42fd-aa51-9c1a1ccd470e",
   "metadata": {},
   "source": [
    "Holder maintains a single signature at all times.  \n",
    "Everytime it is presented, it's the same!"
   ]
  },
  {
   "cell_type": "code",
   "execution_count": null,
   "id": "bf3ded1e-cf5a-4f11-9bf6-b99c97ae711f",
   "metadata": {},
   "outputs": [],
   "source": [
    "// Receiver - receives message, signature, and publicKey\n",
    "\n",
    "let verifier = crypto.createVerify('SHA256');\n",
    "verifier.update(message)\n",
    "console.log(verifier.verify(publicKey, signature, 'base64'))\n",
    "\n",
    "// try another false message\n",
    "verifier = crypto.createVerify('SHA256');\n",
    "verifier.update(\"Another random message!\")\n",
    "console.log(verifier.verify(publicKey, signature, 'base64'))"
   ]
  },
  {
   "cell_type": "markdown",
   "id": "da89b0c6-62a1-497e-aac1-87154125b471",
   "metadata": {},
   "source": [
    "Right now, we need to send all of the EID_DATA content to be able to verify it. \n",
    "\n",
    "What if we want to send just the name, and verify that? \n",
    "\n",
    "RSA signatures are holistic; you either verify the entire signed message or nothing at all.\n",
    "\n",
    "To do this, an alternative method should we used. In the following sections we will use a modern crypto scheme called BBS+"
   ]
  },
  {
   "cell_type": "markdown",
   "id": "e2faa3c5-b21d-42d5-b106-2461c53d65c2",
   "metadata": {},
   "source": [
    "# Now with Selective Disclosure"
   ]
  },
  {
   "cell_type": "markdown",
   "id": "deb55c9f-bd8c-4bef-b105-a41a2d52d8cd",
   "metadata": {},
   "source": [
    "# Now with BBS+"
   ]
  },
  {
   "cell_type": "code",
   "execution_count": null,
   "id": "a41c2a74-4f6c-42bd-bdf9-2120958d5225",
   "metadata": {},
   "outputs": [],
   "source": [
    "import { BBS } from './src/bbs';"
   ]
  },
  {
   "cell_type": "code",
   "execution_count": null,
   "id": "c8ec2696-ad33-44f5-a7c3-9c66f3b0019f",
   "metadata": {},
   "outputs": [],
   "source": [
    "const bbs = new BBS();\n",
    "\n",
    "// generate key pair\n",
    "const privateKey = bbs.KeyGen(crypto.randomBytes(32));\n",
    "const publicKey = bbs.SkToPk(privateKey);"
   ]
  },
  {
   "cell_type": "code",
   "execution_count": null,
   "id": "a7e5eb9c-6328-4c0b-8a58-3105d24aed64",
   "metadata": {},
   "outputs": [],
   "source": [
    "// For the issuer\n",
    "\n",
    "// preparing the data\n",
    "const messagesToSign = Object.values(EID_DATA)\n",
    "\n",
    "// we hash the messages (One-way process)\n",
    "let hashedMessages = messagesToSign.map(message => bbs.MapMessageToScalarAsHash(Buffer.from(message)));\n",
    "\n",
    "// signing the thing\n",
    "const generators = await bbs.create_generators(messagesToSign.length);\n",
    "const signature = bbs.Sign(privateKey, publicKey, Buffer.from(\"HEADER\", \"utf-8\"), hashedMessages, generators)\n",
    "\n",
    "// let's verify these hashes before we send things out \n",
    "bbs.Verify(publicKey, signature, Buffer.from(\"HEADER\", \"utf-8\"), hashedMessages, generators);\n",
    "\n",
    "// Issuer sends messagesToSign, signature, and hashedMessages to Holder"
   ]
  },
  {
   "cell_type": "code",
   "execution_count": null,
   "id": "4eb16fad-7190-4cf1-b95a-bb753ac2a29a",
   "metadata": {},
   "outputs": [],
   "source": [
    "signature"
   ]
  },
  {
   "cell_type": "markdown",
   "id": "99f00e45-2e12-4059-90e2-f36507fac6bb",
   "metadata": {},
   "source": [
    "Both the EID_DATA and signature are transmitted to the EID holder.\n",
    "\n",
    "Then, we assume the holder/ owner of the EID wants to only share name, and profession with a certain entity. \n",
    "\n",
    "## Holder"
   ]
  },
  {
   "cell_type": "code",
   "execution_count": null,
   "id": "0c2c63ee-1864-4973-883b-7851e5040823",
   "metadata": {},
   "outputs": [],
   "source": [
    "\n",
    "// holder determines that they want to disclose only the first and last messages (name, profession)\n",
    "const IndexesOfFieldsToDisclose = [0,2]\n",
    "\n",
    "// const HolderGenerators = await bbs.create_generators(messagesToSign.length);\n",
    "\n",
    "// holder generates a proof\n",
    "const proof = bbs.ProofGen(\n",
    "    publicKey, signature, \n",
    "    Buffer.from(\"HEADER\", \"utf-8\"), Buffer.from(\"PRESENTATION HEADER\", \"utf-8\"),\n",
    "    hashedMessages, generators, IndexesOfFieldsToDisclose\n",
    ")\n",
    "const MessagesToDisclose = messagesToSign.filter((val, i) => {return IndexesOfFieldsToDisclose.includes(i)})\n",
    "\n",
    "MessagesToDisclose"
   ]
  },
  {
   "cell_type": "code",
   "execution_count": null,
   "id": "c86ad52f-01b1-40fe-a554-b50b97404ea5",
   "metadata": {},
   "outputs": [],
   "source": [
    "// Verifier - received publicKey, proof, disclosed data, disclosed data indexes, all hashed messages\n",
    "\n",
    "const verifierGenerators = await bbs.create_generators(messagesToSign.length);\n",
    "let verifierHashedMessages = MessagesToDisclose.map(message => bbs.MapMessageToScalarAsHash(Buffer.from(message)));\n",
    "\n",
    "bbs.ProofVerify(\n",
    "    publicKey, proof,\n",
    "    Buffer.from(\"HEADER\", \"utf-8\"), Buffer.from(\"PRESENTATION HEADER\", \"utf-8\"),\n",
    "    verifierHashedMessages, verifierGenerators, IndexesOfFieldsToDisclose\n",
    ");\n",
    "\n",
    "MessagesToDisclose"
   ]
  },
  {
   "cell_type": "code",
   "execution_count": null,
   "id": "2bd175fc-f4d8-48d1-9e0f-91085eec85fe",
   "metadata": {},
   "outputs": [],
   "source": [
    "// Testing with fake data\n",
    "const fakeMessages = ['Ahmed', 'CEO']\n",
    "\n",
    "const verifierGenerators = await bbs.create_generators(messagesToSign.length);\n",
    "\n",
    "// we use fakeMessages instead of MessagesToDisclose here\n",
    "let verifierHashedMessages = fakeMessages.map(message => bbs.MapMessageToScalarAsHash(Buffer.from(message)));\n",
    "\n",
    "bbs.ProofVerify(\n",
    "    publicKey, proof,\n",
    "    Buffer.from(\"HEADER\", \"utf-8\"), Buffer.from(\"PRESENTATION HEADER\", \"utf-8\"),\n",
    "    verifierHashedMessages, verifierGenerators, IndexesOfFieldsToDisclose\n",
    ");\n",
    "\n",
    "MessagesToDisclose"
   ]
  },
  {
   "cell_type": "code",
   "execution_count": null,
   "id": "c3724b65-e13d-491f-9961-46038f185838",
   "metadata": {},
   "outputs": [],
   "source": [
    "// Unlinkability \n",
    "\n",
    "const customGenerators = await bbs.create_generators(messagesToSign.length);\n",
    "\n",
    "const proof1 = bbs.ProofGen(\n",
    "    publicKey, signature, \n",
    "    Buffer.from(\"HEADER\", \"utf-8\"), Buffer.from(\"PRESENTATION HEADER\", \"utf-8\"),\n",
    "    hashedMessages, customGenerators, IndexesOfFieldsToDisclose\n",
    ")\n",
    "\n",
    "const proof2 = bbs.ProofGen(\n",
    "    publicKey, signature, \n",
    "    Buffer.from(\"HEADER\", \"utf-8\"), Buffer.from(\"PRESENTATION HEADER\", \"utf-8\"),\n",
    "    hashedMessages, customGenerators, IndexesOfFieldsToDisclose\n",
    ")\n",
    "\n",
    "proof1 == proof2"
   ]
  },
  {
   "cell_type": "code",
   "execution_count": null,
   "id": "c4c24ba1-5324-44a3-8eeb-b966611f378d",
   "metadata": {},
   "outputs": [],
   "source": [
    "new Buffer(proof2).toString(\"hex\")"
   ]
  },
  {
   "cell_type": "code",
   "execution_count": null,
   "id": "2dece3e3-04cd-4c71-9c3e-756e900fa24d",
   "metadata": {},
   "outputs": [],
   "source": [
    "new Buffer(proof1).toString(\"hex\")"
   ]
  }
 ],
 "metadata": {
  "kernelspec": {
   "display_name": "TypeScript",
   "language": "typescript",
   "name": "tslab"
  },
  "language_info": {
   "codemirror_mode": {
    "mode": "typescript",
    "name": "javascript",
    "typescript": true
   },
   "file_extension": ".ts",
   "mimetype": "text/typescript",
   "name": "typescript",
   "version": "3.7.2"
  }
 },
 "nbformat": 4,
 "nbformat_minor": 5
}
