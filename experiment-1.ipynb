{
 "cells": [
  {
   "cell_type": "code",
   "execution_count": 4,
   "id": "95b438e7-3512-4b47-b302-2a890367cf2c",
   "metadata": {},
   "outputs": [
    {
     "name": "stdout",
     "output_type": "stream",
     "text": [
      "Hello, world!\n"
     ]
    }
   ],
   "source": [
    "console.log(\"Hello, world!\")"
   ]
  },
  {
   "cell_type": "markdown",
   "id": "5886a8af-84aa-4f0c-884d-e385c57e50bd",
   "metadata": {},
   "source": [
    "This tutorial goes through a couple of examples that show the evolution of E-ID solutions.\n",
    "\n",
    "We will go through the following examples \n",
    "\n",
    "1. Typical message signing without privacy\n",
    "2. Adding Selective Disclosure\n",
    "3. Adding Zero-Knowledge proofs\n",
    "4. Adding Unlinkability"
   ]
  },
  {
   "cell_type": "code",
   "execution_count": 5,
   "id": "dc868155-4653-4744-84f7-b53956c7ff1d",
   "metadata": {},
   "outputs": [],
   "source": [
    "// We start by creating a typical E-ID object that we will use through out this tutorial\n",
    "\n",
    "const EID_DATA = {\n",
    "    name: \"Ahmed\",\n",
    "    age: \"22\",\n",
    "    profession: \"RSE\"\n",
    "}"
   ]
  },
  {
   "cell_type": "markdown",
   "id": "eaf6690f-08d2-411e-846f-29e2c342d0f1",
   "metadata": {},
   "source": [
    "## A typical message signature in today's world"
   ]
  },
  {
   "cell_type": "code",
   "execution_count": 7,
   "id": "232d20ff-7165-42ad-a528-8bfd2dbf3f8a",
   "metadata": {},
   "outputs": [],
   "source": [
    "// Sender \n",
    "import * as crypto from 'crypto';\n",
    "\n",
    "// Creating Key Pair\n",
    "const { publicKey, privateKey } = crypto.generateKeyPairSync('rsa', {\n",
    "    modulusLength: 4096,\n",
    "    publicKeyEncoding: {\n",
    "      type: 'spki',   \n",
    "\n",
    "      format: 'pem'\n",
    "    },\n",
    "    privateKeyEncoding: {\n",
    "      type: 'pkcs8',\n",
    "      format: 'pem',\n",
    "    }\n",
    "  });\n",
    "\n",
    "const message = JSON.stringify(EID_DATA)\n",
    "\n",
    "// sign the secret data \n",
    "const signer = crypto.createSign('SHA256');\n",
    "signer.update(message);\n",
    "const signature = signer.sign(privateKey, 'base64')"
   ]
  },
  {
   "cell_type": "markdown",
   "id": "2dc1786e-0997-42fd-aa51-9c1a1ccd470e",
   "metadata": {},
   "source": [
    "Holder maintains a single signature at all times.  \n",
    "Everytime it is presented, it's the same!"
   ]
  },
  {
   "cell_type": "code",
   "execution_count": 8,
   "id": "bf3ded1e-cf5a-4f11-9bf6-b99c97ae711f",
   "metadata": {},
   "outputs": [
    {
     "name": "stdout",
     "output_type": "stream",
     "text": [
      "\u001b[33mtrue\u001b[39m\n",
      "\u001b[33mfalse\u001b[39m\n"
     ]
    }
   ],
   "source": [
    "// Receiver - receives message, signature, and publicKey\n",
    "\n",
    "let verifier = crypto.createVerify('SHA256');\n",
    "verifier.update(message)\n",
    "console.log(verifier.verify(publicKey, signature, 'base64'))\n",
    "\n",
    "// try another false message\n",
    "verifier = crypto.createVerify('SHA256');\n",
    "verifier.update(\"Another random message!\")\n",
    "console.log(verifier.verify(publicKey, signature, 'base64'))"
   ]
  },
  {
   "cell_type": "markdown",
   "id": "da89b0c6-62a1-497e-aac1-87154125b471",
   "metadata": {},
   "source": [
    "Right now, we need to send all of the EID_DATA content to be able to verify it. \n",
    "\n",
    "What if we want to send just the name, and verify that? \n",
    "\n",
    "RSA signatures are holistic; you either verify the entire signed message or nothing at all.\n",
    "\n",
    "To do this, an alternative method should we used. In the following sections we will use a modern crypto scheme called BBS+"
   ]
  },
  {
   "cell_type": "code",
   "execution_count": 9,
   "id": "a41c2a74-4f6c-42bd-bdf9-2120958d5225",
   "metadata": {},
   "outputs": [],
   "source": [
    "import { BBS } from './src/bbs';"
   ]
  },
  {
   "cell_type": "code",
   "execution_count": 10,
   "id": "c8ec2696-ad33-44f5-a7c3-9c66f3b0019f",
   "metadata": {},
   "outputs": [],
   "source": [
    "const bbs = new BBS();\n",
    "\n",
    "// generate key pair\n",
    "const privateKey = bbs.KeyGen(crypto.randomBytes(32));\n",
    "const publicKey = bbs.SkToPk(privateKey);"
   ]
  },
  {
   "cell_type": "code",
   "execution_count": 11,
   "id": "a7e5eb9c-6328-4c0b-8a58-3105d24aed64",
   "metadata": {},
   "outputs": [],
   "source": [
    "\n",
    "// preparing the data\n",
    "const messagesToSign = Object.values(EID_DATA)\n",
    "\n",
    "// we hash the messages (One-way process)\n",
    "let hashedMessages = messagesToSign.map(message => bbs.MapMessageToScalarAsHash(Buffer.from(message)));\n",
    "\n",
    "// signing the thing\n",
    "const generators = await bbs.create_generators(messagesToSign.length);\n",
    "const signature = bbs.Sign(privateKey, publicKey, Buffer.from(\"HEADER\", \"utf-8\"), hashedMessages, generators)\n",
    "\n",
    "// let's verify these hashes before we send things out \n",
    "bbs.Verify(publicKey, signature, Buffer.from(\"HEADER\", \"utf-8\"), hashedMessages, generators);"
   ]
  },
  {
   "cell_type": "code",
   "execution_count": 42,
   "id": "4eb16fad-7190-4cf1-b95a-bb753ac2a29a",
   "metadata": {},
   "outputs": [
    {
     "name": "stdout",
     "output_type": "stream",
     "text": [
      "Uint8Array(80) [\n",
      "  \u001b[33m184\u001b[39m,  \u001b[33m65\u001b[39m, \u001b[33m164\u001b[39m, \u001b[33m247\u001b[39m, \u001b[33m119\u001b[39m, \u001b[33m206\u001b[39m,  \u001b[33m16\u001b[39m, \u001b[33m151\u001b[39m, \u001b[33m102\u001b[39m,  \u001b[33m82\u001b[39m, \u001b[33m197\u001b[39m, \u001b[33m122\u001b[39m,\n",
      "    \u001b[33m4\u001b[39m, \u001b[33m169\u001b[39m, \u001b[33m214\u001b[39m,  \u001b[33m31\u001b[39m,  \u001b[33m73\u001b[39m,  \u001b[33m25\u001b[39m, \u001b[33m231\u001b[39m,  \u001b[33m90\u001b[39m, \u001b[33m202\u001b[39m,  \u001b[33m92\u001b[39m,  \u001b[33m38\u001b[39m,  \u001b[33m94\u001b[39m,\n",
      "  \u001b[33m160\u001b[39m, \u001b[33m243\u001b[39m, \u001b[33m196\u001b[39m, \u001b[33m171\u001b[39m,  \u001b[33m31\u001b[39m, \u001b[33m164\u001b[39m,  \u001b[33m19\u001b[39m,  \u001b[33m62\u001b[39m,  \u001b[33m12\u001b[39m, \u001b[33m246\u001b[39m, \u001b[33m167\u001b[39m, \u001b[33m108\u001b[39m,\n",
      "  \u001b[33m158\u001b[39m, \u001b[33m252\u001b[39m,  \u001b[33m61\u001b[39m,   \u001b[33m8\u001b[39m,  \u001b[33m74\u001b[39m, \u001b[33m253\u001b[39m,  \u001b[33m66\u001b[39m, \u001b[33m245\u001b[39m, \u001b[33m202\u001b[39m, \u001b[33m228\u001b[39m,  \u001b[33m51\u001b[39m, \u001b[33m140\u001b[39m,\n",
      "   \u001b[33m89\u001b[39m,  \u001b[33m47\u001b[39m,  \u001b[33m21\u001b[39m, \u001b[33m101\u001b[39m, \u001b[33m186\u001b[39m,  \u001b[33m54\u001b[39m, \u001b[33m219\u001b[39m, \u001b[33m166\u001b[39m,  \u001b[33m59\u001b[39m, \u001b[33m178\u001b[39m, \u001b[33m217\u001b[39m, \u001b[33m180\u001b[39m,\n",
      "  \u001b[33m131\u001b[39m, \u001b[33m212\u001b[39m, \u001b[33m158\u001b[39m, \u001b[33m205\u001b[39m,  \u001b[33m59\u001b[39m, \u001b[33m228\u001b[39m, \u001b[33m141\u001b[39m,  \u001b[33m76\u001b[39m, \u001b[33m165\u001b[39m,  \u001b[33m66\u001b[39m,  \u001b[33m30\u001b[39m, \u001b[33m132\u001b[39m,\n",
      "  \u001b[33m156\u001b[39m, \u001b[33m195\u001b[39m,  \u001b[33m38\u001b[39m, \u001b[33m188\u001b[39m, \u001b[33m229\u001b[39m, \u001b[33m228\u001b[39m, \u001b[33m231\u001b[39m,  \u001b[33m83\u001b[39m\n",
      "]\n"
     ]
    }
   ],
   "source": [
    "signature"
   ]
  },
  {
   "cell_type": "markdown",
   "id": "99f00e45-2e12-4059-90e2-f36507fac6bb",
   "metadata": {},
   "source": [
    "Both the EID_DATA and signature are transmitted to the EID holder.\n",
    "\n",
    "Then, we assume the holder/ owner of the EID wants to only share name, and profession with a certain entity. \n",
    "\n",
    "## Holder"
   ]
  },
  {
   "cell_type": "code",
   "execution_count": 14,
   "id": "0c2c63ee-1864-4973-883b-7851e5040823",
   "metadata": {},
   "outputs": [
    {
     "name": "stdout",
     "output_type": "stream",
     "text": [
      "[ \u001b[32m'Ahmed'\u001b[39m, \u001b[32m'RSE'\u001b[39m ]\n"
     ]
    }
   ],
   "source": [
    "\n",
    "// holder determines that they want to disclose only the first and last messages (name, profession)\n",
    "const IndexesOfFieldsToDisclose = [0,2]\n",
    "\n",
    "// const HolderGenerators = await bbs.create_generators(messagesToSign.length);\n",
    "\n",
    "// holder generates a proof\n",
    "const proof = bbs.ProofGen(\n",
    "    publicKey, signature, \n",
    "    Buffer.from(\"HEADER\", \"utf-8\"), Buffer.from(\"PRESENTATION HEADER\", \"utf-8\"),\n",
    "    hashedMessages, generators, IndexesOfFieldsToDisclose\n",
    ")\n",
    "const MessagesToDisclose = messagesToSign.filter((val, i) => {return IndexesOfFieldsToDisclose.includes(i)})\n",
    "\n",
    "MessagesToDisclose"
   ]
  },
  {
   "cell_type": "code",
   "execution_count": 20,
   "id": "c86ad52f-01b1-40fe-a554-b50b97404ea5",
   "metadata": {},
   "outputs": [
    {
     "name": "stdout",
     "output_type": "stream",
     "text": [
      "[ \u001b[32m'Ahmed'\u001b[39m, \u001b[32m'RSE'\u001b[39m ]\n"
     ]
    }
   ],
   "source": [
    "// Verifier - received publicKey, proof, disclosed data, disclosed data indexes, all hashed messages\n",
    "\n",
    "const verifierGenerators = await bbs.create_generators(messagesToSign.length);\n",
    "let verifierHashedMessages = MessagesToDisclose.map(message => bbs.MapMessageToScalarAsHash(Buffer.from(message)));\n",
    "\n",
    "bbs.ProofVerify(\n",
    "    publicKey, proof,\n",
    "    Buffer.from(\"HEADER\", \"utf-8\"), Buffer.from(\"PRESENTATION HEADER\", \"utf-8\"),\n",
    "    verifierHashedMessages, verifierGenerators, IndexesOfFieldsToDisclose\n",
    ");\n",
    "\n",
    "MessagesToDisclose"
   ]
  },
  {
   "cell_type": "code",
   "execution_count": 18,
   "id": "2bd175fc-f4d8-48d1-9e0f-91085eec85fe",
   "metadata": {},
   "outputs": [
    {
     "name": "stderr",
     "output_type": "stream",
     "text": [
      "\u001b[31mInvalid proof (cv)\u001b[39m\n"
     ]
    }
   ],
   "source": [
    "// Testing with fake data\n",
    "const fakeMessages = ['Ahmed', 'CEO']\n",
    "\n",
    "const verifierGenerators = await bbs.create_generators(messagesToSign.length);\n",
    "\n",
    "// we use fakeMessages instead of MessagesToDisclose here\n",
    "let verifierHashedMessages = fakeMessages.map(message => bbs.MapMessageToScalarAsHash(Buffer.from(message)));\n",
    "\n",
    "bbs.ProofVerify(\n",
    "    publicKey, proof,\n",
    "    Buffer.from(\"HEADER\", \"utf-8\"), Buffer.from(\"PRESENTATION HEADER\", \"utf-8\"),\n",
    "    verifierHashedMessages, verifierGenerators, IndexesOfFieldsToDisclose\n",
    ");\n",
    "\n",
    "MessagesToDisclose"
   ]
  },
  {
   "cell_type": "code",
   "execution_count": 37,
   "id": "c3724b65-e13d-491f-9961-46038f185838",
   "metadata": {},
   "outputs": [
    {
     "name": "stdout",
     "output_type": "stream",
     "text": [
      "\u001b[33mfalse\u001b[39m\n"
     ]
    }
   ],
   "source": [
    "// Unlinkability \n",
    "\n",
    "const customGenerators = await bbs.create_generators(messagesToSign.length);\n",
    "\n",
    "const proof1 = bbs.ProofGen(\n",
    "    publicKey, signature, \n",
    "    Buffer.from(\"HEADER\", \"utf-8\"), Buffer.from(\"PRESENTATION HEADER\", \"utf-8\"),\n",
    "    hashedMessages, customGenerators, IndexesOfFieldsToDisclose\n",
    ")\n",
    "\n",
    "const proof2 = bbs.ProofGen(\n",
    "    publicKey, signature, \n",
    "    Buffer.from(\"HEADER\", \"utf-8\"), Buffer.from(\"PRESENTATION HEADER\", \"utf-8\"),\n",
    "    hashedMessages, customGenerators, IndexesOfFieldsToDisclose\n",
    ")\n",
    "\n",
    "proof1 == proof2"
   ]
  },
  {
   "cell_type": "code",
   "execution_count": 40,
   "id": "c4c24ba1-5324-44a3-8eeb-b966611f378d",
   "metadata": {},
   "outputs": [
    {
     "name": "stdout",
     "output_type": "stream",
     "text": [
      "9616cfc41adb753c7c5a497d96a3d224c464eb7b8e34c2b24f567a2894dc5fc0bf8df7f5a96531578baf7329006f037eb2df3e8fede8284a06be705525215298aa1e67b3e1339dd497cf422c14477bb29d2d9b1a1f0f448698c1d8cbdfb799db8903c9758342160107dbba542b1b08e2268e1e35a698968ddc88cfe65f7a2049a6b08b2646b64ad4c922974aa91ad76725dac7ebc3174cb39f9f79a2ca5d87b2eee78db77874ea72f4811ecc86a7f6d04d6c51700a8939283893c6259e0c6c5ea8aad7895f2ff5420bae44926fe539470515dbc9e0a8a6a79ca7d6c670d038f128d8a42cc09117431ec8c4dd7f28459529aeb4b3906845616aad0e85b0f8142a7630d85cbd81a76ed44b68a00532a06c1bb3d898852053d698c0c69dd7e3495f8543c462a05ca5a2eebe14fdc75ce03d\n"
     ]
    }
   ],
   "source": [
    "new Buffer(proof2).toString(\"hex\")"
   ]
  },
  {
   "cell_type": "code",
   "execution_count": 41,
   "id": "2dece3e3-04cd-4c71-9c3e-756e900fa24d",
   "metadata": {},
   "outputs": [
    {
     "name": "stdout",
     "output_type": "stream",
     "text": [
      "932c1b994f6408ce1b64581225928e72208f5edf68111c1c5e146e3fd4821abcbbb641795846325728b178ffd4f604d889f8650816efd4cc09af91aa2138345867dea4bb634a28ceed9019892b4ac55e79f4509413d8a2f63c83e9e2e7fa7592b144ed1efa50df08086c28fe6248c2dff505677bb9a962e690de543c588cb4dda0335d73051762df2c854dc2e2277c371375fefd7453eafc6c7a58381e05a21d0b2b81bcbcc2d447d977a6a7caccd92c2855c834f7784587171dd994450a6eff0b9259a866bc676ecfdf22d8427c7c3c2b8af9d01d6f01caf84624c8fabf626c752cf5155cff04da1855732f7de794051b7b337981c3259141306d2d459fd381ed8cf859e78600c36d33510a85e657246e9bd4a9299bd6e18247632e7f2a137e6f8e1d6c9c3211493abe52e8a347bc98\n"
     ]
    }
   ],
   "source": [
    "new Buffer(proof1).toString(\"hex\")"
   ]
  }
 ],
 "metadata": {
  "kernelspec": {
   "display_name": "TypeScript",
   "language": "typescript",
   "name": "tslab"
  },
  "language_info": {
   "codemirror_mode": {
    "mode": "typescript",
    "name": "javascript",
    "typescript": true
   },
   "file_extension": ".ts",
   "mimetype": "text/typescript",
   "name": "typescript",
   "version": "3.7.2"
  }
 },
 "nbformat": 4,
 "nbformat_minor": 5
}
