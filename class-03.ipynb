{
 "cells": [
  {
   "cell_type": "markdown",
   "id": "2856edce-b316-4d47-a561-668a4edc2bc0",
   "metadata": {},
   "source": [
    "### Welcome to the third class on E-ID in this 3-class series\n",
    "Before we start, make sure you have everything installed by following one of the outlined methods in the ReadMe file. \n",
    "\n",
    "### Purpose of this exercise\n",
    "This jupyter notebook explains the following:\n",
    "1. Zero-Knowledge proofs and specifically range proofs using BBS\n",
    "2. How to use them using BulletProof++\n",
    "3. How to use them using LegoGroth16\n",
    "4. All examples here will use the **docknetwork crypto library**"
   ]
  },
  {
   "cell_type": "code",
   "execution_count": 6,
   "id": "26a04d81-9345-4bac-9a53-5cc15d5fd592",
   "metadata": {},
   "outputs": [],
   "source": [
    "const E_ID_SCHEMA = {\n",
    "    type: 'object',\n",
    "    properties: {\n",
    "        name: { type: 'string' },\n",
    "        profession: { type: 'string' },\n",
    "        age: { type: 'integer', minimum: 0, maximum: 120},\n",
    "    }\n",
    "}\n",
    "const E_ID_DATA = {\n",
    "    name: \"Jack Sparrow\",\n",
    "    age: 61,\n",
    "    profession: \"IT Manager\"\n",
    "}"
   ]
  },
  {
   "cell_type": "code",
   "execution_count": 2,
   "id": "7fe47f62-9b21-474a-982a-9dc17efbec52",
   "metadata": {},
   "outputs": [],
   "source": [
    "import { initializeWasm } from '@docknetwork/crypto-wasm-ts'\n",
    "await initializeWasm();"
   ]
  },
  {
   "cell_type": "markdown",
   "id": "54ecc8ab-24e2-4fb6-9499-1a47977a62e2",
   "metadata": {},
   "source": [
    "## Issuer"
   ]
  },
  {
   "cell_type": "code",
   "execution_count": 5,
   "id": "1c30011b-a462-4096-8666-2845db3362a1",
   "metadata": {},
   "outputs": [],
   "source": [
    "// Generating a keypair once signature parameters are created.\n",
    "import { BBSKeypair, BBSSignatureParams, BBS_SIGNATURE_PARAMS_LABEL_BYTES } from '@docknetwork/crypto-wasm-ts';\n",
    "\n",
    "const stringToBytes = (str: string) => Uint8Array.from(Buffer.from(str, \"utf-8\"));\n",
    "\n",
    "const params = BBSSignatureParams.generate(100, BBS_SIGNATURE_PARAMS_LABEL_BYTES);\n",
    "const keypair = BBSKeypair.generate(params, stringToBytes('seed1'));\n",
    "\n",
    "const secretKey = keypair.secretKey;\n",
    "const publicKey = keypair.publicKey;"
   ]
  },
  {
   "cell_type": "code",
   "execution_count": 8,
   "id": "1438940b-20ee-48d1-aa1a-111f1bd5256a",
   "metadata": {},
   "outputs": [],
   "source": [
    "// Issing a credential based on the E-ID data based on the specified schema\n",
    "import { CredentialSchema, BBSCredentialBuilder, BBSCredential, SUBJECT_STR } from '@docknetwork/crypto-wasm-ts'\n",
    "\n",
    "const schema = CredentialSchema.essential();\n",
    "schema.properties[SUBJECT_STR] = E_ID_SCHEMA\n",
    "\n",
    "const builder = new BBSCredentialBuilder();\n",
    "builder.schema = new CredentialSchema(schema);\n",
    "builder.subject = E_ID_DATA\n",
    "\n",
    "const credential = builder.sign(secretKey);\n",
    "\n",
    "const credentialToSendToHolder = credential.toJSON()"
   ]
  },
  {
   "cell_type": "markdown",
   "id": "9bb6dace-0878-48c7-a413-adc8e94ed36e",
   "metadata": {},
   "source": [
    "## Credential Holder"
   ]
  },
  {
   "cell_type": "code",
   "execution_count": 9,
   "id": "493d049b-3267-4826-a621-4bb8027830cb",
   "metadata": {},
   "outputs": [],
   "source": [
    "// This section establishes a range proof capability based on the LegoGroth16 algorithm\n",
    "import { BoundCheckSnarkSetup, SetupParam } from '@docknetwork/crypto-wasm-ts';\n",
    "const provingKey = BoundCheckSnarkSetup();\n",
    "const snarkProvingKey = provingKey.decompress();\n",
    "const snarkVerifyingKey = provingKey.getVerifyingKeyUncompressed();"
   ]
  },
  {
   "cell_type": "code",
   "execution_count": 10,
   "id": "b70c8b80-d9c7-4f37-b36f-2306d4386b9e",
   "metadata": {},
   "outputs": [],
   "source": [
    "import { PresentationBuilder } from '@docknetwork/crypto-wasm-ts'\n",
    "const builder = new PresentationBuilder();\n",
    "builder.addCredential(credential, publicKey)\n",
    "builder.markAttributesRevealed(0, new Set<string>(['credentialSubject.name', 'credentialSubject.profession']));\n",
    "builder.enforceBounds(0, 'credentialSubject.age', 18, 64, 'random', snarkProvingKey);\n",
    "\n",
    "const presentation = builder.finalize();"
   ]
  },
  {
   "cell_type": "markdown",
   "id": "34e1eda7-00b0-4494-806a-0cf0d90297ba",
   "metadata": {},
   "source": [
    "### sending data to Verifier\n",
    "data: \n",
    "1. selected data to be revealed\n",
    "2. Schema of the credential\n",
    "3. Proof of signature\n",
    "4. \n",
    "\n",
    "All these info and more are stored in the \"presentation object\". Note that this object is a completely serializable JSON object.\n",
    "\n",
    "## Verifier"
   ]
  },
  {
   "cell_type": "code",
   "execution_count": 12,
   "id": "9a7ae62e-a246-4aa0-91d3-f95f9d1a58bf",
   "metadata": {},
   "outputs": [
    {
     "name": "stdout",
     "output_type": "stream",
     "text": [
      "{\n",
      "  version: \u001b[32m'0.7.0'\u001b[39m,\n",
      "  schema: {\n",
      "    details: \u001b[32m'{\"jsonSchema\":{\"$schema\":\"http://json-schema.org/draft-07/schema#\",\"definitions\":{\"encryptableCompString\":{\"type\":\"string\"},\"encryptableString\":{\"type\":\"string\"}},\"properties\":{\"credentialSubject\":{\"properties\":{\"age\":{\"maximum\":120,\"minimum\":0,\"type\":\"integer\"},\"name\":{\"type\":\"string\"},\"profession\":{\"type\":\"string\"}},\"type\":\"object\"},\"proof\":{\"properties\":{\"type\":{\"type\":\"string\"}},\"type\":\"object\"}},\"type\":\"object\"},\"parsingOptions\":{\"defaultDecimalPlaces\":0,\"defaultMinimumDate\":-17592186044415,\"defaultMinimumInteger\":-4294967295,\"useDefaults\":false}}'\u001b[39m,\n",
      "    id: \u001b[32m'data:application/json;charset=utf-8,'\u001b[39m,\n",
      "    type: \u001b[32m'JsonSchemaValidator2018'\u001b[39m,\n",
      "    version: \u001b[32m'0.5.0'\u001b[39m\n",
      "  },\n",
      "  revealedAttributes: {\n",
      "    credentialSubject: { name: \u001b[32m'Jack Sparrow'\u001b[39m, profession: \u001b[32m'IT Manager'\u001b[39m }\n",
      "  },\n",
      "  bounds: { credentialSubject: { age: \u001b[36m[Array]\u001b[39m } },\n",
      "  sigType: \u001b[32m'Bls12381BBSSignatureDock2023'\u001b[39m\n",
      "}\n"
     ]
    }
   ],
   "source": [
    "const receivedObjectOnVerifierSide = presentation.toJSON()\n",
    "receivedObjectOnVerifierSide  // Assume this was serialized and sent across an API to the verifier.\n",
    "presentation.spec.credentials[0]"
   ]
  },
  {
   "cell_type": "code",
   "execution_count": 13,
   "id": "577d5945-088f-4fbd-a54a-9e851de8c0d1",
   "metadata": {},
   "outputs": [
    {
     "name": "stdout",
     "output_type": "stream",
     "text": [
      "{ verified: \u001b[33mtrue\u001b[39m, error: \u001b[90mundefined\u001b[39m }\n"
     ]
    }
   ],
   "source": [
    "import { Presentation } from '@docknetwork/crypto-wasm-ts'\n",
    "\n",
    "const predicateParams = new Map([['random', snarkVerifyingKey]]);\n",
    "\n",
    "const recreatedPres = Presentation.fromJSON(receivedObjectOnVerifierSide)\n",
    "recreatedPres.verify([publicKey], undefined, predicateParams, undefined, undefined, undefined)"
   ]
  },
  {
   "cell_type": "code",
   "execution_count": 18,
   "id": "0864791b-3582-4ab6-994e-6c45dfcf4dae",
   "metadata": {},
   "outputs": [
    {
     "name": "stdout",
     "output_type": "stream",
     "text": [
      "{\n",
      "  age: [ { min: \u001b[33m18\u001b[39m, max: \u001b[33m64\u001b[39m, paramId: \u001b[32m'random'\u001b[39m, protocol: \u001b[32m'LegoGroth16'\u001b[39m } ]\n",
      "}\n"
     ]
    }
   ],
   "source": [
    "presentation.spec.credentials[0].bounds.credentialSubject"
   ]
  },
  {
   "cell_type": "code",
   "execution_count": null,
   "id": "19c84df4-1f4c-484d-8131-171adad59a50",
   "metadata": {},
   "outputs": [],
   "source": []
  }
 ],
 "metadata": {
  "kernelspec": {
   "display_name": "TypeScript",
   "language": "typescript",
   "name": "tslab"
  },
  "language_info": {
   "codemirror_mode": {
    "mode": "typescript",
    "name": "javascript",
    "typescript": true
   },
   "file_extension": ".ts",
   "mimetype": "text/typescript",
   "name": "typescript",
   "version": "3.7.2"
  }
 },
 "nbformat": 4,
 "nbformat_minor": 5
}
