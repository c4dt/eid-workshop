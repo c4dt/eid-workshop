{
 "cells": [
  {
   "cell_type": "markdown",
   "id": "8a8017a7-2e57-4fda-8007-2836dd5b5819",
   "metadata": {},
   "source": [
    "## Install typescript: tslab "
   ]
  },
  {
   "cell_type": "code",
   "execution_count": 2,
   "id": "9f3318d0-2a10-4d6d-be7c-86da672fecb4",
   "metadata": {},
   "outputs": [],
   "source": [
    "import { initializeWasm } from '@docknetwork/crypto-wasm-ts'\n",
    "await initializeWasm();"
   ]
  },
  {
   "cell_type": "code",
   "execution_count": 3,
   "id": "bcca6c24-ab8b-4904-832d-081697c440c1",
   "metadata": {},
   "outputs": [],
   "source": [
    "const EID_CREDENTIAL = {\n",
    "    name: \"Michael Jackson\",\n",
    "    age: \"50\",\n",
    "    profession: \"RSE\",\n",
    "    project: \"EID\"\n",
    "}\n",
    "const CREDENTIAL_DATA = Object.values(EID_CREDENTIAL)"
   ]
  },
  {
   "cell_type": "code",
   "execution_count": 4,
   "id": "6095a054-a6c1-40fc-84b1-bbc8da496c00",
   "metadata": {},
   "outputs": [],
   "source": [
    "const stringToBytes = (str: string) => Uint8Array.from(Buffer.from(str, \"utf-8\"));"
   ]
  },
  {
   "cell_type": "code",
   "execution_count": 5,
   "id": "9bf3603a-73c8-43a7-80d8-fc7a99146674",
   "metadata": {},
   "outputs": [],
   "source": [
    "import { BBSPlusSignatureParamsG1, BBSPlusKeypairG2 } from '@docknetwork/crypto-wasm-ts';\n",
    "const messageCount = CREDENTIAL_DATA.length;\n",
    "\n",
    "const label = stringToBytes(\"My signature params\");\n",
    "\n",
    "// Deterministically generated params\n",
    "const paramsDeterministc = BBSPlusSignatureParamsG1.generate(messageCount, label);\n",
    "\n",
    "// Generating a keypair once signature parameters are created.\n",
    "\n",
    "const keypair = BBSPlusKeypairG2.generate(paramsDeterministc);\n",
    "const sk = keypair.secretKey;\n",
    "const pk = keypair.publicKey;\n"
   ]
  },
  {
   "cell_type": "code",
   "execution_count": 8,
   "id": "58c1ddac-e07a-417c-8951-da0175c758da",
   "metadata": {},
   "outputs": [
    {
     "name": "stdout",
     "output_type": "stream",
     "text": [
      "{ verified: \u001b[33mtrue\u001b[39m, error: \u001b[90mundefined\u001b[39m }\n"
     ]
    }
   ],
   "source": [
    "import { BBSPlusSignatureG1 } from '@docknetwork/crypto-wasm-ts'\n",
    "// Encoding messages\n",
    "const encodedMessages = CREDENTIAL_DATA.map(element => stringToBytes(element));\n",
    "\n",
    "// The signing function will encode bytes to a field element as true is passed\n",
    "const sig = BBSPlusSignatureG1.generate(encodedMessages, sk, paramsDeterministc, true);\n",
    "\n",
    "// As the messages are not encoded, pass true to the verification function to make it encode messages before verifying the signature.\n",
    "sig.verify(encodedMessages, pk, paramsDeterministc, true);"
   ]
  },
  {
   "cell_type": "markdown",
   "id": "dfc21a43-96fb-487a-a9a1-1fa6ea5e70c3",
   "metadata": {},
   "source": [
    "# Selective Disclosure "
   ]
  },
  {
   "cell_type": "code",
   "execution_count": 18,
   "id": "f17fc79e-b66f-4e9c-bc44-a19a2773e67d",
   "metadata": {},
   "outputs": [],
   "source": [
    "import {Statement, Statements, MetaStatements, ProofSpec, Witness, Witnesses, CompositeProof} from '@docknetwork/crypto-wasm-ts';\n",
    "\n",
    "// Prover prepares the attributes he wants to disclose, i.e. attribute index 2 and 4 (indexing is 0-based), and the ones he wants to hide. \n",
    "const revealedMsgIndices: Set<number> = new Set([2, 1]); \n",
    "\n",
    "// revealedMsgs are the attributes disclosed to the verifier\n",
    "const revealedMsgs: Map<number, Uint8Array> = new Map([\n",
    "  [1, encodedMessages[1]],\n",
    "  [2, encodedMessages[2]]\n",
    "]); \n",
    "\n",
    "const unrevealedMsgs: Map<number, Uint8Array> = new Map([\n",
    "  [0, encodedMessages[0]],\n",
    "  [3, encodedMessages[3]]\n",
    "]); \n",
    "\n",
    "// Create a BBS signature, true indicates that attributes/messages are arbitrary bytes and should be encoded first\n",
    "const statement1 = Statement.bbsPlusSignatureProverConstantTime(paramsDeterministc, revealedMsgs, true);\n",
    "const statements = new Statements();\n",
    "statements.add(statement1);\n",
    "\n",
    "const ms = new MetaStatements();\n",
    "const proofSpec = new ProofSpec(statements, ms, [], stringToBytes(\"Awesome Proof - test 001\"));\n",
    "\n",
    "const witness1 = Witness.bbsPlusSignatureConstantTime(sig, unrevealedMsgs, true);\n",
    "const witnesses = new Witnesses();\n",
    "witnesses.add(witness1);\n",
    "\n",
    "const nonce = stringToBytes('a unique nonce given by verifier');\n",
    "const proof = CompositeProof.generate(proofSpec, witnesses, nonce);\n",
    "\n"
   ]
  },
  {
   "cell_type": "code",
   "execution_count": 13,
   "id": "e4f8fa6a-73b4-4954-9f80-f0ce7c8a6b13",
   "metadata": {},
   "outputs": [
    {
     "name": "stdout",
     "output_type": "stream",
     "text": [
      "{ verified: \u001b[33mtrue\u001b[39m, error: \u001b[90mundefined\u001b[39m }\n"
     ]
    }
   ],
   "source": [
    "const verifierStatement1 = Statement.bbsPlusSignatureVerifierConstantTime(paramsDeterministc, pk, revealedMsgs, true);\n",
    "const verifierStatements = new Statements();\n",
    "verifierStatements.add(verifierStatement1);\n",
    "\n",
    "const verifierMS = new MetaStatements();\n",
    "const verifierProofSpec = new ProofSpec(verifierStatements, verifierMS, [], stringToBytes(\"Awesome Proof - test 001\"));\n",
    "\n",
    "const verifierWitness1 = Witness.bbsPlusSignature(sig, unrevealedMsgs, true);\n",
    "const verifierWitnesses = new Witnesses();\n",
    "verifierWitnesses.add(verifierWitness1);\n",
    "\n",
    "const verifierNonce = stringToBytes('a unique nonce given by verifier');\n",
    "\n",
    "proof.verify(verifierProofSpec, verifierNonce)"
   ]
  },
  {
   "cell_type": "code",
   "execution_count": null,
   "id": "f6b678c3-bcfe-480a-82ae-dd732bba8afb",
   "metadata": {},
   "outputs": [],
   "source": [
    "proof.hex"
   ]
  }
 ],
 "metadata": {
  "kernelspec": {
   "display_name": "TypeScript",
   "language": "typescript",
   "name": "tslab"
  },
  "language_info": {
   "codemirror_mode": {
    "mode": "typescript",
    "name": "javascript",
    "typescript": true
   },
   "file_extension": ".ts",
   "mimetype": "text/typescript",
   "name": "typescript",
   "version": "3.7.2"
  }
 },
 "nbformat": 4,
 "nbformat_minor": 5
}
