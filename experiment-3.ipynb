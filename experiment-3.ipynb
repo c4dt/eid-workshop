{
 "cells": [
  {
   "cell_type": "code",
   "execution_count": 1,
   "id": "9f3318d0-2a10-4d6d-be7c-86da672fecb4",
   "metadata": {},
   "outputs": [],
   "source": [
    "import { initializeWasm } from '@docknetwork/crypto-wasm-ts'\n",
    "await initializeWasm();"
   ]
  },
  {
   "cell_type": "code",
   "execution_count": 2,
   "id": "bcca6c24-ab8b-4904-832d-081697c440c1",
   "metadata": {},
   "outputs": [],
   "source": [
    "const EID_CREDENTIAL = {\n",
    "    name: \"Michael Jackson\",\n",
    "    age: \"50\",\n",
    "    profession: \"RSE\",\n",
    "    project: \"EID\"\n",
    "}\n",
    "const CREDENTIAL_DATA = Object.values(EID_CREDENTIAL)"
   ]
  },
  {
   "cell_type": "code",
   "execution_count": 3,
   "id": "6095a054-a6c1-40fc-84b1-bbc8da496c00",
   "metadata": {},
   "outputs": [],
   "source": [
    "const stringToBytes = (str: string) => Uint8Array.from(Buffer.from(str, \"utf-8\"));"
   ]
  },
  {
   "cell_type": "code",
   "execution_count": 4,
   "id": "9bf3603a-73c8-43a7-80d8-fc7a99146674",
   "metadata": {},
   "outputs": [],
   "source": [
    "import { BBSPlusSignatureParamsG1, BBSPlusKeypairG2 } from '@docknetwork/crypto-wasm-ts';\n",
    "const messageCount = CREDENTIAL_DATA.length;\n",
    "\n",
    "const label = stringToBytes(\"My signature params\");\n",
    "\n",
    "// Deterministically generated params\n",
    "const paramsDeterministc = BBSPlusSignatureParamsG1.generate(messageCount, label);\n",
    "\n",
    "// Generating a keypair once signature parameters are created.\n",
    "\n",
    "const keypair = BBSPlusKeypairG2.generate(paramsDeterministc);\n",
    "const sk = keypair.secretKey;\n",
    "const pk = keypair.publicKey;\n"
   ]
  },
  {
   "cell_type": "code",
   "execution_count": 5,
   "id": "58c1ddac-e07a-417c-8951-da0175c758da",
   "metadata": {},
   "outputs": [
    {
     "name": "stdout",
     "output_type": "stream",
     "text": [
      "{ verified: \u001b[33mtrue\u001b[39m, error: \u001b[90mundefined\u001b[39m }\n"
     ]
    }
   ],
   "source": [
    "import { BBSPlusSignatureG1 } from '@docknetwork/crypto-wasm-ts'\n",
    "// Encoding messages\n",
    "const encodedMessages = CREDENTIAL_DATA.map(element => stringToBytes(element));\n",
    "\n",
    "// The signing function will encode bytes to a field element as true is passed\n",
    "const sig = BBSPlusSignatureG1.generate(encodedMessages, sk, paramsDeterministc, true);\n",
    "\n",
    "// As the messages are not encoded, pass true to the verification function to make it encode messages before verifying the signature.\n",
    "sig.verify(encodedMessages, pk, paramsDeterministc, true);"
   ]
  },
  {
   "cell_type": "markdown",
   "id": "dfc21a43-96fb-487a-a9a1-1fa6ea5e70c3",
   "metadata": {},
   "source": [
    "# Selective Disclosure "
   ]
  },
  {
   "cell_type": "code",
   "execution_count": 6,
   "id": "f17fc79e-b66f-4e9c-bc44-a19a2773e67d",
   "metadata": {},
   "outputs": [],
   "source": [
    "import {Statement, Statements, MetaStatements, ProofSpec, Witness, Witnesses, CompositeProof} from '@docknetwork/crypto-wasm-ts';\n",
    "\n",
    "// Prover prepares the attributes he wants to disclose, i.e. attribute index 2 and 4 (indexing is 0-based), and the ones he wants to hide. \n",
    "const revealedMsgIndices: Set<number> = new Set([2, 1]); \n",
    "\n",
    "// revealedMsgs are the attributes disclosed to the verifier\n",
    "const revealedMsgs: Map<number, Uint8Array> = new Map([\n",
    "  [1, encodedMessages[1]],\n",
    "  [2, encodedMessages[2]]\n",
    "]); \n",
    "\n",
    "const unrevealedMsgs: Map<number, Uint8Array> = new Map([\n",
    "  [0, encodedMessages[0]],\n",
    "  [3, encodedMessages[3]]\n",
    "]); \n",
    "\n",
    "// Create a BBS signature, true indicates that attributes/messages are arbitrary bytes and should be encoded first\n",
    "const statement1 = Statement.bbsPlusSignatureProverConstantTime(paramsDeterministc, revealedMsgs, true);\n",
    "const statements = new Statements();\n",
    "statements.add(statement1);\n",
    "\n",
    "const ms = new MetaStatements();\n",
    "const proofSpec = new ProofSpec(statements, ms, [], stringToBytes(\"Awesome Proof - test 001\"));\n",
    "\n",
    "const witness1 = Witness.bbsPlusSignatureConstantTime(sig, unrevealedMsgs, true);\n",
    "const witnesses = new Witnesses();\n",
    "witnesses.add(witness1);\n",
    "\n",
    "const nonce = stringToBytes('a unique nonce given by verifier');\n",
    "const proof = CompositeProof.generate(proofSpec, witnesses, nonce);\n",
    "\n"
   ]
  },
  {
   "cell_type": "code",
   "execution_count": 7,
   "id": "e4f8fa6a-73b4-4954-9f80-f0ce7c8a6b13",
   "metadata": {},
   "outputs": [
    {
     "name": "stdout",
     "output_type": "stream",
     "text": [
      "{ verified: \u001b[33mtrue\u001b[39m, error: \u001b[90mundefined\u001b[39m }\n"
     ]
    }
   ],
   "source": [
    "const verifierStatement1 = Statement.bbsPlusSignatureVerifierConstantTime(paramsDeterministc, pk, revealedMsgs, true);\n",
    "const verifierStatements = new Statements();\n",
    "verifierStatements.add(verifierStatement1);\n",
    "\n",
    "const verifierMS = new MetaStatements();\n",
    "const verifierProofSpec = new ProofSpec(verifierStatements, verifierMS, [], stringToBytes(\"Awesome Proof - test 001\"));\n",
    "\n",
    "const verifierWitness1 = Witness.bbsPlusSignature(sig, unrevealedMsgs, true);\n",
    "const verifierWitnesses = new Witnesses();\n",
    "verifierWitnesses.add(verifierWitness1);\n",
    "\n",
    "const verifierNonce = stringToBytes('a unique nonce given by verifier');\n",
    "\n",
    "proof.verify(verifierProofSpec, verifierNonce)"
   ]
  },
  {
   "cell_type": "code",
   "execution_count": 8,
   "id": "f6b678c3-bcfe-480a-82ae-dd732bba8afb",
   "metadata": {},
   "outputs": [
    {
     "name": "stdout",
     "output_type": "stream",
     "text": [
      "0100000000000000009317502974448bd3739187e89f00ef3ad6f8c884497626bf38a10301f9d39fe9bc7dd86079dd1ffe77cfa79ebec80e0c8853e4683ff891893083808a138a0d3707b0c1a7a41b261da1a02038b688d68b035fb155531df633dc1dec8b2c05ba848e616efb9eebcb5f426276a87adc55c50e65f68d5e8ddc607d7f8716a8145848652f0867c9dfa5aa70ae6c98ab9993c5b332899d8f9dd47e661cc3cfd656495799e33b5b6a101d3e12707dd52ff6c863af27c5443ec9ce2138780e861c5d9f4a8ea11c2d67c09d37e5a7ecae19e074072589d09bf8baa987afe35eebab3b730b6225f9dd37caa9309b925cdb4938d082fb08a7c3bedf02b19d3fde9df3d7ee1395734ec475d6c19624bc389d9ec1b15c512cccc2d75b8d09fe01887b50dca8a60b06425bd1eac9fff529e583a7a3787504000000000000002809ea57eb2a9635acae2abb0371f78c25cab23b9428e3062472925e9eddf45bab918edf0e7290970787b50b5b49f76c9219a1e53b8969197d569bf80ca500368b1360d2e572e390fa144c92443cedac98735501ccf41ca2f8f6f0b63ca6d465b56edfc8a5fa6f2616b51aa16d8bdea1cdb6c0744ab0c816722bad7e5633595300000000000000000000\n"
     ]
    }
   ],
   "source": [
    "proof.hex"
   ]
  },
  {
   "cell_type": "code",
   "execution_count": 14,
   "id": "851a3d6a-cb40-41bd-a12c-ec87411f10ed",
   "metadata": {},
   "outputs": [
    {
     "name": "stdout",
     "output_type": "stream",
     "text": [
      "\u001b[33mfalse\u001b[39m\n"
     ]
    }
   ],
   "source": [
    "// Generating another proof \n",
    "const proof2 = CompositeProof.generate(proofSpec, witnesses, nonce);\n",
    "proof == proof2  \n",
    "// false -- different proofs even for the same Verifiable credential\n",
    "// This results in unlinkability between the different proofs (with regards to verifiers)"
   ]
  },
  {
   "cell_type": "code",
   "execution_count": null,
   "id": "761bf7e5-d4ba-409e-b156-e8585138110b",
   "metadata": {},
   "outputs": [],
   "source": []
  }
 ],
 "metadata": {
  "kernelspec": {
   "display_name": "TypeScript",
   "language": "typescript",
   "name": "tslab"
  },
  "language_info": {
   "codemirror_mode": {
    "mode": "typescript",
    "name": "javascript",
    "typescript": true
   },
   "file_extension": ".ts",
   "mimetype": "text/typescript",
   "name": "typescript",
   "version": "3.7.2"
  }
 },
 "nbformat": 4,
 "nbformat_minor": 5
}
